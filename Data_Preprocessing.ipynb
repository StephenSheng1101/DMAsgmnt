{
  "nbformat": 4,
  "nbformat_minor": 0,
  "metadata": {
    "colab": {
      "provenance": [],
      "authorship_tag": "ABX9TyO/Xg6vRv5DsOrMQ3o/0Gsr",
      "include_colab_link": true
    },
    "kernelspec": {
      "name": "python3",
      "display_name": "Python 3"
    },
    "language_info": {
      "name": "python"
    }
  },
  "cells": [
    {
      "cell_type": "markdown",
      "metadata": {
        "id": "view-in-github",
        "colab_type": "text"
      },
      "source": [
        "<a href=\"https://colab.research.google.com/github/StephenSheng1101/DMAsgmnt/blob/main/Data_Preprocessing.ipynb\" target=\"_parent\"><img src=\"https://colab.research.google.com/assets/colab-badge.svg\" alt=\"Open In Colab\"/></a>"
      ]
    },
    {
      "cell_type": "code",
      "execution_count": 49,
      "metadata": {
        "id": "n-KNSVpIdB0a"
      },
      "outputs": [],
      "source": [
        "from pathlib import Path\n",
        "import pandas as pd\n",
        "import tarfile\n",
        "import urllib.request\n",
        "import numpy as np\n",
        "import matplotlib.pyplot as plt\n",
        "import sklearn"
      ]
    },
    {
      "cell_type": "code",
      "source": [
        "df = pd.read_csv(\"dataset.csv\")"
      ],
      "metadata": {
        "id": "FljwOHLemldH"
      },
      "execution_count": 50,
      "outputs": []
    },
    {
      "cell_type": "code",
      "source": [
        "def load_transport_data():\n",
        "    tarball_path = Path(\"/content/dataset.csv\")\n",
        "    if not tarball_path.is_file():\n",
        "        Path(\"datasets\").mkdir(parents=True, exist_ok=True)\n",
        "        with tarfile.open(tarball_path) as transport_tarball:\n",
        "            transport_tarball.extractall(path=\"datasets\")\n",
        "    return pd.read_csv(Path(\"/content/dataset.csv\"))\n",
        "\n",
        "transport = load_transport_data()\n",
        "transport.head()"
      ],
      "metadata": {
        "colab": {
          "base_uri": "https://localhost:8080/",
          "height": 357
        },
        "id": "vrb-tzuImnP3",
        "outputId": "f8d71656-90fc-42dd-ccf7-e6288f0513af"
      },
      "execution_count": 51,
      "outputs": [
        {
          "output_type": "execute_result",
          "data": {
            "text/plain": [
              "        ID  travel_fee             departure_time  departure_long  \\\n",
              "0  54:00.0         7.0  2013-07-02 19:54:00+00:00      -74.005360   \n",
              "1  21:31.0         5.5  2013-09-28 00:21:31+00:00      -74.014165   \n",
              "2  18:00.0        21.5  2013-06-16 03:18:00+00:00      -73.991075   \n",
              "3  43:00.0         9.5  2013-07-20 13:43:00+00:00      -74.002662   \n",
              "4  57:17.0        15.5  2013-11-05 22:57:17+00:00      -73.962397   \n",
              "\n",
              "   departure_lat  arrival_long  arrival_lat  occupancy  \n",
              "0      40.728867    -74.008913    40.710907          1  \n",
              "1      40.708941    -74.016310    40.716734          1  \n",
              "2      40.760352    -73.941382    40.713292          1  \n",
              "3      40.723630    -73.991722    40.748905          5  \n",
              "4      40.712705    -73.996834    40.680403          2  "
            ],
            "text/html": [
              "\n",
              "\n",
              "  <div id=\"df-bdecd65c-3983-46e2-92a5-bf1593d12c23\">\n",
              "    <div class=\"colab-df-container\">\n",
              "      <div>\n",
              "<style scoped>\n",
              "    .dataframe tbody tr th:only-of-type {\n",
              "        vertical-align: middle;\n",
              "    }\n",
              "\n",
              "    .dataframe tbody tr th {\n",
              "        vertical-align: top;\n",
              "    }\n",
              "\n",
              "    .dataframe thead th {\n",
              "        text-align: right;\n",
              "    }\n",
              "</style>\n",
              "<table border=\"1\" class=\"dataframe\">\n",
              "  <thead>\n",
              "    <tr style=\"text-align: right;\">\n",
              "      <th></th>\n",
              "      <th>ID</th>\n",
              "      <th>travel_fee</th>\n",
              "      <th>departure_time</th>\n",
              "      <th>departure_long</th>\n",
              "      <th>departure_lat</th>\n",
              "      <th>arrival_long</th>\n",
              "      <th>arrival_lat</th>\n",
              "      <th>occupancy</th>\n",
              "    </tr>\n",
              "  </thead>\n",
              "  <tbody>\n",
              "    <tr>\n",
              "      <th>0</th>\n",
              "      <td>54:00.0</td>\n",
              "      <td>7.0</td>\n",
              "      <td>2013-07-02 19:54:00+00:00</td>\n",
              "      <td>-74.005360</td>\n",
              "      <td>40.728867</td>\n",
              "      <td>-74.008913</td>\n",
              "      <td>40.710907</td>\n",
              "      <td>1</td>\n",
              "    </tr>\n",
              "    <tr>\n",
              "      <th>1</th>\n",
              "      <td>21:31.0</td>\n",
              "      <td>5.5</td>\n",
              "      <td>2013-09-28 00:21:31+00:00</td>\n",
              "      <td>-74.014165</td>\n",
              "      <td>40.708941</td>\n",
              "      <td>-74.016310</td>\n",
              "      <td>40.716734</td>\n",
              "      <td>1</td>\n",
              "    </tr>\n",
              "    <tr>\n",
              "      <th>2</th>\n",
              "      <td>18:00.0</td>\n",
              "      <td>21.5</td>\n",
              "      <td>2013-06-16 03:18:00+00:00</td>\n",
              "      <td>-73.991075</td>\n",
              "      <td>40.760352</td>\n",
              "      <td>-73.941382</td>\n",
              "      <td>40.713292</td>\n",
              "      <td>1</td>\n",
              "    </tr>\n",
              "    <tr>\n",
              "      <th>3</th>\n",
              "      <td>43:00.0</td>\n",
              "      <td>9.5</td>\n",
              "      <td>2013-07-20 13:43:00+00:00</td>\n",
              "      <td>-74.002662</td>\n",
              "      <td>40.723630</td>\n",
              "      <td>-73.991722</td>\n",
              "      <td>40.748905</td>\n",
              "      <td>5</td>\n",
              "    </tr>\n",
              "    <tr>\n",
              "      <th>4</th>\n",
              "      <td>57:17.0</td>\n",
              "      <td>15.5</td>\n",
              "      <td>2013-11-05 22:57:17+00:00</td>\n",
              "      <td>-73.962397</td>\n",
              "      <td>40.712705</td>\n",
              "      <td>-73.996834</td>\n",
              "      <td>40.680403</td>\n",
              "      <td>2</td>\n",
              "    </tr>\n",
              "  </tbody>\n",
              "</table>\n",
              "</div>\n",
              "      <button class=\"colab-df-convert\" onclick=\"convertToInteractive('df-bdecd65c-3983-46e2-92a5-bf1593d12c23')\"\n",
              "              title=\"Convert this dataframe to an interactive table.\"\n",
              "              style=\"display:none;\">\n",
              "\n",
              "  <svg xmlns=\"http://www.w3.org/2000/svg\" height=\"24px\"viewBox=\"0 0 24 24\"\n",
              "       width=\"24px\">\n",
              "    <path d=\"M0 0h24v24H0V0z\" fill=\"none\"/>\n",
              "    <path d=\"M18.56 5.44l.94 2.06.94-2.06 2.06-.94-2.06-.94-.94-2.06-.94 2.06-2.06.94zm-11 1L8.5 8.5l.94-2.06 2.06-.94-2.06-.94L8.5 2.5l-.94 2.06-2.06.94zm10 10l.94 2.06.94-2.06 2.06-.94-2.06-.94-.94-2.06-.94 2.06-2.06.94z\"/><path d=\"M17.41 7.96l-1.37-1.37c-.4-.4-.92-.59-1.43-.59-.52 0-1.04.2-1.43.59L10.3 9.45l-7.72 7.72c-.78.78-.78 2.05 0 2.83L4 21.41c.39.39.9.59 1.41.59.51 0 1.02-.2 1.41-.59l7.78-7.78 2.81-2.81c.8-.78.8-2.07 0-2.86zM5.41 20L4 18.59l7.72-7.72 1.47 1.35L5.41 20z\"/>\n",
              "  </svg>\n",
              "      </button>\n",
              "\n",
              "\n",
              "\n",
              "    <div id=\"df-cd6e4094-8baa-40ce-8c22-7cfc7d3d6c99\">\n",
              "      <button class=\"colab-df-quickchart\" onclick=\"quickchart('df-cd6e4094-8baa-40ce-8c22-7cfc7d3d6c99')\"\n",
              "              title=\"Suggest charts.\"\n",
              "              style=\"display:none;\">\n",
              "\n",
              "<svg xmlns=\"http://www.w3.org/2000/svg\" height=\"24px\"viewBox=\"0 0 24 24\"\n",
              "     width=\"24px\">\n",
              "    <g>\n",
              "        <path d=\"M19 3H5c-1.1 0-2 .9-2 2v14c0 1.1.9 2 2 2h14c1.1 0 2-.9 2-2V5c0-1.1-.9-2-2-2zM9 17H7v-7h2v7zm4 0h-2V7h2v10zm4 0h-2v-4h2v4z\"/>\n",
              "    </g>\n",
              "</svg>\n",
              "      </button>\n",
              "    </div>\n",
              "\n",
              "<style>\n",
              "  .colab-df-quickchart {\n",
              "    background-color: #E8F0FE;\n",
              "    border: none;\n",
              "    border-radius: 50%;\n",
              "    cursor: pointer;\n",
              "    display: none;\n",
              "    fill: #1967D2;\n",
              "    height: 32px;\n",
              "    padding: 0 0 0 0;\n",
              "    width: 32px;\n",
              "  }\n",
              "\n",
              "  .colab-df-quickchart:hover {\n",
              "    background-color: #E2EBFA;\n",
              "    box-shadow: 0px 1px 2px rgba(60, 64, 67, 0.3), 0px 1px 3px 1px rgba(60, 64, 67, 0.15);\n",
              "    fill: #174EA6;\n",
              "  }\n",
              "\n",
              "  [theme=dark] .colab-df-quickchart {\n",
              "    background-color: #3B4455;\n",
              "    fill: #D2E3FC;\n",
              "  }\n",
              "\n",
              "  [theme=dark] .colab-df-quickchart:hover {\n",
              "    background-color: #434B5C;\n",
              "    box-shadow: 0px 1px 3px 1px rgba(0, 0, 0, 0.15);\n",
              "    filter: drop-shadow(0px 1px 2px rgba(0, 0, 0, 0.3));\n",
              "    fill: #FFFFFF;\n",
              "  }\n",
              "</style>\n",
              "\n",
              "    <script>\n",
              "      async function quickchart(key) {\n",
              "        const containerElement = document.querySelector('#' + key);\n",
              "        const charts = await google.colab.kernel.invokeFunction(\n",
              "            'suggestCharts', [key], {});\n",
              "      }\n",
              "    </script>\n",
              "\n",
              "      <script>\n",
              "\n",
              "function displayQuickchartButton(domScope) {\n",
              "  let quickchartButtonEl =\n",
              "    domScope.querySelector('#df-cd6e4094-8baa-40ce-8c22-7cfc7d3d6c99 button.colab-df-quickchart');\n",
              "  quickchartButtonEl.style.display =\n",
              "    google.colab.kernel.accessAllowed ? 'block' : 'none';\n",
              "}\n",
              "\n",
              "        displayQuickchartButton(document);\n",
              "      </script>\n",
              "      <style>\n",
              "    .colab-df-container {\n",
              "      display:flex;\n",
              "      flex-wrap:wrap;\n",
              "      gap: 12px;\n",
              "    }\n",
              "\n",
              "    .colab-df-convert {\n",
              "      background-color: #E8F0FE;\n",
              "      border: none;\n",
              "      border-radius: 50%;\n",
              "      cursor: pointer;\n",
              "      display: none;\n",
              "      fill: #1967D2;\n",
              "      height: 32px;\n",
              "      padding: 0 0 0 0;\n",
              "      width: 32px;\n",
              "    }\n",
              "\n",
              "    .colab-df-convert:hover {\n",
              "      background-color: #E2EBFA;\n",
              "      box-shadow: 0px 1px 2px rgba(60, 64, 67, 0.3), 0px 1px 3px 1px rgba(60, 64, 67, 0.15);\n",
              "      fill: #174EA6;\n",
              "    }\n",
              "\n",
              "    [theme=dark] .colab-df-convert {\n",
              "      background-color: #3B4455;\n",
              "      fill: #D2E3FC;\n",
              "    }\n",
              "\n",
              "    [theme=dark] .colab-df-convert:hover {\n",
              "      background-color: #434B5C;\n",
              "      box-shadow: 0px 1px 3px 1px rgba(0, 0, 0, 0.15);\n",
              "      filter: drop-shadow(0px 1px 2px rgba(0, 0, 0, 0.3));\n",
              "      fill: #FFFFFF;\n",
              "    }\n",
              "  </style>\n",
              "\n",
              "      <script>\n",
              "        const buttonEl =\n",
              "          document.querySelector('#df-bdecd65c-3983-46e2-92a5-bf1593d12c23 button.colab-df-convert');\n",
              "        buttonEl.style.display =\n",
              "          google.colab.kernel.accessAllowed ? 'block' : 'none';\n",
              "\n",
              "        async function convertToInteractive(key) {\n",
              "          const element = document.querySelector('#df-bdecd65c-3983-46e2-92a5-bf1593d12c23');\n",
              "          const dataTable =\n",
              "            await google.colab.kernel.invokeFunction('convertToInteractive',\n",
              "                                                     [key], {});\n",
              "          if (!dataTable) return;\n",
              "\n",
              "          const docLinkHtml = 'Like what you see? Visit the ' +\n",
              "            '<a target=\"_blank\" href=https://colab.research.google.com/notebooks/data_table.ipynb>data table notebook</a>'\n",
              "            + ' to learn more about interactive tables.';\n",
              "          element.innerHTML = '';\n",
              "          dataTable['output_type'] = 'display_data';\n",
              "          await google.colab.output.renderOutput(dataTable, element);\n",
              "          const docLink = document.createElement('div');\n",
              "          docLink.innerHTML = docLinkHtml;\n",
              "          element.appendChild(docLink);\n",
              "        }\n",
              "      </script>\n",
              "    </div>\n",
              "  </div>\n"
            ]
          },
          "metadata": {},
          "execution_count": 51
        }
      ]
    },
    {
      "cell_type": "code",
      "source": [
        "\n",
        "transport.describe()\n",
        "transport.info()\n"
      ],
      "metadata": {
        "colab": {
          "base_uri": "https://localhost:8080/"
        },
        "id": "_03rAUWImrSG",
        "outputId": "6eb23038-d539-4dd0-f63d-7b76b265ca3a"
      },
      "execution_count": 52,
      "outputs": [
        {
          "output_type": "stream",
          "name": "stdout",
          "text": [
            "<class 'pandas.core.frame.DataFrame'>\n",
            "RangeIndex: 1048575 entries, 0 to 1048574\n",
            "Data columns (total 8 columns):\n",
            " #   Column          Non-Null Count    Dtype  \n",
            "---  ------          --------------    -----  \n",
            " 0   ID              1048575 non-null  object \n",
            " 1   travel_fee      1048575 non-null  float64\n",
            " 2   departure_time  1048575 non-null  object \n",
            " 3   departure_long  1048575 non-null  float64\n",
            " 4   departure_lat   1048575 non-null  float64\n",
            " 5   arrival_long    1048561 non-null  float64\n",
            " 6   arrival_lat     1048561 non-null  float64\n",
            " 7   occupancy       1048575 non-null  int64  \n",
            "dtypes: float64(5), int64(1), object(2)\n",
            "memory usage: 64.0+ MB\n"
          ]
        }
      ]
    },
    {
      "cell_type": "code",
      "source": [
        "transport.isnull().sum()"
      ],
      "metadata": {
        "colab": {
          "base_uri": "https://localhost:8080/"
        },
        "id": "UnXRrE3JoRZu",
        "outputId": "3f487198-31ea-47f1-c8b3-ffb15011a6eb"
      },
      "execution_count": 53,
      "outputs": [
        {
          "output_type": "execute_result",
          "data": {
            "text/plain": [
              "ID                 0\n",
              "travel_fee         0\n",
              "departure_time     0\n",
              "departure_long     0\n",
              "departure_lat      0\n",
              "arrival_long      14\n",
              "arrival_lat       14\n",
              "occupancy          0\n",
              "dtype: int64"
            ]
          },
          "metadata": {},
          "execution_count": 53
        }
      ]
    },
    {
      "cell_type": "code",
      "source": [
        "#handling missing value\n",
        "transport[\"departure_long\"].fillna(transport[\"departure_long\"].mean(), inplace=True)\n",
        "transport[\"departure_lat\"].fillna(transport[\"departure_lat\"].mean(), inplace=True)\n",
        "transport[\"occupancy\"].fillna(transport[\"occupancy\"].mode()[0], inplace=True)\n",
        "transport.drop(columns=['ID'], inplace=True)\n",
        "\n",
        "# Drop rows with missing \"departure_time\",\"arrival_long\" and \"arrival_lat\"\n",
        "transport.dropna(subset=[\"departure_time\", \"arrival_long\", \"arrival_lat\"],inplace = True)\n",
        "transport.isnull().sum()"
      ],
      "metadata": {
        "colab": {
          "base_uri": "https://localhost:8080/"
        },
        "id": "AeLQ7WqbpWzo",
        "outputId": "0f18ea4d-8731-499d-d1ba-68943d697654"
      },
      "execution_count": 54,
      "outputs": [
        {
          "output_type": "execute_result",
          "data": {
            "text/plain": [
              "travel_fee        0\n",
              "departure_time    0\n",
              "departure_long    0\n",
              "departure_lat     0\n",
              "arrival_long      0\n",
              "arrival_lat       0\n",
              "occupancy         0\n",
              "dtype: int64"
            ]
          },
          "metadata": {},
          "execution_count": 54
        }
      ]
    },
    {
      "cell_type": "code",
      "source": [
        "transport.head()"
      ],
      "metadata": {
        "colab": {
          "base_uri": "https://localhost:8080/",
          "height": 357
        },
        "id": "FsWC0h4usXkc",
        "outputId": "f36e384f-fb32-4371-b84e-4bde06621b66"
      },
      "execution_count": 55,
      "outputs": [
        {
          "output_type": "execute_result",
          "data": {
            "text/plain": [
              "   travel_fee             departure_time  departure_long  departure_lat  \\\n",
              "0         7.0  2013-07-02 19:54:00+00:00      -74.005360      40.728867   \n",
              "1         5.5  2013-09-28 00:21:31+00:00      -74.014165      40.708941   \n",
              "2        21.5  2013-06-16 03:18:00+00:00      -73.991075      40.760352   \n",
              "3         9.5  2013-07-20 13:43:00+00:00      -74.002662      40.723630   \n",
              "4        15.5  2013-11-05 22:57:17+00:00      -73.962397      40.712705   \n",
              "\n",
              "   arrival_long  arrival_lat  occupancy  \n",
              "0    -74.008913    40.710907          1  \n",
              "1    -74.016310    40.716734          1  \n",
              "2    -73.941382    40.713292          1  \n",
              "3    -73.991722    40.748905          5  \n",
              "4    -73.996834    40.680403          2  "
            ],
            "text/html": [
              "\n",
              "\n",
              "  <div id=\"df-adfd290e-2153-4d7a-8064-cf861a3a5997\">\n",
              "    <div class=\"colab-df-container\">\n",
              "      <div>\n",
              "<style scoped>\n",
              "    .dataframe tbody tr th:only-of-type {\n",
              "        vertical-align: middle;\n",
              "    }\n",
              "\n",
              "    .dataframe tbody tr th {\n",
              "        vertical-align: top;\n",
              "    }\n",
              "\n",
              "    .dataframe thead th {\n",
              "        text-align: right;\n",
              "    }\n",
              "</style>\n",
              "<table border=\"1\" class=\"dataframe\">\n",
              "  <thead>\n",
              "    <tr style=\"text-align: right;\">\n",
              "      <th></th>\n",
              "      <th>travel_fee</th>\n",
              "      <th>departure_time</th>\n",
              "      <th>departure_long</th>\n",
              "      <th>departure_lat</th>\n",
              "      <th>arrival_long</th>\n",
              "      <th>arrival_lat</th>\n",
              "      <th>occupancy</th>\n",
              "    </tr>\n",
              "  </thead>\n",
              "  <tbody>\n",
              "    <tr>\n",
              "      <th>0</th>\n",
              "      <td>7.0</td>\n",
              "      <td>2013-07-02 19:54:00+00:00</td>\n",
              "      <td>-74.005360</td>\n",
              "      <td>40.728867</td>\n",
              "      <td>-74.008913</td>\n",
              "      <td>40.710907</td>\n",
              "      <td>1</td>\n",
              "    </tr>\n",
              "    <tr>\n",
              "      <th>1</th>\n",
              "      <td>5.5</td>\n",
              "      <td>2013-09-28 00:21:31+00:00</td>\n",
              "      <td>-74.014165</td>\n",
              "      <td>40.708941</td>\n",
              "      <td>-74.016310</td>\n",
              "      <td>40.716734</td>\n",
              "      <td>1</td>\n",
              "    </tr>\n",
              "    <tr>\n",
              "      <th>2</th>\n",
              "      <td>21.5</td>\n",
              "      <td>2013-06-16 03:18:00+00:00</td>\n",
              "      <td>-73.991075</td>\n",
              "      <td>40.760352</td>\n",
              "      <td>-73.941382</td>\n",
              "      <td>40.713292</td>\n",
              "      <td>1</td>\n",
              "    </tr>\n",
              "    <tr>\n",
              "      <th>3</th>\n",
              "      <td>9.5</td>\n",
              "      <td>2013-07-20 13:43:00+00:00</td>\n",
              "      <td>-74.002662</td>\n",
              "      <td>40.723630</td>\n",
              "      <td>-73.991722</td>\n",
              "      <td>40.748905</td>\n",
              "      <td>5</td>\n",
              "    </tr>\n",
              "    <tr>\n",
              "      <th>4</th>\n",
              "      <td>15.5</td>\n",
              "      <td>2013-11-05 22:57:17+00:00</td>\n",
              "      <td>-73.962397</td>\n",
              "      <td>40.712705</td>\n",
              "      <td>-73.996834</td>\n",
              "      <td>40.680403</td>\n",
              "      <td>2</td>\n",
              "    </tr>\n",
              "  </tbody>\n",
              "</table>\n",
              "</div>\n",
              "      <button class=\"colab-df-convert\" onclick=\"convertToInteractive('df-adfd290e-2153-4d7a-8064-cf861a3a5997')\"\n",
              "              title=\"Convert this dataframe to an interactive table.\"\n",
              "              style=\"display:none;\">\n",
              "\n",
              "  <svg xmlns=\"http://www.w3.org/2000/svg\" height=\"24px\"viewBox=\"0 0 24 24\"\n",
              "       width=\"24px\">\n",
              "    <path d=\"M0 0h24v24H0V0z\" fill=\"none\"/>\n",
              "    <path d=\"M18.56 5.44l.94 2.06.94-2.06 2.06-.94-2.06-.94-.94-2.06-.94 2.06-2.06.94zm-11 1L8.5 8.5l.94-2.06 2.06-.94-2.06-.94L8.5 2.5l-.94 2.06-2.06.94zm10 10l.94 2.06.94-2.06 2.06-.94-2.06-.94-.94-2.06-.94 2.06-2.06.94z\"/><path d=\"M17.41 7.96l-1.37-1.37c-.4-.4-.92-.59-1.43-.59-.52 0-1.04.2-1.43.59L10.3 9.45l-7.72 7.72c-.78.78-.78 2.05 0 2.83L4 21.41c.39.39.9.59 1.41.59.51 0 1.02-.2 1.41-.59l7.78-7.78 2.81-2.81c.8-.78.8-2.07 0-2.86zM5.41 20L4 18.59l7.72-7.72 1.47 1.35L5.41 20z\"/>\n",
              "  </svg>\n",
              "      </button>\n",
              "\n",
              "\n",
              "\n",
              "    <div id=\"df-b3612ffe-980c-4a36-8622-31f7a93b7d12\">\n",
              "      <button class=\"colab-df-quickchart\" onclick=\"quickchart('df-b3612ffe-980c-4a36-8622-31f7a93b7d12')\"\n",
              "              title=\"Suggest charts.\"\n",
              "              style=\"display:none;\">\n",
              "\n",
              "<svg xmlns=\"http://www.w3.org/2000/svg\" height=\"24px\"viewBox=\"0 0 24 24\"\n",
              "     width=\"24px\">\n",
              "    <g>\n",
              "        <path d=\"M19 3H5c-1.1 0-2 .9-2 2v14c0 1.1.9 2 2 2h14c1.1 0 2-.9 2-2V5c0-1.1-.9-2-2-2zM9 17H7v-7h2v7zm4 0h-2V7h2v10zm4 0h-2v-4h2v4z\"/>\n",
              "    </g>\n",
              "</svg>\n",
              "      </button>\n",
              "    </div>\n",
              "\n",
              "<style>\n",
              "  .colab-df-quickchart {\n",
              "    background-color: #E8F0FE;\n",
              "    border: none;\n",
              "    border-radius: 50%;\n",
              "    cursor: pointer;\n",
              "    display: none;\n",
              "    fill: #1967D2;\n",
              "    height: 32px;\n",
              "    padding: 0 0 0 0;\n",
              "    width: 32px;\n",
              "  }\n",
              "\n",
              "  .colab-df-quickchart:hover {\n",
              "    background-color: #E2EBFA;\n",
              "    box-shadow: 0px 1px 2px rgba(60, 64, 67, 0.3), 0px 1px 3px 1px rgba(60, 64, 67, 0.15);\n",
              "    fill: #174EA6;\n",
              "  }\n",
              "\n",
              "  [theme=dark] .colab-df-quickchart {\n",
              "    background-color: #3B4455;\n",
              "    fill: #D2E3FC;\n",
              "  }\n",
              "\n",
              "  [theme=dark] .colab-df-quickchart:hover {\n",
              "    background-color: #434B5C;\n",
              "    box-shadow: 0px 1px 3px 1px rgba(0, 0, 0, 0.15);\n",
              "    filter: drop-shadow(0px 1px 2px rgba(0, 0, 0, 0.3));\n",
              "    fill: #FFFFFF;\n",
              "  }\n",
              "</style>\n",
              "\n",
              "    <script>\n",
              "      async function quickchart(key) {\n",
              "        const containerElement = document.querySelector('#' + key);\n",
              "        const charts = await google.colab.kernel.invokeFunction(\n",
              "            'suggestCharts', [key], {});\n",
              "      }\n",
              "    </script>\n",
              "\n",
              "      <script>\n",
              "\n",
              "function displayQuickchartButton(domScope) {\n",
              "  let quickchartButtonEl =\n",
              "    domScope.querySelector('#df-b3612ffe-980c-4a36-8622-31f7a93b7d12 button.colab-df-quickchart');\n",
              "  quickchartButtonEl.style.display =\n",
              "    google.colab.kernel.accessAllowed ? 'block' : 'none';\n",
              "}\n",
              "\n",
              "        displayQuickchartButton(document);\n",
              "      </script>\n",
              "      <style>\n",
              "    .colab-df-container {\n",
              "      display:flex;\n",
              "      flex-wrap:wrap;\n",
              "      gap: 12px;\n",
              "    }\n",
              "\n",
              "    .colab-df-convert {\n",
              "      background-color: #E8F0FE;\n",
              "      border: none;\n",
              "      border-radius: 50%;\n",
              "      cursor: pointer;\n",
              "      display: none;\n",
              "      fill: #1967D2;\n",
              "      height: 32px;\n",
              "      padding: 0 0 0 0;\n",
              "      width: 32px;\n",
              "    }\n",
              "\n",
              "    .colab-df-convert:hover {\n",
              "      background-color: #E2EBFA;\n",
              "      box-shadow: 0px 1px 2px rgba(60, 64, 67, 0.3), 0px 1px 3px 1px rgba(60, 64, 67, 0.15);\n",
              "      fill: #174EA6;\n",
              "    }\n",
              "\n",
              "    [theme=dark] .colab-df-convert {\n",
              "      background-color: #3B4455;\n",
              "      fill: #D2E3FC;\n",
              "    }\n",
              "\n",
              "    [theme=dark] .colab-df-convert:hover {\n",
              "      background-color: #434B5C;\n",
              "      box-shadow: 0px 1px 3px 1px rgba(0, 0, 0, 0.15);\n",
              "      filter: drop-shadow(0px 1px 2px rgba(0, 0, 0, 0.3));\n",
              "      fill: #FFFFFF;\n",
              "    }\n",
              "  </style>\n",
              "\n",
              "      <script>\n",
              "        const buttonEl =\n",
              "          document.querySelector('#df-adfd290e-2153-4d7a-8064-cf861a3a5997 button.colab-df-convert');\n",
              "        buttonEl.style.display =\n",
              "          google.colab.kernel.accessAllowed ? 'block' : 'none';\n",
              "\n",
              "        async function convertToInteractive(key) {\n",
              "          const element = document.querySelector('#df-adfd290e-2153-4d7a-8064-cf861a3a5997');\n",
              "          const dataTable =\n",
              "            await google.colab.kernel.invokeFunction('convertToInteractive',\n",
              "                                                     [key], {});\n",
              "          if (!dataTable) return;\n",
              "\n",
              "          const docLinkHtml = 'Like what you see? Visit the ' +\n",
              "            '<a target=\"_blank\" href=https://colab.research.google.com/notebooks/data_table.ipynb>data table notebook</a>'\n",
              "            + ' to learn more about interactive tables.';\n",
              "          element.innerHTML = '';\n",
              "          dataTable['output_type'] = 'display_data';\n",
              "          await google.colab.output.renderOutput(dataTable, element);\n",
              "          const docLink = document.createElement('div');\n",
              "          docLink.innerHTML = docLinkHtml;\n",
              "          element.appendChild(docLink);\n",
              "        }\n",
              "      </script>\n",
              "    </div>\n",
              "  </div>\n"
            ]
          },
          "metadata": {},
          "execution_count": 55
        }
      ]
    },
    {
      "cell_type": "code",
      "source": [
        "# Convert departure_time to datetime\n",
        "transport['departure_time'] = pd.to_datetime(transport['departure_time'])\n",
        "\n",
        "# Extract features from departure_time\n",
        "transport['hour_of_day'] = transport['departure_time'].dt.hour\n",
        "transport['day_of_week'] = transport['departure_time'].dt.dayofweek"
      ],
      "metadata": {
        "id": "mvu3rLgbtvu8"
      },
      "execution_count": 56,
      "outputs": []
    },
    {
      "cell_type": "code",
      "source": [
        "from sklearn.preprocessing import StandardScaler\n",
        "\n",
        "data_numeric = transport.drop(columns=['departure_time'])\n",
        "\n",
        "# Perform feature scaling using StandardScaler\n",
        "scaler = StandardScaler()\n",
        "scaled_data = scaler.fit_transform(data_numeric)\n",
        "scaled_data"
      ],
      "metadata": {
        "colab": {
          "base_uri": "https://localhost:8080/"
        },
        "id": "AdH6Am553IET",
        "outputId": "71a843ca-e9b4-4f34-908a-3149858edecf"
      },
      "execution_count": 57,
      "outputs": [
        {
          "output_type": "execute_result",
          "data": {
            "text/plain": [
              "array([[-0.51689243, -0.13915281,  0.1130228 , ..., -0.51598183,\n",
              "         0.83853843, -1.04202928],\n",
              "       [-0.65548032, -0.13993849,  0.11072036, ..., -0.51598183,\n",
              "        -2.0650258 ,  1.00258523],\n",
              "       [ 0.8227905 , -0.13787815,  0.11666088, ..., -0.51598183,\n",
              "        -1.60656829,  1.51373886],\n",
              "       ...,\n",
              "       [-0.10112876, -0.13598584,  0.11944389, ..., -0.51598183,\n",
              "        -0.99529161, -1.5531829 ],\n",
              "       [-0.37830454, -0.13907411,  0.11217305, ..., -0.51598183,\n",
              "         1.29699594, -1.5531829 ],\n",
              "       [ 0.68420261, -0.13931619,  0.113109  , ..., -0.51598183,\n",
              "         1.14417677, -0.53087565]])"
            ]
          },
          "metadata": {},
          "execution_count": 57
        }
      ]
    },
    {
      "cell_type": "code",
      "source": [
        "# Plot histogram of a scaled feature\n",
        "fig, axs = plt.subplots(1, 2, figsize=(8, 3), sharey=True)\n",
        "transport[\"travel_fee\"].hist(ax=axs[0], bins=50)\n",
        "transport[\"travel_fee\"].apply(np.log1p).hist(ax=axs[1], bins=50)\n",
        "axs[0].set_xlabel(\"Travel Fee (Scaled)\")\n",
        "axs[1].set_xlabel(\"Log of Scaled Travel Fee\")\n",
        "axs[0].set_ylabel(\"Number of Instances\")\n",
        "plt.show()"
      ],
      "metadata": {
        "colab": {
          "base_uri": "https://localhost:8080/",
          "height": 273
        },
        "id": "5WHNpxFz4e8w",
        "outputId": "80a4b0c8-6d62-45ac-d960-bbaaa147519f"
      },
      "execution_count": 58,
      "outputs": [
        {
          "output_type": "display_data",
          "data": {
            "text/plain": [
              "<Figure size 800x300 with 2 Axes>"
            ],
            "image/png": "[encoded data removed]"
          },
          "metadata": {}
        }
      ]
    },
    {
      "cell_type": "code",
      "source": [
        "from sklearn.compose import ColumnTransformer\n",
        "from sklearn.pipeline import make_pipeline\n",
        "\n",
        "num_attribs = ['travel_fee', 'departure_long', 'departure_lat', 'arrival_long', 'arrival_lat', 'hour_of_day', 'day_of_week','occupancy']\n",
        "\n",
        "num_pipeline = make_pipeline(\n",
        "    StandardScaler()  # Scale features\n",
        ")\n",
        "preprocessing = ColumnTransformer([\n",
        "    (\"num\", num_pipeline, num_attribs),\n",
        "    # Apply numeric pipeline to numeric attributes\n",
        "])\n",
        "\n"
      ],
      "metadata": {
        "id": "I9iGQbMM8dVp"
      },
      "execution_count": 59,
      "outputs": []
    },
    {
      "cell_type": "code",
      "source": [
        "transport_prepared = preprocessing.fit_transform(transport)\n",
        "transport_prepared\n"
      ],
      "metadata": {
        "colab": {
          "base_uri": "https://localhost:8080/"
        },
        "id": "ZrWG9eKA9ete",
        "outputId": "a1487a50-e42f-47f9-8a43-22a57df72035"
      },
      "execution_count": 60,
      "outputs": [
        {
          "output_type": "execute_result",
          "data": {
            "text/plain": [
              "array([[-0.51689243, -0.13915281,  0.1130228 , ...,  0.83853843,\n",
              "        -1.04202928, -0.51598183],\n",
              "       [-0.65548032, -0.13993849,  0.11072036, ..., -2.0650258 ,\n",
              "         1.00258523, -0.51598183],\n",
              "       [ 0.8227905 , -0.13787815,  0.11666088, ..., -1.60656829,\n",
              "         1.51373886, -0.51598183],\n",
              "       ...,\n",
              "       [-0.10112876, -0.13598584,  0.11944389, ..., -0.99529161,\n",
              "        -1.5531829 , -0.51598183],\n",
              "       [-0.37830454, -0.13907411,  0.11217305, ...,  1.29699594,\n",
              "        -1.5531829 , -0.51598183],\n",
              "       [ 0.68420261, -0.13931619,  0.113109  , ...,  1.14417677,\n",
              "        -0.53087565, -0.51598183]])"
            ]
          },
          "metadata": {},
          "execution_count": 60
        }
      ]
    },
    {
      "cell_type": "code",
      "source": [
        "preprocessing.get_feature_names_out()"
      ],
      "metadata": {
        "colab": {
          "base_uri": "https://localhost:8080/"
        },
        "id": "OIjiElpa9_6m",
        "outputId": "a1e9a1ca-44f4-4de9-d140-629cc8195501"
      },
      "execution_count": 61,
      "outputs": [
        {
          "output_type": "execute_result",
          "data": {
            "text/plain": [
              "array(['num__travel_fee', 'num__departure_long', 'num__departure_lat',\n",
              "       'num__arrival_long', 'num__arrival_lat', 'num__hour_of_day',\n",
              "       'num__day_of_week', 'num__occupancy'], dtype=object)"
            ]
          },
          "metadata": {},
          "execution_count": 61
        }
      ]
    }
  ]
}