{
 "cells": [
  {
   "cell_type": "code",
   "execution_count": 7,
   "id": "82b9fd8f-d8a3-4095-a6d0-8d9edf913e3d",
   "metadata": {},
   "outputs": [
    {
     "name": "stdout",
     "output_type": "stream",
     "text": [
      "Random Input: [departure_long=-0.9323923740069922, departure_lat=-2.545132742293161, hour_of_day=-2, day_of_week=1]\n",
      "Predicted sum of occupancy of 10 nearest neighbors: 18\n",
      "--------\n",
      "Random Input: [departure_long=6.618770101933842, departure_lat=-6.79243993873929, hour_of_day=-2, day_of_week=0]\n",
      "Predicted sum of occupancy of 10 nearest neighbors: 20\n",
      "--------\n",
      "Random Input: [departure_long=9.5135144021118, departure_lat=-11.974537565046585, hour_of_day=-1, day_of_week=1]\n",
      "Predicted sum of occupancy of 10 nearest neighbors: 26\n",
      "--------\n",
      "Random Input: [departure_long=1.5059569101940697, departure_lat=0.36568586364708366, hour_of_day=1, day_of_week=0]\n",
      "Predicted sum of occupancy of 10 nearest neighbors: 15\n",
      "--------\n",
      "Random Input: [departure_long=2.203725409953676, departure_lat=-10.449084430481664, hour_of_day=-2, day_of_week=0]\n",
      "Predicted sum of occupancy of 10 nearest neighbors: 20\n",
      "--------\n"
     ]
    }
   ],
   "source": [
    "import numpy as np\n",
    "from sklearn.neighbors import NearestNeighbors\n",
    "\n",
    "# Generate random input data\n",
    "num_samples = 5  # Number of random samples to generate\n",
    "random_departure_long = np.random.uniform(low=min(X_train_scaled[:, 0]), high=max(X_train_scaled[:, 0]), size=num_samples)\n",
    "random_departure_lat = np.random.uniform(low=min(X_train_scaled[:, 1]), high=max(X_train_scaled[:, 1]), size=num_samples)\n",
    "random_hour_of_day = np.random.randint(low=min(X_train_scaled[:, 2]), high=max(X_train_scaled[:, 2]) + 1, size=num_samples)\n",
    "random_day_of_week = np.random.randint(low=min(X_train_scaled[:, 3]), high=max(X_train_scaled[:, 3]) + 1, size=num_samples)\n",
    "\n",
    "# Create a matrix of random input data\n",
    "random_input = np.column_stack((random_departure_long, random_departure_lat, random_hour_of_day, random_day_of_week))\n",
    "\n",
    "# Use NearestNeighbors to find the indices of the 10 nearest neighbors\n",
    "n_neighbors = 10\n",
    "knn = NearestNeighbors(n_neighbors=n_neighbors)\n",
    "knn.fit(X_train_scaled)\n",
    "distances, indices = knn.kneighbors(random_input)\n",
    "\n",
    "# Calculate the sum of occupancy for the 10 nearest neighbors of each random input\n",
    "predicted_occupancy_sums = y_train.values[indices].sum(axis=1)\n",
    "\n",
    "# Print the predicted sum of occupancy for each random input\n",
    "for i in range(num_samples):\n",
    "    print(f\"Random Input: [departure_long={random_departure_long[i]}, departure_lat={random_departure_lat[i]}, \"\n",
    "          f\"hour_of_day={random_hour_of_day[i]}, day_of_week={random_day_of_week[i]}]\")\n",
    "    print(f\"Predicted sum of occupancy of 10 nearest neighbors: {predicted_occupancy_sums[i]}\")\n",
    "    print(\"--------\")\n",
    "\n",
    "    "
   ]
  },
  {
   "cell_type": "code",
   "execution_count": null,
   "id": "0cba67d9-dad8-4577-a821-732c7975b0eb",
   "metadata": {},
   "outputs": [],
   "source": []
  }
 ],
 "metadata": {
  "kernelspec": {
   "display_name": "Python 3 (ipykernel)",
   "language": "python",
   "name": "python3"
  },
  "language_info": {
   "codemirror_mode": {
    "name": "ipython",
    "version": 3
   },
   "file_extension": ".py",
   "mimetype": "text/x-python",
   "name": "python",
   "nbconvert_exporter": "python",
   "pygments_lexer": "ipython3",
   "version": "3.10.9"
  }
 },
 "nbformat": 4,
 "nbformat_minor": 5
}
