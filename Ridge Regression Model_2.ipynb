{
  "nbformat": 4,
  "nbformat_minor": 0,
  "metadata": {
    "colab": {
      "provenance": [],
      "include_colab_link": true
    },
    "kernelspec": {
      "name": "python3",
      "display_name": "Python 3"
    },
    "language_info": {
      "name": "python"
    }
  },
  "cells": [
    {
      "cell_type": "markdown",
      "metadata": {
        "id": "view-in-github",
        "colab_type": "text"
      },
      "source": [
        "<a href=\"https://colab.research.google.com/github/StephenSheng1101/DMAsgmnt/blob/main/Ridge%20Regression%20Model_2.ipynb\" target=\"_parent\"><img src=\"https://colab.research.google.com/assets/colab-badge.svg\" alt=\"Open In Colab\"/></a>"
      ]
    },
    {
      "cell_type": "markdown",
      "source": [
        "**Ridge Regression**\n"
      ],
      "metadata": {
        "id": "c4HpfhtiBGu3"
      }
    },
    {
      "cell_type": "markdown",
      "source": [
        "**Data Preprocessing before begin with Ridge Regression**"
      ],
      "metadata": {
        "id": "cVWc_ywSHyFl"
      }
    },
    {
      "cell_type": "code",
      "source": [
        "from pathlib import Path\n",
        "import pandas as pd\n",
        "import tarfile\n",
        "import urllib.request\n",
        "import numpy as np\n",
        "import matplotlib.pyplot as plt\n",
        "import sklearn\n",
        "from sklearn.preprocessing import StandardScaler"
      ],
      "metadata": {
        "id": "lgJGORU-BbUQ"
      },
      "execution_count": 18,
      "outputs": []
    },
    {
      "cell_type": "code",
      "source": [
        "transport = pd.read_csv(\"dataset.csv\")\n",
        "transport.describe()\n",
        "transport.info()"
      ],
      "metadata": {
        "id": "AWf_JLhcaCsq",
        "outputId": "5e44bb26-0132-4a26-834a-2524880c663d",
        "colab": {
          "base_uri": "https://localhost:8080/"
        }
      },
      "execution_count": 19,
      "outputs": [
        {
          "output_type": "stream",
          "name": "stdout",
          "text": [
            "<class 'pandas.core.frame.DataFrame'>\n",
            "RangeIndex: 518361 entries, 0 to 518360\n",
            "Data columns (total 8 columns):\n",
            " #   Column          Non-Null Count   Dtype  \n",
            "---  ------          --------------   -----  \n",
            " 0   ID              518361 non-null  object \n",
            " 1   travel_fee      518361 non-null  float64\n",
            " 2   departure_time  518361 non-null  object \n",
            " 3   departure_long  518361 non-null  float64\n",
            " 4   departure_lat   518360 non-null  float64\n",
            " 5   arrival_long    518355 non-null  float64\n",
            " 6   arrival_lat     518355 non-null  float64\n",
            " 7   occupancy       518360 non-null  float64\n",
            "dtypes: float64(6), object(2)\n",
            "memory usage: 31.6+ MB\n"
          ]
        }
      ]
    },
    {
      "cell_type": "code",
      "source": [
        "transport.isnull().sum()"
      ],
      "metadata": {
        "id": "5ZCnpjD1aCH4",
        "outputId": "df1ec875-acab-4e9f-cdf0-6e8ae755f28f",
        "colab": {
          "base_uri": "https://localhost:8080/"
        }
      },
      "execution_count": 20,
      "outputs": [
        {
          "output_type": "execute_result",
          "data": {
            "text/plain": [
              "ID                0\n",
              "travel_fee        0\n",
              "departure_time    0\n",
              "departure_long    0\n",
              "departure_lat     1\n",
              "arrival_long      6\n",
              "arrival_lat       6\n",
              "occupancy         1\n",
              "dtype: int64"
            ]
          },
          "metadata": {},
          "execution_count": 20
        }
      ]
    },
    {
      "cell_type": "code",
      "source": [
        "#handling missing value\n",
        "transport[\"departure_long\"].fillna(transport[\"departure_long\"].mean(), inplace=True)\n",
        "transport[\"departure_lat\"].fillna(transport[\"departure_lat\"].mean(), inplace=True)\n",
        "transport[\"occupancy\"].fillna(transport[\"occupancy\"].mode()[0], inplace=True)\n",
        "transport.drop(columns=['ID'], inplace=True)\n",
        "\n",
        "# Drop rows with missing \"departure_time\",\"arrival_long\" and \"arrival_lat\"\n",
        "transport.dropna(subset=[\"departure_time\", \"arrival_long\", \"arrival_lat\"],inplace = True)\n",
        "transport.isnull().sum()\n",
        "\n",
        "# Drop rows with a 0 value of occupancy\n",
        "transport = transport.drop(transport[transport['occupancy'] <= 0].index)"
      ],
      "metadata": {
        "id": "6yGps9qKaB5L"
      },
      "execution_count": 21,
      "outputs": []
    },
    {
      "cell_type": "code",
      "source": [
        "transport.head()"
      ],
      "metadata": {
        "id": "avqQ5IWXaBni",
        "outputId": "a2f1161a-e42f-49e7-b517-a8e1a4db871f",
        "colab": {
          "base_uri": "https://localhost:8080/",
          "height": 206
        }
      },
      "execution_count": 22,
      "outputs": [
        {
          "output_type": "execute_result",
          "data": {
            "text/plain": [
              "   travel_fee             departure_time  departure_long  departure_lat  \\\n",
              "0         7.0  2013-07-02 19:54:00+00:00      -74.005360      40.728867   \n",
              "1         5.5  2013-09-28 00:21:31+00:00      -74.014165      40.708941   \n",
              "2        21.5  2013-06-16 03:18:00+00:00      -73.991075      40.760352   \n",
              "3         9.5  2013-07-20 13:43:00+00:00      -74.002662      40.723630   \n",
              "4        15.5  2013-11-05 22:57:17+00:00      -73.962397      40.712705   \n",
              "\n",
              "   arrival_long  arrival_lat  occupancy  \n",
              "0    -74.008913    40.710907        1.0  \n",
              "1    -74.016310    40.716734        1.0  \n",
              "2    -73.941382    40.713292        1.0  \n",
              "3    -73.991722    40.748905        5.0  \n",
              "4    -73.996834    40.680403        2.0  "
            ],
            "text/html": [
              "\n",
              "  <div id=\"df-5c5c5c14-d65e-4c44-a8bf-1cfb147f545f\" class=\"colab-df-container\">\n",
              "    <div>\n",
              "<style scoped>\n",
              "    .dataframe tbody tr th:only-of-type {\n",
              "        vertical-align: middle;\n",
              "    }\n",
              "\n",
              "    .dataframe tbody tr th {\n",
              "        vertical-align: top;\n",
              "    }\n",
              "\n",
              "    .dataframe thead th {\n",
              "        text-align: right;\n",
              "    }\n",
              "</style>\n",
              "<table border=\"1\" class=\"dataframe\">\n",
              "  <thead>\n",
              "    <tr style=\"text-align: right;\">\n",
              "      <th></th>\n",
              "      <th>travel_fee</th>\n",
              "      <th>departure_time</th>\n",
              "      <th>departure_long</th>\n",
              "      <th>departure_lat</th>\n",
              "      <th>arrival_long</th>\n",
              "      <th>arrival_lat</th>\n",
              "      <th>occupancy</th>\n",
              "    </tr>\n",
              "  </thead>\n",
              "  <tbody>\n",
              "    <tr>\n",
              "      <th>0</th>\n",
              "      <td>7.0</td>\n",
              "      <td>2013-07-02 19:54:00+00:00</td>\n",
              "      <td>-74.005360</td>\n",
              "      <td>40.728867</td>\n",
              "      <td>-74.008913</td>\n",
              "      <td>40.710907</td>\n",
              "      <td>1.0</td>\n",
              "    </tr>\n",
              "    <tr>\n",
              "      <th>1</th>\n",
              "      <td>5.5</td>\n",
              "      <td>2013-09-28 00:21:31+00:00</td>\n",
              "      <td>-74.014165</td>\n",
              "      <td>40.708941</td>\n",
              "      <td>-74.016310</td>\n",
              "      <td>40.716734</td>\n",
              "      <td>1.0</td>\n",
              "    </tr>\n",
              "    <tr>\n",
              "      <th>2</th>\n",
              "      <td>21.5</td>\n",
              "      <td>2013-06-16 03:18:00+00:00</td>\n",
              "      <td>-73.991075</td>\n",
              "      <td>40.760352</td>\n",
              "      <td>-73.941382</td>\n",
              "      <td>40.713292</td>\n",
              "      <td>1.0</td>\n",
              "    </tr>\n",
              "    <tr>\n",
              "      <th>3</th>\n",
              "      <td>9.5</td>\n",
              "      <td>2013-07-20 13:43:00+00:00</td>\n",
              "      <td>-74.002662</td>\n",
              "      <td>40.723630</td>\n",
              "      <td>-73.991722</td>\n",
              "      <td>40.748905</td>\n",
              "      <td>5.0</td>\n",
              "    </tr>\n",
              "    <tr>\n",
              "      <th>4</th>\n",
              "      <td>15.5</td>\n",
              "      <td>2013-11-05 22:57:17+00:00</td>\n",
              "      <td>-73.962397</td>\n",
              "      <td>40.712705</td>\n",
              "      <td>-73.996834</td>\n",
              "      <td>40.680403</td>\n",
              "      <td>2.0</td>\n",
              "    </tr>\n",
              "  </tbody>\n",
              "</table>\n",
              "</div>\n",
              "    <div class=\"colab-df-buttons\">\n",
              "\n",
              "  <div class=\"colab-df-container\">\n",
              "    <button class=\"colab-df-convert\" onclick=\"convertToInteractive('df-5c5c5c14-d65e-4c44-a8bf-1cfb147f545f')\"\n",
              "            title=\"Convert this dataframe to an interactive table.\"\n",
              "            style=\"display:none;\">\n",
              "\n",
              "  <svg xmlns=\"http://www.w3.org/2000/svg\" height=\"24px\" viewBox=\"0 -960 960 960\">\n",
              "    <path d=\"M120-120v-720h720v720H120Zm60-500h600v-160H180v160Zm220 220h160v-160H400v160Zm0 220h160v-160H400v160ZM180-400h160v-160H180v160Zm440 0h160v-160H620v160ZM180-180h160v-160H180v160Zm440 0h160v-160H620v160Z\"/>\n",
              "  </svg>\n",
              "    </button>\n",
              "\n",
              "  <style>\n",
              "    .colab-df-container {\n",
              "      display:flex;\n",
              "      gap: 12px;\n",
              "    }\n",
              "\n",
              "    .colab-df-convert {\n",
              "      background-color: #E8F0FE;\n",
              "      border: none;\n",
              "      border-radius: 50%;\n",
              "      cursor: pointer;\n",
              "      display: none;\n",
              "      fill: #1967D2;\n",
              "      height: 32px;\n",
              "      padding: 0 0 0 0;\n",
              "      width: 32px;\n",
              "    }\n",
              "\n",
              "    .colab-df-convert:hover {\n",
              "      background-color: #E2EBFA;\n",
              "      box-shadow: 0px 1px 2px rgba(60, 64, 67, 0.3), 0px 1px 3px 1px rgba(60, 64, 67, 0.15);\n",
              "      fill: #174EA6;\n",
              "    }\n",
              "\n",
              "    .colab-df-buttons div {\n",
              "      margin-bottom: 4px;\n",
              "    }\n",
              "\n",
              "    [theme=dark] .colab-df-convert {\n",
              "      background-color: #3B4455;\n",
              "      fill: #D2E3FC;\n",
              "    }\n",
              "\n",
              "    [theme=dark] .colab-df-convert:hover {\n",
              "      background-color: #434B5C;\n",
              "      box-shadow: 0px 1px 3px 1px rgba(0, 0, 0, 0.15);\n",
              "      filter: drop-shadow(0px 1px 2px rgba(0, 0, 0, 0.3));\n",
              "      fill: #FFFFFF;\n",
              "    }\n",
              "  </style>\n",
              "\n",
              "    <script>\n",
              "      const buttonEl =\n",
              "        document.querySelector('#df-5c5c5c14-d65e-4c44-a8bf-1cfb147f545f button.colab-df-convert');\n",
              "      buttonEl.style.display =\n",
              "        google.colab.kernel.accessAllowed ? 'block' : 'none';\n",
              "\n",
              "      async function convertToInteractive(key) {\n",
              "        const element = document.querySelector('#df-5c5c5c14-d65e-4c44-a8bf-1cfb147f545f');\n",
              "        const dataTable =\n",
              "          await google.colab.kernel.invokeFunction('convertToInteractive',\n",
              "                                                    [key], {});\n",
              "        if (!dataTable) return;\n",
              "\n",
              "        const docLinkHtml = 'Like what you see? Visit the ' +\n",
              "          '<a target=\"_blank\" href=https://colab.research.google.com/notebooks/data_table.ipynb>data table notebook</a>'\n",
              "          + ' to learn more about interactive tables.';\n",
              "        element.innerHTML = '';\n",
              "        dataTable['output_type'] = 'display_data';\n",
              "        await google.colab.output.renderOutput(dataTable, element);\n",
              "        const docLink = document.createElement('div');\n",
              "        docLink.innerHTML = docLinkHtml;\n",
              "        element.appendChild(docLink);\n",
              "      }\n",
              "    </script>\n",
              "  </div>\n",
              "\n",
              "\n",
              "<div id=\"df-31acd382-65cf-4786-b92c-185e2219a769\">\n",
              "  <button class=\"colab-df-quickchart\" onclick=\"quickchart('df-31acd382-65cf-4786-b92c-185e2219a769')\"\n",
              "            title=\"Suggest charts.\"\n",
              "            style=\"display:none;\">\n",
              "\n",
              "<svg xmlns=\"http://www.w3.org/2000/svg\" height=\"24px\"viewBox=\"0 0 24 24\"\n",
              "     width=\"24px\">\n",
              "    <g>\n",
              "        <path d=\"M19 3H5c-1.1 0-2 .9-2 2v14c0 1.1.9 2 2 2h14c1.1 0 2-.9 2-2V5c0-1.1-.9-2-2-2zM9 17H7v-7h2v7zm4 0h-2V7h2v10zm4 0h-2v-4h2v4z\"/>\n",
              "    </g>\n",
              "</svg>\n",
              "  </button>\n",
              "\n",
              "<style>\n",
              "  .colab-df-quickchart {\n",
              "    background-color: #E8F0FE;\n",
              "    border: none;\n",
              "    border-radius: 50%;\n",
              "    cursor: pointer;\n",
              "    display: none;\n",
              "    fill: #1967D2;\n",
              "    height: 32px;\n",
              "    padding: 0 0 0 0;\n",
              "    width: 32px;\n",
              "  }\n",
              "\n",
              "  .colab-df-quickchart:hover {\n",
              "    background-color: #E2EBFA;\n",
              "    box-shadow: 0px 1px 2px rgba(60, 64, 67, 0.3), 0px 1px 3px 1px rgba(60, 64, 67, 0.15);\n",
              "    fill: #174EA6;\n",
              "  }\n",
              "\n",
              "  [theme=dark] .colab-df-quickchart {\n",
              "    background-color: #3B4455;\n",
              "    fill: #D2E3FC;\n",
              "  }\n",
              "\n",
              "  [theme=dark] .colab-df-quickchart:hover {\n",
              "    background-color: #434B5C;\n",
              "    box-shadow: 0px 1px 3px 1px rgba(0, 0, 0, 0.15);\n",
              "    filter: drop-shadow(0px 1px 2px rgba(0, 0, 0, 0.3));\n",
              "    fill: #FFFFFF;\n",
              "  }\n",
              "</style>\n",
              "\n",
              "  <script>\n",
              "    async function quickchart(key) {\n",
              "      const charts = await google.colab.kernel.invokeFunction(\n",
              "          'suggestCharts', [key], {});\n",
              "    }\n",
              "    (() => {\n",
              "      let quickchartButtonEl =\n",
              "        document.querySelector('#df-31acd382-65cf-4786-b92c-185e2219a769 button');\n",
              "      quickchartButtonEl.style.display =\n",
              "        google.colab.kernel.accessAllowed ? 'block' : 'none';\n",
              "    })();\n",
              "  </script>\n",
              "</div>\n",
              "    </div>\n",
              "  </div>\n"
            ]
          },
          "metadata": {},
          "execution_count": 22
        }
      ]
    },
    {
      "cell_type": "code",
      "source": [
        "# Convert departure_time to datetime\n",
        "transport['departure_time'] = pd.to_datetime(transport['departure_time'])\n",
        "\n",
        "# Extract features from departure_time\n",
        "transport['hour_of_day'] = transport['departure_time'].dt.hour\n",
        "transport['day_of_week'] = transport['departure_time'].dt.dayofweek"
      ],
      "metadata": {
        "id": "uen18QJkacow"
      },
      "execution_count": 23,
      "outputs": []
    },
    {
      "cell_type": "code",
      "source": [
        "from sklearn.model_selection import train_test_split\n",
        "\n",
        "\n",
        "train_set, test_set = train_test_split(transport.head(500000), test_size=0.2, random_state=42)\n",
        "\n",
        "print(\"Length of train_set:\", len(train_set))\n",
        "print(\"Length of test_set:\", len(test_set))"
      ],
      "metadata": {
        "id": "FxiABnbxaeRg",
        "outputId": "cd7eccec-9844-4d65-e4a7-ae957699a1fd",
        "colab": {
          "base_uri": "https://localhost:8080/"
        }
      },
      "execution_count": 24,
      "outputs": [
        {
          "output_type": "stream",
          "name": "stdout",
          "text": [
            "Length of train_set: 400000\n",
            "Length of test_set: 100000\n"
          ]
        }
      ]
    },
    {
      "cell_type": "code",
      "source": [
        "travelfee = train_set.drop(\"travel_fee\", axis=1)\n",
        "travelfee_labels = train_set[\"travel_fee\"].copy()"
      ],
      "metadata": {
        "id": "h-3X4B7OUuOA"
      },
      "execution_count": 25,
      "outputs": []
    },
    {
      "cell_type": "code",
      "source": [
        "from sklearn.compose import ColumnTransformer\n",
        "from sklearn.pipeline import make_pipeline\n",
        "\n",
        "num_attribs = [ 'departure_long', 'departure_lat', 'arrival_long', 'arrival_lat', 'hour_of_day', 'day_of_week','occupancy']\n",
        "\n",
        "num_pipeline = make_pipeline(\n",
        "    StandardScaler()  # Scale features\n",
        ")\n",
        "preprocessing = ColumnTransformer([\n",
        "    (\"num\", num_pipeline, num_attribs),\n",
        "    # Apply numeric pipeline to numeric attributes\n",
        "])"
      ],
      "metadata": {
        "id": "W9n-eIzmaeGJ"
      },
      "execution_count": 26,
      "outputs": []
    },
    {
      "cell_type": "code",
      "source": [
        "transport_prepared = preprocessing.fit_transform(transport)\n",
        "transport_prepared"
      ],
      "metadata": {
        "id": "uzlOrcBYamCL",
        "outputId": "37b22122-467e-4c1f-c1bf-4ebfab53424c",
        "colab": {
          "base_uri": "https://localhost:8080/"
        }
      },
      "execution_count": 27,
      "outputs": [
        {
          "output_type": "execute_result",
          "data": {
            "text/plain": [
              "array([[-0.13931881,  0.10647871, -0.14192551, ...,  0.83893616,\n",
              "        -1.0421306 , -0.51550673],\n",
              "       [-0.14010939,  0.10429268, -0.14258114, ..., -2.06195121,\n",
              "         1.00215009, -0.51550673],\n",
              "       [-0.13803618,  0.10993284, -0.13593987, ..., -1.60391636,\n",
              "         1.51322026, -0.51550673],\n",
              "       ...,\n",
              "       [-0.1272348 ,  0.11141532, -0.13899496, ..., -0.68784667,\n",
              "        -0.01999025,  2.39782439],\n",
              "       [-0.13549651,  0.11020876, -0.13904167, ...,  1.14429273,\n",
              "        -0.01999025,  3.12615717],\n",
              "       [-0.13854644,  0.10797896, -0.13914209, ...,  0.68625788,\n",
              "         1.51322026, -0.51550673]])"
            ]
          },
          "metadata": {},
          "execution_count": 27
        }
      ]
    },
    {
      "cell_type": "markdown",
      "source": [
        "**Select and Train a Model on the Prepared Training Set**\n",
        "\n",
        "**Ridge Regression**\n",
        "\n",
        "Ridge Regression is a regularization technique used to prevent overfitting in linear regression models by adding a penalty term to the cost function based on the L2 norm of the coefficients. Let's continue with implementing Ridge Regression the preprocessed data."
      ],
      "metadata": {
        "id": "rPXof8iiBWp4"
      }
    },
    {
      "cell_type": "code",
      "execution_count": 28,
      "metadata": {
        "id": "Xe1e98hDC3yE"
      },
      "outputs": [],
      "source": [
        "#Imported necessary libraries and modules\n",
        "from sklearn.linear_model import Ridge\n",
        "from sklearn.metrics import mean_squared_error\n",
        "from sklearn.model_selection import cross_val_score, KFold, train_test_split\n",
        "from sklearn.metrics.pairwise import euclidean_distances"
      ]
    },
    {
      "cell_type": "code",
      "source": [
        "# Define features (X) and target variable (y)\n",
        "X = transport_prepared[:, 1:]  # Exclude the 'travel_fee' column\n",
        "y = transport_prepared[:, 0]   # Use the 'travel_fee' column as the target variable\n"
      ],
      "metadata": {
        "id": "PMv_Gs33VFMQ"
      },
      "execution_count": 29,
      "outputs": []
    },
    {
      "cell_type": "code",
      "source": [
        "# Define different alpha values\n",
        "alphas = [0.001, 0.01, 0.1, 1, 10, 100, 1000]"
      ],
      "metadata": {
        "id": "p6aEbxQDdglz"
      },
      "execution_count": 30,
      "outputs": []
    },
    {
      "cell_type": "code",
      "source": [
        "# Create an empty dictionary to store RMSE scores for each alpha\n",
        "rmse_scores_dict = {}"
      ],
      "metadata": {
        "id": "tGRUKQp2BdhB"
      },
      "execution_count": 31,
      "outputs": []
    },
    {
      "cell_type": "code",
      "source": [
        "# Initialize KFold cross-validation\n",
        "kf = KFold(n_splits=5, shuffle=True, random_state=42)"
      ],
      "metadata": {
        "id": "V2mSn-B9ijZZ"
      },
      "execution_count": 32,
      "outputs": []
    },
    {
      "cell_type": "code",
      "source": [
        "# Iterate through each alpha value\n",
        "for alpha in alphas:\n",
        "    # Create a Ridge Regression model with the current alpha\n",
        "    model = Ridge(alpha=alpha)\n",
        "\n",
        "    # Perform K-fold cross-validation\n",
        "    rmse_scores = np.sqrt(-cross_val_score(model, X, y, cv=kf, scoring='neg_mean_squared_error'))\n",
        "\n",
        "    # Store the RMSE scores in the dictionary\n",
        "    rmse_scores_dict[alpha] = rmse_scores"
      ],
      "metadata": {
        "id": "ZsUlc7ilBdAh"
      },
      "execution_count": 33,
      "outputs": []
    },
    {
      "cell_type": "code",
      "source": [
        "# Convert the dictionary into a DataFrame for easier analysis\n",
        "rmse_df = pd.DataFrame(rmse_scores_dict)"
      ],
      "metadata": {
        "id": "R-nSisMZBcb4"
      },
      "execution_count": 34,
      "outputs": []
    },
    {
      "cell_type": "code",
      "source": [
        "# Calculate the mean RMSE and standard deviation for each alpha\n",
        "rmse_mean = rmse_df.mean()\n",
        "rmse_std = rmse_df.std()"
      ],
      "metadata": {
        "id": "mwjfzGdGVh-S"
      },
      "execution_count": 35,
      "outputs": []
    },
    {
      "cell_type": "code",
      "source": [
        "# Find the alpha with the lowest mean RMSE\n",
        "best_alpha = rmse_mean.idxmin()"
      ],
      "metadata": {
        "id": "Hq11iDa2VkmM"
      },
      "execution_count": 36,
      "outputs": []
    },
    {
      "cell_type": "code",
      "source": [
        "# Define colors for each bar\n",
        "bar_colors = ['blue', 'orange', 'green', 'red', 'purple', 'brown', 'pink']\n",
        "\n",
        "# Visualize the comparison between each alpha outcome using a bar plot\n",
        "plt.figure(figsize=(10, 6))\n",
        "bars = plt.bar(alphas, rmse_mean, yerr=rmse_std, align='center', capsize=5, color=bar_colors, alpha=0.7, error_kw={'elinewidth': 1, 'capsize': 3})\n",
        "plt.xscale('log')  # Use a logarithmic scale for better visualization\n",
        "plt.xlabel('Alpha')\n",
        "plt.ylabel('Mean RMSE')\n",
        "plt.title('Comparison of Mean RMSE for Different Alpha Values')\n",
        "plt.xticks(alphas, ['{:.4f}'.format(a) for a in alphas])  # Set x-axis ticks to the specified alpha values\n",
        "plt.grid(True)\n",
        "plt.legend(bars, ['Alpha ' + str(a) for a in alphas])  # Add legend\n",
        "plt.show()\n",
        "\n",
        "print(\"Mean RMSE for each alpha:\")\n",
        "for alpha, mean_rmse in zip(alphas, rmse_mean):\n",
        "    print(\"{:.10f}: {:.10f}\".format(alpha, mean_rmse))\n",
        "\n",
        "print(\"\\nStandard Deviation of RMSE for each alpha:\")\n",
        "for alpha, std_rmse in zip(alphas, rmse_std):\n",
        "    print(\"{:.10f}: {:.10f}\".format(alpha, std_rmse))\n",
        "\n",
        "print(\"\\nBest alpha:\", best_alpha)"
      ],
      "metadata": {
        "id": "ytOadC4iVnPh",
        "outputId": "60a660ed-3d6e-4980-f988-10f2fcda542b",
        "colab": {
          "base_uri": "https://localhost:8080/",
          "height": 894
        }
      },
      "execution_count": 37,
      "outputs": [
        {
          "output_type": "display_data",
          "data": {
            "text/plain": [
              "<Figure size 1000x600 with 1 Axes>"
            ],
            "image/png": "[encoded data removed]"
          },
          "metadata": {}
        },
        {
          "output_type": "stream",
          "name": "stdout",
          "text": [
            "Mean RMSE for each alpha:\n",
            "0.0010000000: 0.4991663695\n",
            "0.0100000000: 0.4991659970\n",
            "0.1000000000: 0.4991622715\n",
            "1.0000000000: 0.4991250232\n",
            "10.0000000000: 0.4987531581\n",
            "100.0000000000: 0.4950953278\n",
            "1000.0000000000: 0.4637544782\n",
            "\n",
            "Standard Deviation of RMSE for each alpha:\n",
            "0.0010000000: 0.5625634606\n",
            "0.0100000000: 0.5625626232\n",
            "0.1000000000: 0.5625542498\n",
            "1.0000000000: 0.5624705297\n",
            "10.0000000000: 0.5616346981\n",
            "100.0000000000: 0.5534111375\n",
            "1000.0000000000: 0.4827768417\n",
            "\n",
            "Best alpha: 1000.0\n"
          ]
        }
      ]
    },
    {
      "cell_type": "markdown",
      "source": [
        "# Fine-tune Ridge Regression model (shortlisted promising models) using crossvalidation.\n"
      ],
      "metadata": {
        "id": "HqIOpkDYX_qS"
      }
    },
    {
      "cell_type": "code",
      "source": [
        "from sklearn.model_selection import GridSearchCV\n",
        "\n",
        "# Define the alpha values to search through\n",
        "param_grid = {'alpha': [0.001, 0.01, 0.1, 1, 10, 100, 1000]}\n",
        "\n",
        "# Create a Ridge Regression model\n",
        "ridge_model = Ridge()\n",
        "\n",
        "# Initialize GridSearchCV with Ridge model and parameter grid\n",
        "grid_search = GridSearchCV(ridge_model, param_grid, cv=5, scoring='neg_mean_squared_error')\n",
        "\n",
        "# Perform the grid search on the data\n",
        "grid_search.fit(X, y)\n",
        "\n",
        "# Get the best alpha value and associated RMSE score\n",
        "best_alpha = grid_search.best_params_['alpha']\n",
        "best_rmse = np.sqrt(-grid_search.best_score_)\n",
        "\n",
        "print(\"Best alpha:\", best_alpha)\n",
        "print(\"Best RMSE:\", best_rmse)"
      ],
      "metadata": {
        "colab": {
          "base_uri": "https://localhost:8080/"
        },
        "id": "nH_Zmv-YYRXY",
        "outputId": "7520ab10-494e-499b-d631-065628b7533c"
      },
      "execution_count": 38,
      "outputs": [
        {
          "output_type": "stream",
          "name": "stdout",
          "text": [
            "Best alpha: 1000\n",
            "Best RMSE: 0.6363600545668121\n"
          ]
        }
      ]
    }
  ]
}