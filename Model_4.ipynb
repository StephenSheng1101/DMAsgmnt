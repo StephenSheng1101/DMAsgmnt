{
 "cells": [
  {
   "cell_type": "markdown",
   "metadata": {
    "colab_type": "text",
    "id": "view-in-github"
   },
   "source": [
    "<a href=\"https://colab.research.google.com/github/StephenSheng1101/DMAsgmnt/blob/main/Model_4.ipynb\" target=\"_parent\"><img src=\"https://colab.research.google.com/assets/colab-badge.svg\" alt=\"Open In Colab\"/></a>"
   ]
  },
  {
   "cell_type": "code",
   "execution_count": 14,
   "metadata": {
    "id": "Y7_cPG8EDclS"
   },
   "outputs": [],
   "source": [
    "from pathlib import Path\n",
    "import pandas as pd\n",
    "import tarfile\n",
    "import urllib.request\n",
    "import numpy as np\n",
    "import matplotlib.pyplot as plt\n",
    "import sklearn\n",
    "from sklearn.preprocessing import StandardScaler"
   ]
  },
  {
   "cell_type": "code",
   "execution_count": 15,
   "metadata": {
    "id": "Xywye5V7lwQs"
   },
   "outputs": [],
   "source": [
    "transport = pd.read_csv(\"dataset.csv\")"
   ]
  },
  {
   "cell_type": "code",
   "execution_count": 16,
   "metadata": {
    "colab": {
     "base_uri": "https://localhost:8080/"
    },
    "id": "MIT63EfM5qy9",
    "outputId": "20e97d46-d560-49af-9b61-b6214e9321b3"
   },
   "outputs": [
    {
     "name": "stdout",
     "output_type": "stream",
     "text": [
      "<class 'pandas.core.frame.DataFrame'>\n",
      "RangeIndex: 2596558 entries, 0 to 2596557\n",
      "Data columns (total 8 columns):\n",
      " #   Column          Dtype  \n",
      "---  ------          -----  \n",
      " 0   ID              object \n",
      " 1   travel_fee      float64\n",
      " 2   departure_time  object \n",
      " 3   departure_long  float64\n",
      " 4   departure_lat   float64\n",
      " 5   arrival_long    float64\n",
      " 6   arrival_lat     float64\n",
      " 7   occupancy       int64  \n",
      "dtypes: float64(5), int64(1), object(2)\n",
      "memory usage: 158.5+ MB\n"
     ]
    }
   ],
   "source": [
    "transport.describe()\n",
    "transport.info()"
   ]
  },
  {
   "cell_type": "code",
   "execution_count": 17,
   "metadata": {
    "colab": {
     "base_uri": "https://localhost:8080/"
    },
    "id": "gvGTBmOR5t3v",
    "outputId": "8444d676-8d9f-45f0-cbfd-ff264604eeb9"
   },
   "outputs": [
    {
     "data": {
      "text/plain": [
       "ID                 0\n",
       "travel_fee         0\n",
       "departure_time     0\n",
       "departure_long     0\n",
       "departure_lat      0\n",
       "arrival_long      44\n",
       "arrival_lat       44\n",
       "occupancy          0\n",
       "dtype: int64"
      ]
     },
     "execution_count": 17,
     "metadata": {},
     "output_type": "execute_result"
    }
   ],
   "source": [
    "transport.isnull().sum()"
   ]
  },
  {
   "cell_type": "code",
   "execution_count": 18,
   "metadata": {
    "id": "WHKBCrWY5wr5"
   },
   "outputs": [
    {
     "name": "stdout",
     "output_type": "stream",
     "text": [
      "<class 'pandas.core.frame.DataFrame'>\n",
      "Int64Index: 2378828 entries, 0 to 2596557\n",
      "Data columns (total 7 columns):\n",
      " #   Column          Dtype  \n",
      "---  ------          -----  \n",
      " 0   travel_fee      float64\n",
      " 1   departure_time  object \n",
      " 2   departure_long  float64\n",
      " 3   departure_lat   float64\n",
      " 4   arrival_long    float64\n",
      " 5   arrival_lat     float64\n",
      " 6   occupancy       int64  \n",
      "dtypes: float64(5), int64(1), object(1)\n",
      "memory usage: 145.2+ MB\n"
     ]
    },
    {
     "data": {
      "text/html": [
       "<div>\n",
       "<style scoped>\n",
       "    .dataframe tbody tr th:only-of-type {\n",
       "        vertical-align: middle;\n",
       "    }\n",
       "\n",
       "    .dataframe tbody tr th {\n",
       "        vertical-align: top;\n",
       "    }\n",
       "\n",
       "    .dataframe thead th {\n",
       "        text-align: right;\n",
       "    }\n",
       "</style>\n",
       "<table border=\"1\" class=\"dataframe\">\n",
       "  <thead>\n",
       "    <tr style=\"text-align: right;\">\n",
       "      <th></th>\n",
       "      <th>travel_fee</th>\n",
       "      <th>departure_time</th>\n",
       "      <th>departure_long</th>\n",
       "      <th>departure_lat</th>\n",
       "      <th>arrival_long</th>\n",
       "      <th>arrival_lat</th>\n",
       "      <th>occupancy</th>\n",
       "    </tr>\n",
       "  </thead>\n",
       "  <tbody>\n",
       "    <tr>\n",
       "      <th>0</th>\n",
       "      <td>7.00</td>\n",
       "      <td>2013-07-02 19:54:00+00:00</td>\n",
       "      <td>-74.005360</td>\n",
       "      <td>40.728867</td>\n",
       "      <td>-74.008913</td>\n",
       "      <td>40.710907</td>\n",
       "      <td>1</td>\n",
       "    </tr>\n",
       "    <tr>\n",
       "      <th>1</th>\n",
       "      <td>5.50</td>\n",
       "      <td>2013-09-28 00:21:31+00:00</td>\n",
       "      <td>-74.014165</td>\n",
       "      <td>40.708941</td>\n",
       "      <td>-74.016310</td>\n",
       "      <td>40.716734</td>\n",
       "      <td>1</td>\n",
       "    </tr>\n",
       "    <tr>\n",
       "      <th>2</th>\n",
       "      <td>21.50</td>\n",
       "      <td>2013-06-16 03:18:00+00:00</td>\n",
       "      <td>-73.991075</td>\n",
       "      <td>40.760352</td>\n",
       "      <td>-73.941382</td>\n",
       "      <td>40.713292</td>\n",
       "      <td>1</td>\n",
       "    </tr>\n",
       "    <tr>\n",
       "      <th>3</th>\n",
       "      <td>9.50</td>\n",
       "      <td>2013-07-20 13:43:00+00:00</td>\n",
       "      <td>-74.002662</td>\n",
       "      <td>40.723630</td>\n",
       "      <td>-73.991722</td>\n",
       "      <td>40.748905</td>\n",
       "      <td>5</td>\n",
       "    </tr>\n",
       "    <tr>\n",
       "      <th>4</th>\n",
       "      <td>15.50</td>\n",
       "      <td>2013-11-05 22:57:17+00:00</td>\n",
       "      <td>-73.962397</td>\n",
       "      <td>40.712705</td>\n",
       "      <td>-73.996834</td>\n",
       "      <td>40.680403</td>\n",
       "      <td>2</td>\n",
       "    </tr>\n",
       "    <tr>\n",
       "      <th>...</th>\n",
       "      <td>...</td>\n",
       "      <td>...</td>\n",
       "      <td>...</td>\n",
       "      <td>...</td>\n",
       "      <td>...</td>\n",
       "      <td>...</td>\n",
       "      <td>...</td>\n",
       "    </tr>\n",
       "    <tr>\n",
       "      <th>2596552</th>\n",
       "      <td>11.00</td>\n",
       "      <td>2013-04-17 10:34:24+00:00</td>\n",
       "      <td>-74.002635</td>\n",
       "      <td>40.760825</td>\n",
       "      <td>-73.978540</td>\n",
       "      <td>40.751177</td>\n",
       "      <td>1</td>\n",
       "    </tr>\n",
       "    <tr>\n",
       "      <th>2596554</th>\n",
       "      <td>6.50</td>\n",
       "      <td>2013-12-13 19:04:00+00:00</td>\n",
       "      <td>-73.955435</td>\n",
       "      <td>40.765110</td>\n",
       "      <td>-73.960947</td>\n",
       "      <td>40.756727</td>\n",
       "      <td>1</td>\n",
       "    </tr>\n",
       "    <tr>\n",
       "      <th>2596555</th>\n",
       "      <td>41.33</td>\n",
       "      <td>2013-05-25 14:48:39+00:00</td>\n",
       "      <td>-73.862824</td>\n",
       "      <td>40.768935</td>\n",
       "      <td>-73.984470</td>\n",
       "      <td>40.739395</td>\n",
       "      <td>2</td>\n",
       "    </tr>\n",
       "    <tr>\n",
       "      <th>2596556</th>\n",
       "      <td>7.50</td>\n",
       "      <td>2013-12-22 20:45:19+00:00</td>\n",
       "      <td>-73.970539</td>\n",
       "      <td>40.761767</td>\n",
       "      <td>-73.982731</td>\n",
       "      <td>40.744562</td>\n",
       "      <td>1</td>\n",
       "    </tr>\n",
       "    <tr>\n",
       "      <th>2596557</th>\n",
       "      <td>7.50</td>\n",
       "      <td>2013-07-17 18:57:14+00:00</td>\n",
       "      <td>-73.980497</td>\n",
       "      <td>40.775248</td>\n",
       "      <td>-73.978011</td>\n",
       "      <td>40.763874</td>\n",
       "      <td>1</td>\n",
       "    </tr>\n",
       "  </tbody>\n",
       "</table>\n",
       "<p>2378828 rows × 7 columns</p>\n",
       "</div>"
      ],
      "text/plain": [
       "         travel_fee             departure_time  departure_long  departure_lat  \\\n",
       "0              7.00  2013-07-02 19:54:00+00:00      -74.005360      40.728867   \n",
       "1              5.50  2013-09-28 00:21:31+00:00      -74.014165      40.708941   \n",
       "2             21.50  2013-06-16 03:18:00+00:00      -73.991075      40.760352   \n",
       "3              9.50  2013-07-20 13:43:00+00:00      -74.002662      40.723630   \n",
       "4             15.50  2013-11-05 22:57:17+00:00      -73.962397      40.712705   \n",
       "...             ...                        ...             ...            ...   \n",
       "2596552       11.00  2013-04-17 10:34:24+00:00      -74.002635      40.760825   \n",
       "2596554        6.50  2013-12-13 19:04:00+00:00      -73.955435      40.765110   \n",
       "2596555       41.33  2013-05-25 14:48:39+00:00      -73.862824      40.768935   \n",
       "2596556        7.50  2013-12-22 20:45:19+00:00      -73.970539      40.761767   \n",
       "2596557        7.50  2013-07-17 18:57:14+00:00      -73.980497      40.775248   \n",
       "\n",
       "         arrival_long  arrival_lat  occupancy  \n",
       "0          -74.008913    40.710907          1  \n",
       "1          -74.016310    40.716734          1  \n",
       "2          -73.941382    40.713292          1  \n",
       "3          -73.991722    40.748905          5  \n",
       "4          -73.996834    40.680403          2  \n",
       "...               ...          ...        ...  \n",
       "2596552    -73.978540    40.751177          1  \n",
       "2596554    -73.960947    40.756727          1  \n",
       "2596555    -73.984470    40.739395          2  \n",
       "2596556    -73.982731    40.744562          1  \n",
       "2596557    -73.978011    40.763874          1  \n",
       "\n",
       "[2378828 rows x 7 columns]"
      ]
     },
     "execution_count": 18,
     "metadata": {},
     "output_type": "execute_result"
    }
   ],
   "source": [
    "#handling missing value\n",
    "transport[\"departure_long\"].fillna(transport[\"departure_long\"].mean(), inplace=True)\n",
    "transport[\"departure_lat\"].fillna(transport[\"departure_lat\"].mean(), inplace=True)\n",
    "transport[\"occupancy\"].fillna(transport[\"occupancy\"].mode()[0], inplace=True)\n",
    "transport.drop(columns=['ID'], inplace=True)\n",
    "\n",
    "# Drop rows with missing \"departure_time\",\"arrival_long\" and \"arrival_lat\"\n",
    "transport.dropna(subset=[\"departure_time\", \"arrival_long\", \"arrival_lat\"],inplace = True)\n",
    "transport.isnull().sum()\n",
    "\n",
    "# Drop rows with a 0 value of occupancy\n",
    "transport = transport.drop(transport[transport['occupancy'] <= 0].index)\n",
    "\n",
    "# Handling Outliers\n",
    "# Select columns for numeric attributes\n",
    "num_attribs = ['departure_long', 'departure_lat', 'arrival_long', 'arrival_lat', 'occupancy', 'travel_fee']\n",
    "\n",
    "# Remove outliers using Z-score method\n",
    "z_scores = np.abs((transport[num_attribs] - transport[num_attribs].mean()) / transport[num_attribs].std())\n",
    "transport = transport[(z_scores < 3).all(axis=1)]\n",
    "transport.info()\n",
    "transport"
   ]
  },
  {
   "cell_type": "code",
   "execution_count": 19,
   "metadata": {
    "colab": {
     "base_uri": "https://localhost:8080/",
     "height": 206
    },
    "id": "iNmUyyIm5yIH",
    "outputId": "740d3351-5f92-47d7-e314-efebf832aae0"
   },
   "outputs": [
    {
     "data": {
      "text/html": [
       "<div>\n",
       "<style scoped>\n",
       "    .dataframe tbody tr th:only-of-type {\n",
       "        vertical-align: middle;\n",
       "    }\n",
       "\n",
       "    .dataframe tbody tr th {\n",
       "        vertical-align: top;\n",
       "    }\n",
       "\n",
       "    .dataframe thead th {\n",
       "        text-align: right;\n",
       "    }\n",
       "</style>\n",
       "<table border=\"1\" class=\"dataframe\">\n",
       "  <thead>\n",
       "    <tr style=\"text-align: right;\">\n",
       "      <th></th>\n",
       "      <th>travel_fee</th>\n",
       "      <th>departure_time</th>\n",
       "      <th>departure_long</th>\n",
       "      <th>departure_lat</th>\n",
       "      <th>arrival_long</th>\n",
       "      <th>arrival_lat</th>\n",
       "      <th>occupancy</th>\n",
       "    </tr>\n",
       "  </thead>\n",
       "  <tbody>\n",
       "    <tr>\n",
       "      <th>0</th>\n",
       "      <td>7.0</td>\n",
       "      <td>2013-07-02 19:54:00+00:00</td>\n",
       "      <td>-74.005360</td>\n",
       "      <td>40.728867</td>\n",
       "      <td>-74.008913</td>\n",
       "      <td>40.710907</td>\n",
       "      <td>1</td>\n",
       "    </tr>\n",
       "    <tr>\n",
       "      <th>1</th>\n",
       "      <td>5.5</td>\n",
       "      <td>2013-09-28 00:21:31+00:00</td>\n",
       "      <td>-74.014165</td>\n",
       "      <td>40.708941</td>\n",
       "      <td>-74.016310</td>\n",
       "      <td>40.716734</td>\n",
       "      <td>1</td>\n",
       "    </tr>\n",
       "    <tr>\n",
       "      <th>2</th>\n",
       "      <td>21.5</td>\n",
       "      <td>2013-06-16 03:18:00+00:00</td>\n",
       "      <td>-73.991075</td>\n",
       "      <td>40.760352</td>\n",
       "      <td>-73.941382</td>\n",
       "      <td>40.713292</td>\n",
       "      <td>1</td>\n",
       "    </tr>\n",
       "    <tr>\n",
       "      <th>3</th>\n",
       "      <td>9.5</td>\n",
       "      <td>2013-07-20 13:43:00+00:00</td>\n",
       "      <td>-74.002662</td>\n",
       "      <td>40.723630</td>\n",
       "      <td>-73.991722</td>\n",
       "      <td>40.748905</td>\n",
       "      <td>5</td>\n",
       "    </tr>\n",
       "    <tr>\n",
       "      <th>4</th>\n",
       "      <td>15.5</td>\n",
       "      <td>2013-11-05 22:57:17+00:00</td>\n",
       "      <td>-73.962397</td>\n",
       "      <td>40.712705</td>\n",
       "      <td>-73.996834</td>\n",
       "      <td>40.680403</td>\n",
       "      <td>2</td>\n",
       "    </tr>\n",
       "  </tbody>\n",
       "</table>\n",
       "</div>"
      ],
      "text/plain": [
       "   travel_fee             departure_time  departure_long  departure_lat  \\\n",
       "0         7.0  2013-07-02 19:54:00+00:00      -74.005360      40.728867   \n",
       "1         5.5  2013-09-28 00:21:31+00:00      -74.014165      40.708941   \n",
       "2        21.5  2013-06-16 03:18:00+00:00      -73.991075      40.760352   \n",
       "3         9.5  2013-07-20 13:43:00+00:00      -74.002662      40.723630   \n",
       "4        15.5  2013-11-05 22:57:17+00:00      -73.962397      40.712705   \n",
       "\n",
       "   arrival_long  arrival_lat  occupancy  \n",
       "0    -74.008913    40.710907          1  \n",
       "1    -74.016310    40.716734          1  \n",
       "2    -73.941382    40.713292          1  \n",
       "3    -73.991722    40.748905          5  \n",
       "4    -73.996834    40.680403          2  "
      ]
     },
     "execution_count": 19,
     "metadata": {},
     "output_type": "execute_result"
    }
   ],
   "source": [
    "transport.head()"
   ]
  },
  {
   "cell_type": "code",
   "execution_count": 20,
   "metadata": {
    "id": "NMVjy-xI5z6Q"
   },
   "outputs": [],
   "source": [
    "# Convert departure_time to datetime\n",
    "transport['departure_time'] = pd.to_datetime(transport['departure_time'])\n",
    "\n",
    "# Extract features from departure_time\n",
    "transport['hour_of_day'] = transport['departure_time'].dt.hour\n",
    "transport['day_of_week'] = transport['departure_time'].dt.dayofweek"
   ]
  },
  {
   "cell_type": "code",
   "execution_count": 21,
   "metadata": {
    "colab": {
     "base_uri": "https://localhost:8080/"
    },
    "id": "d3New1rC6HWg",
    "outputId": "0863399b-b95e-48a5-b437-b669de6569f6"
   },
   "outputs": [
    {
     "name": "stdout",
     "output_type": "stream",
     "text": [
      "Length of train_set: 400000\n",
      "Length of test_set: 100000\n"
     ]
    }
   ],
   "source": [
    "from sklearn.model_selection import train_test_split\n",
    "\n",
    "\n",
    "train_set, test_set = train_test_split(transport.head(500000), test_size=0.2, random_state=42)\n",
    "\n",
    "print(\"Length of train_set:\", len(train_set))\n",
    "print(\"Length of test_set:\", len(test_set))"
   ]
  },
  {
   "cell_type": "code",
   "execution_count": 22,
   "metadata": {},
   "outputs": [],
   "source": [
    "travelfee = train_set.drop(\"travel_fee\", axis=1)\n",
    "travelfee_labels = train_set[\"travel_fee\"].copy()"
   ]
  },
  {
   "cell_type": "code",
   "execution_count": 23,
   "metadata": {
    "colab": {
     "base_uri": "https://localhost:8080/"
    },
    "id": "-EKaqSxT54pF",
    "outputId": "42ac3743-b4c7-445c-d41c-ff88ec45105f"
   },
   "outputs": [],
   "source": [
    "from sklearn.compose import ColumnTransformer\n",
    "from sklearn.pipeline import make_pipeline\n",
    "\n",
    "num_attribs = [ 'departure_long', 'departure_lat', 'arrival_long', 'arrival_lat', 'hour_of_day', 'day_of_week','occupancy']\n",
    "\n",
    "num_pipeline = make_pipeline(\n",
    "    StandardScaler()  # Scale features\n",
    ")\n",
    "preprocessing = ColumnTransformer([\n",
    "    (\"num\", num_pipeline, num_attribs),\n",
    "    # Apply numeric pipeline to numeric attributes\n",
    "])\n"
   ]
  },
  {
   "cell_type": "code",
   "execution_count": 24,
   "metadata": {
    "colab": {
     "base_uri": "https://localhost:8080/",
     "height": 326
    },
    "id": "tZiFICr656-x",
    "outputId": "10d8fc69-21be-4ef7-902a-a76c4a2377b6"
   },
   "outputs": [
    {
     "data": {
      "text/plain": [
       "array([[-0.28420307, -1.21082781, -0.53654539, ...,  0.37792462,\n",
       "         1.51306249,  3.18207706],\n",
       "       [ 0.04477485,  0.21021648, -0.63257574, ...,  1.29241509,\n",
       "         1.0017459 , -0.48964476],\n",
       "       [-0.45958577, -0.58837285, -0.14115703, ...,  1.29241509,\n",
       "         1.0017459 , -0.48964476],\n",
       "       ...,\n",
       "       [-0.07390843,  0.27601313, -0.10970653, ...,  1.14000001,\n",
       "        -0.02088728, -0.48964476],\n",
       "       [-0.29254122,  0.09154919, -0.07704352, ...,  0.98758493,\n",
       "        -1.55483706, -0.48964476],\n",
       "       [-0.30677022, -0.74234167, -0.01902985, ..., -0.2317357 ,\n",
       "         1.51306249, -0.48964476]])"
      ]
     },
     "execution_count": 24,
     "metadata": {},
     "output_type": "execute_result"
    }
   ],
   "source": [
    "travelfee_prepared = preprocessing.fit_transform(travelfee)\n",
    "travelfee_prepared"
   ]
  },
  {
   "cell_type": "code",
   "execution_count": 25,
   "metadata": {
    "id": "-q3lkl3Z59xk"
   },
   "outputs": [
    {
     "data": {
      "text/plain": [
       "array(['num__departure_long', 'num__departure_lat', 'num__arrival_long',\n",
       "       'num__arrival_lat', 'num__hour_of_day', 'num__day_of_week',\n",
       "       'num__occupancy'], dtype=object)"
      ]
     },
     "execution_count": 25,
     "metadata": {},
     "output_type": "execute_result"
    }
   ],
   "source": [
    "preprocessing.get_feature_names_out()"
   ]
  },
  {
   "cell_type": "code",
   "execution_count": 27,
   "metadata": {
    "id": "CtzXT-0P6KLW"
   },
   "outputs": [
    {
     "name": "stderr",
     "output_type": "stream",
     "text": [
      "100%|█████████████████████████████████████████████████████████████████████████| 400000/400000 [29:27<00:00, 226.31it/s]"
     ]
    },
    {
     "name": "stdout",
     "output_type": "stream",
     "text": [
      "Mean Squared Error: 57.327363356999996\n"
     ]
    },
    {
     "name": "stderr",
     "output_type": "stream",
     "text": [
      "\n"
     ]
    }
   ],
   "source": [
    "from sklearn.svm import SVR\n",
    "from sklearn.metrics import mean_squared_error\n",
    "from tqdm import tqdm\n",
    "\n",
    "# Define features and target variables\n",
    "features = [\"departure_long\", \"departure_lat\", \"arrival_long\", \"arrival_lat\", \"occupancy\", \"hour_of_day\", \"day_of_week\"]\n",
    "X_train = travelfee[features]\n",
    "y_train = travelfee_labels\n",
    "X_test = test_set[features]\n",
    "y_test = test_set[\"travel_fee\"]\n",
    "\n",
    "# Initialize the SVR model\n",
    "svr_model = SVR(kernel='linear', C=10.0)\n",
    "\n",
    "# Train the model with tqdm\n",
    "with tqdm(total=len(X_train)) as pbar:\n",
    "    for i in range(len(X_train)):\n",
    "        svr_model.fit(X_train.iloc[[i]], [y_train.iloc[i]])\n",
    "        pbar.update(1)\n",
    "\n",
    "# Predict on the test set\n",
    "y_pred = svr_model.predict(X_test)\n",
    "\n",
    "# Evaluate the model\n",
    "mse = mean_squared_error(y_test, y_pred)\n",
    "print(\"Mean Squared Error:\", mse)"
   ]
  },
  {
   "cell_type": "code",
   "execution_count": null,
   "metadata": {},
   "outputs": [],
   "source": []
  }
 ],
 "metadata": {
  "colab": {
   "include_colab_link": true,
   "provenance": []
  },
  "kernelspec": {
   "display_name": "Python 3 (ipykernel)",
   "language": "python",
   "name": "python3"
  },
  "language_info": {
   "codemirror_mode": {
    "name": "ipython",
    "version": 3
   },
   "file_extension": ".py",
   "mimetype": "text/x-python",
   "name": "python",
   "nbconvert_exporter": "python",
   "pygments_lexer": "ipython3",
   "version": "3.10.9"
  }
 },
 "nbformat": 4,
 "nbformat_minor": 4
}
