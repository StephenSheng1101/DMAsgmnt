{
 "cells": [
  {
   "cell_type": "markdown",
   "metadata": {
    "colab_type": "text",
    "id": "view-in-github"
   },
   "source": [
    "<a href=\"https://colab.research.google.com/github/StephenSheng1101/DMAsgmnt/blob/main/Model_9.ipynb\" target=\"_parent\"><img src=\"https://colab.research.google.com/assets/colab-badge.svg\" alt=\"Open In Colab\"/></a>"
   ]
  },
  {
   "cell_type": "code",
   "execution_count": 27,
   "metadata": {
    "id": "vJEUiPIqACE4"
   },
   "outputs": [],
   "source": [
    "from pathlib import Path\n",
    "import pandas as pd\n",
    "import tarfile\n",
    "import urllib.request\n",
    "import numpy as np\n",
    "import matplotlib.pyplot as plt\n",
    "import sklearn\n",
    "from sklearn.preprocessing import StandardScaler"
   ]
  },
  {
   "cell_type": "code",
   "execution_count": 28,
   "metadata": {
    "id": "iB_z1zCbE0sh"
   },
   "outputs": [],
   "source": [
    "transport = pd.read_csv(\"dataset.csv\")"
   ]
  },
  {
   "cell_type": "code",
   "execution_count": 29,
   "metadata": {
    "colab": {
     "base_uri": "https://localhost:8080/"
    },
    "id": "44e5e_5QE7B0",
    "outputId": "c855001e-2871-4814-f665-0c60ee0334f8"
   },
   "outputs": [
    {
     "name": "stdout",
     "output_type": "stream",
     "text": [
      "<class 'pandas.core.frame.DataFrame'>\n",
      "RangeIndex: 2596558 entries, 0 to 2596557\n",
      "Data columns (total 8 columns):\n",
      " #   Column          Dtype  \n",
      "---  ------          -----  \n",
      " 0   ID              object \n",
      " 1   travel_fee      float64\n",
      " 2   departure_time  object \n",
      " 3   departure_long  float64\n",
      " 4   departure_lat   float64\n",
      " 5   arrival_long    float64\n",
      " 6   arrival_lat     float64\n",
      " 7   occupancy       int64  \n",
      "dtypes: float64(5), int64(1), object(2)\n",
      "memory usage: 158.5+ MB\n"
     ]
    }
   ],
   "source": [
    "transport.describe()\n",
    "transport.info()"
   ]
  },
  {
   "cell_type": "code",
   "execution_count": 30,
   "metadata": {
    "colab": {
     "base_uri": "https://localhost:8080/"
    },
    "id": "2GxtJ8MiE9Tm",
    "outputId": "0c43ab67-9a78-47f3-c09e-f225ae68e20f"
   },
   "outputs": [
    {
     "data": {
      "text/plain": [
       "ID                 0\n",
       "travel_fee         0\n",
       "departure_time     0\n",
       "departure_long     0\n",
       "departure_lat      0\n",
       "arrival_long      44\n",
       "arrival_lat       44\n",
       "occupancy          0\n",
       "dtype: int64"
      ]
     },
     "execution_count": 30,
     "metadata": {},
     "output_type": "execute_result"
    }
   ],
   "source": [
    "transport.isnull().sum()"
   ]
  },
  {
   "cell_type": "code",
   "execution_count": 31,
   "metadata": {
    "id": "ggTsBH8mE_kh"
   },
   "outputs": [
    {
     "name": "stdout",
     "output_type": "stream",
     "text": [
      "<class 'pandas.core.frame.DataFrame'>\n",
      "Int64Index: 2378828 entries, 0 to 2596557\n",
      "Data columns (total 7 columns):\n",
      " #   Column          Dtype  \n",
      "---  ------          -----  \n",
      " 0   travel_fee      float64\n",
      " 1   departure_time  object \n",
      " 2   departure_long  float64\n",
      " 3   departure_lat   float64\n",
      " 4   arrival_long    float64\n",
      " 5   arrival_lat     float64\n",
      " 6   occupancy       int64  \n",
      "dtypes: float64(5), int64(1), object(1)\n",
      "memory usage: 145.2+ MB\n"
     ]
    },
    {
     "data": {
      "text/html": [
       "<div>\n",
       "<style scoped>\n",
       "    .dataframe tbody tr th:only-of-type {\n",
       "        vertical-align: middle;\n",
       "    }\n",
       "\n",
       "    .dataframe tbody tr th {\n",
       "        vertical-align: top;\n",
       "    }\n",
       "\n",
       "    .dataframe thead th {\n",
       "        text-align: right;\n",
       "    }\n",
       "</style>\n",
       "<table border=\"1\" class=\"dataframe\">\n",
       "  <thead>\n",
       "    <tr style=\"text-align: right;\">\n",
       "      <th></th>\n",
       "      <th>travel_fee</th>\n",
       "      <th>departure_time</th>\n",
       "      <th>departure_long</th>\n",
       "      <th>departure_lat</th>\n",
       "      <th>arrival_long</th>\n",
       "      <th>arrival_lat</th>\n",
       "      <th>occupancy</th>\n",
       "    </tr>\n",
       "  </thead>\n",
       "  <tbody>\n",
       "    <tr>\n",
       "      <th>0</th>\n",
       "      <td>7.00</td>\n",
       "      <td>2013-07-02 19:54:00+00:00</td>\n",
       "      <td>-74.005360</td>\n",
       "      <td>40.728867</td>\n",
       "      <td>-74.008913</td>\n",
       "      <td>40.710907</td>\n",
       "      <td>1</td>\n",
       "    </tr>\n",
       "    <tr>\n",
       "      <th>1</th>\n",
       "      <td>5.50</td>\n",
       "      <td>2013-09-28 00:21:31+00:00</td>\n",
       "      <td>-74.014165</td>\n",
       "      <td>40.708941</td>\n",
       "      <td>-74.016310</td>\n",
       "      <td>40.716734</td>\n",
       "      <td>1</td>\n",
       "    </tr>\n",
       "    <tr>\n",
       "      <th>2</th>\n",
       "      <td>21.50</td>\n",
       "      <td>2013-06-16 03:18:00+00:00</td>\n",
       "      <td>-73.991075</td>\n",
       "      <td>40.760352</td>\n",
       "      <td>-73.941382</td>\n",
       "      <td>40.713292</td>\n",
       "      <td>1</td>\n",
       "    </tr>\n",
       "    <tr>\n",
       "      <th>3</th>\n",
       "      <td>9.50</td>\n",
       "      <td>2013-07-20 13:43:00+00:00</td>\n",
       "      <td>-74.002662</td>\n",
       "      <td>40.723630</td>\n",
       "      <td>-73.991722</td>\n",
       "      <td>40.748905</td>\n",
       "      <td>5</td>\n",
       "    </tr>\n",
       "    <tr>\n",
       "      <th>4</th>\n",
       "      <td>15.50</td>\n",
       "      <td>2013-11-05 22:57:17+00:00</td>\n",
       "      <td>-73.962397</td>\n",
       "      <td>40.712705</td>\n",
       "      <td>-73.996834</td>\n",
       "      <td>40.680403</td>\n",
       "      <td>2</td>\n",
       "    </tr>\n",
       "    <tr>\n",
       "      <th>...</th>\n",
       "      <td>...</td>\n",
       "      <td>...</td>\n",
       "      <td>...</td>\n",
       "      <td>...</td>\n",
       "      <td>...</td>\n",
       "      <td>...</td>\n",
       "      <td>...</td>\n",
       "    </tr>\n",
       "    <tr>\n",
       "      <th>2596552</th>\n",
       "      <td>11.00</td>\n",
       "      <td>2013-04-17 10:34:24+00:00</td>\n",
       "      <td>-74.002635</td>\n",
       "      <td>40.760825</td>\n",
       "      <td>-73.978540</td>\n",
       "      <td>40.751177</td>\n",
       "      <td>1</td>\n",
       "    </tr>\n",
       "    <tr>\n",
       "      <th>2596554</th>\n",
       "      <td>6.50</td>\n",
       "      <td>2013-12-13 19:04:00+00:00</td>\n",
       "      <td>-73.955435</td>\n",
       "      <td>40.765110</td>\n",
       "      <td>-73.960947</td>\n",
       "      <td>40.756727</td>\n",
       "      <td>1</td>\n",
       "    </tr>\n",
       "    <tr>\n",
       "      <th>2596555</th>\n",
       "      <td>41.33</td>\n",
       "      <td>2013-05-25 14:48:39+00:00</td>\n",
       "      <td>-73.862824</td>\n",
       "      <td>40.768935</td>\n",
       "      <td>-73.984470</td>\n",
       "      <td>40.739395</td>\n",
       "      <td>2</td>\n",
       "    </tr>\n",
       "    <tr>\n",
       "      <th>2596556</th>\n",
       "      <td>7.50</td>\n",
       "      <td>2013-12-22 20:45:19+00:00</td>\n",
       "      <td>-73.970539</td>\n",
       "      <td>40.761767</td>\n",
       "      <td>-73.982731</td>\n",
       "      <td>40.744562</td>\n",
       "      <td>1</td>\n",
       "    </tr>\n",
       "    <tr>\n",
       "      <th>2596557</th>\n",
       "      <td>7.50</td>\n",
       "      <td>2013-07-17 18:57:14+00:00</td>\n",
       "      <td>-73.980497</td>\n",
       "      <td>40.775248</td>\n",
       "      <td>-73.978011</td>\n",
       "      <td>40.763874</td>\n",
       "      <td>1</td>\n",
       "    </tr>\n",
       "  </tbody>\n",
       "</table>\n",
       "<p>2378828 rows × 7 columns</p>\n",
       "</div>"
      ],
      "text/plain": [
       "         travel_fee             departure_time  departure_long  departure_lat  \\\n",
       "0              7.00  2013-07-02 19:54:00+00:00      -74.005360      40.728867   \n",
       "1              5.50  2013-09-28 00:21:31+00:00      -74.014165      40.708941   \n",
       "2             21.50  2013-06-16 03:18:00+00:00      -73.991075      40.760352   \n",
       "3              9.50  2013-07-20 13:43:00+00:00      -74.002662      40.723630   \n",
       "4             15.50  2013-11-05 22:57:17+00:00      -73.962397      40.712705   \n",
       "...             ...                        ...             ...            ...   \n",
       "2596552       11.00  2013-04-17 10:34:24+00:00      -74.002635      40.760825   \n",
       "2596554        6.50  2013-12-13 19:04:00+00:00      -73.955435      40.765110   \n",
       "2596555       41.33  2013-05-25 14:48:39+00:00      -73.862824      40.768935   \n",
       "2596556        7.50  2013-12-22 20:45:19+00:00      -73.970539      40.761767   \n",
       "2596557        7.50  2013-07-17 18:57:14+00:00      -73.980497      40.775248   \n",
       "\n",
       "         arrival_long  arrival_lat  occupancy  \n",
       "0          -74.008913    40.710907          1  \n",
       "1          -74.016310    40.716734          1  \n",
       "2          -73.941382    40.713292          1  \n",
       "3          -73.991722    40.748905          5  \n",
       "4          -73.996834    40.680403          2  \n",
       "...               ...          ...        ...  \n",
       "2596552    -73.978540    40.751177          1  \n",
       "2596554    -73.960947    40.756727          1  \n",
       "2596555    -73.984470    40.739395          2  \n",
       "2596556    -73.982731    40.744562          1  \n",
       "2596557    -73.978011    40.763874          1  \n",
       "\n",
       "[2378828 rows x 7 columns]"
      ]
     },
     "execution_count": 31,
     "metadata": {},
     "output_type": "execute_result"
    }
   ],
   "source": [
    "#handling missing value\n",
    "transport[\"departure_long\"].fillna(transport[\"departure_long\"].mean(), inplace=True)\n",
    "transport[\"departure_lat\"].fillna(transport[\"departure_lat\"].mean(), inplace=True)\n",
    "transport[\"occupancy\"].fillna(transport[\"occupancy\"].mode()[0], inplace=True)\n",
    "transport.drop(columns=['ID'], inplace=True)\n",
    "\n",
    "# Drop rows with missing \"departure_time\",\"arrival_long\" and \"arrival_lat\"\n",
    "transport.dropna(subset=[\"departure_time\", \"arrival_long\", \"arrival_lat\"],inplace = True)\n",
    "transport.isnull().sum()\n",
    "\n",
    "# Drop rows with a 0 value of occupancy\n",
    "transport = transport.drop(transport[transport['occupancy'] <= 0].index)\n",
    "\n",
    "# Handling Outliers\n",
    "# Select columns for numeric attributes\n",
    "num_attribs = ['departure_long', 'departure_lat', 'arrival_long', 'arrival_lat', 'occupancy', 'travel_fee']\n",
    "\n",
    "# Remove outliers using Z-score method\n",
    "z_scores = np.abs((transport[num_attribs] - transport[num_attribs].mean()) / transport[num_attribs].std())\n",
    "transport = transport[(z_scores < 3).all(axis=1)]\n",
    "transport.info()\n",
    "transport"
   ]
  },
  {
   "cell_type": "code",
   "execution_count": 32,
   "metadata": {
    "colab": {
     "base_uri": "https://localhost:8080/",
     "height": 206
    },
    "id": "1M7jsDD9FOuM",
    "outputId": "6061def2-deed-45c6-f3b1-d78f8a2a726a"
   },
   "outputs": [
    {
     "data": {
      "text/html": [
       "<div>\n",
       "<style scoped>\n",
       "    .dataframe tbody tr th:only-of-type {\n",
       "        vertical-align: middle;\n",
       "    }\n",
       "\n",
       "    .dataframe tbody tr th {\n",
       "        vertical-align: top;\n",
       "    }\n",
       "\n",
       "    .dataframe thead th {\n",
       "        text-align: right;\n",
       "    }\n",
       "</style>\n",
       "<table border=\"1\" class=\"dataframe\">\n",
       "  <thead>\n",
       "    <tr style=\"text-align: right;\">\n",
       "      <th></th>\n",
       "      <th>travel_fee</th>\n",
       "      <th>departure_time</th>\n",
       "      <th>departure_long</th>\n",
       "      <th>departure_lat</th>\n",
       "      <th>arrival_long</th>\n",
       "      <th>arrival_lat</th>\n",
       "      <th>occupancy</th>\n",
       "    </tr>\n",
       "  </thead>\n",
       "  <tbody>\n",
       "    <tr>\n",
       "      <th>0</th>\n",
       "      <td>7.0</td>\n",
       "      <td>2013-07-02 19:54:00+00:00</td>\n",
       "      <td>-74.005360</td>\n",
       "      <td>40.728867</td>\n",
       "      <td>-74.008913</td>\n",
       "      <td>40.710907</td>\n",
       "      <td>1</td>\n",
       "    </tr>\n",
       "    <tr>\n",
       "      <th>1</th>\n",
       "      <td>5.5</td>\n",
       "      <td>2013-09-28 00:21:31+00:00</td>\n",
       "      <td>-74.014165</td>\n",
       "      <td>40.708941</td>\n",
       "      <td>-74.016310</td>\n",
       "      <td>40.716734</td>\n",
       "      <td>1</td>\n",
       "    </tr>\n",
       "    <tr>\n",
       "      <th>2</th>\n",
       "      <td>21.5</td>\n",
       "      <td>2013-06-16 03:18:00+00:00</td>\n",
       "      <td>-73.991075</td>\n",
       "      <td>40.760352</td>\n",
       "      <td>-73.941382</td>\n",
       "      <td>40.713292</td>\n",
       "      <td>1</td>\n",
       "    </tr>\n",
       "    <tr>\n",
       "      <th>3</th>\n",
       "      <td>9.5</td>\n",
       "      <td>2013-07-20 13:43:00+00:00</td>\n",
       "      <td>-74.002662</td>\n",
       "      <td>40.723630</td>\n",
       "      <td>-73.991722</td>\n",
       "      <td>40.748905</td>\n",
       "      <td>5</td>\n",
       "    </tr>\n",
       "    <tr>\n",
       "      <th>4</th>\n",
       "      <td>15.5</td>\n",
       "      <td>2013-11-05 22:57:17+00:00</td>\n",
       "      <td>-73.962397</td>\n",
       "      <td>40.712705</td>\n",
       "      <td>-73.996834</td>\n",
       "      <td>40.680403</td>\n",
       "      <td>2</td>\n",
       "    </tr>\n",
       "  </tbody>\n",
       "</table>\n",
       "</div>"
      ],
      "text/plain": [
       "   travel_fee             departure_time  departure_long  departure_lat  \\\n",
       "0         7.0  2013-07-02 19:54:00+00:00      -74.005360      40.728867   \n",
       "1         5.5  2013-09-28 00:21:31+00:00      -74.014165      40.708941   \n",
       "2        21.5  2013-06-16 03:18:00+00:00      -73.991075      40.760352   \n",
       "3         9.5  2013-07-20 13:43:00+00:00      -74.002662      40.723630   \n",
       "4        15.5  2013-11-05 22:57:17+00:00      -73.962397      40.712705   \n",
       "\n",
       "   arrival_long  arrival_lat  occupancy  \n",
       "0    -74.008913    40.710907          1  \n",
       "1    -74.016310    40.716734          1  \n",
       "2    -73.941382    40.713292          1  \n",
       "3    -73.991722    40.748905          5  \n",
       "4    -73.996834    40.680403          2  "
      ]
     },
     "execution_count": 32,
     "metadata": {},
     "output_type": "execute_result"
    }
   ],
   "source": [
    "transport.head()"
   ]
  },
  {
   "cell_type": "code",
   "execution_count": 33,
   "metadata": {
    "id": "tnFnAlb6FQrq"
   },
   "outputs": [],
   "source": [
    "# Convert departure_time to datetime\n",
    "transport['departure_time'] = pd.to_datetime(transport['departure_time'])\n",
    "\n",
    "# Extract features from departure_time\n",
    "transport['hour_of_day'] = transport['departure_time'].dt.hour\n",
    "transport['day_of_week'] = transport['departure_time'].dt.dayofweek"
   ]
  },
  {
   "cell_type": "markdown",
   "metadata": {},
   "source": [
    "Determine whether the taxi ride is high demand or not based on departure location, hour of day, and day of a week. Still figuring out how."
   ]
  },
  {
   "cell_type": "code",
   "execution_count": 14,
   "metadata": {},
   "outputs": [],
   "source": [
    "# Define criteria for demand categorization based on hour_of_day\n",
    "low_demand_criteria = range(0, 6)  # Early morning hours\n",
    "medium_demand_criteria = range(6, 18)  # Daytime hours\n",
    "high_demand_criteria = range(18, 24)  # Evening hours\n",
    "\n",
    "# Create a function to assign demand categories\n",
    "def assign_demand_category(hour):\n",
    "    if hour in low_demand_criteria:\n",
    "        return \"low\"\n",
    "    elif hour in medium_demand_criteria:\n",
    "        return \"medium\"\n",
    "    else:\n",
    "        return \"high\"\n",
    "\n",
    "# Create a new column for demand category\n",
    "transport[\"demand_category\"] = transport[\"hour_of_day\"].apply(assign_demand_category)"
   ]
  },
  {
   "cell_type": "code",
   "execution_count": 15,
   "metadata": {},
   "outputs": [
    {
     "data": {
      "text/html": [
       "<div>\n",
       "<style scoped>\n",
       "    .dataframe tbody tr th:only-of-type {\n",
       "        vertical-align: middle;\n",
       "    }\n",
       "\n",
       "    .dataframe tbody tr th {\n",
       "        vertical-align: top;\n",
       "    }\n",
       "\n",
       "    .dataframe thead th {\n",
       "        text-align: right;\n",
       "    }\n",
       "</style>\n",
       "<table border=\"1\" class=\"dataframe\">\n",
       "  <thead>\n",
       "    <tr style=\"text-align: right;\">\n",
       "      <th></th>\n",
       "      <th>travel_fee</th>\n",
       "      <th>departure_time</th>\n",
       "      <th>departure_long</th>\n",
       "      <th>departure_lat</th>\n",
       "      <th>arrival_long</th>\n",
       "      <th>arrival_lat</th>\n",
       "      <th>occupancy</th>\n",
       "      <th>hour_of_day</th>\n",
       "      <th>day_of_week</th>\n",
       "      <th>demand_category</th>\n",
       "    </tr>\n",
       "  </thead>\n",
       "  <tbody>\n",
       "    <tr>\n",
       "      <th>0</th>\n",
       "      <td>7.0</td>\n",
       "      <td>2013-07-02 19:54:00+00:00</td>\n",
       "      <td>-74.005360</td>\n",
       "      <td>40.728867</td>\n",
       "      <td>-74.008913</td>\n",
       "      <td>40.710907</td>\n",
       "      <td>1</td>\n",
       "      <td>19</td>\n",
       "      <td>1</td>\n",
       "      <td>high</td>\n",
       "    </tr>\n",
       "    <tr>\n",
       "      <th>1</th>\n",
       "      <td>5.5</td>\n",
       "      <td>2013-09-28 00:21:31+00:00</td>\n",
       "      <td>-74.014165</td>\n",
       "      <td>40.708941</td>\n",
       "      <td>-74.016310</td>\n",
       "      <td>40.716734</td>\n",
       "      <td>1</td>\n",
       "      <td>0</td>\n",
       "      <td>5</td>\n",
       "      <td>low</td>\n",
       "    </tr>\n",
       "    <tr>\n",
       "      <th>2</th>\n",
       "      <td>21.5</td>\n",
       "      <td>2013-06-16 03:18:00+00:00</td>\n",
       "      <td>-73.991075</td>\n",
       "      <td>40.760352</td>\n",
       "      <td>-73.941382</td>\n",
       "      <td>40.713292</td>\n",
       "      <td>1</td>\n",
       "      <td>3</td>\n",
       "      <td>6</td>\n",
       "      <td>low</td>\n",
       "    </tr>\n",
       "    <tr>\n",
       "      <th>3</th>\n",
       "      <td>9.5</td>\n",
       "      <td>2013-07-20 13:43:00+00:00</td>\n",
       "      <td>-74.002662</td>\n",
       "      <td>40.723630</td>\n",
       "      <td>-73.991722</td>\n",
       "      <td>40.748905</td>\n",
       "      <td>5</td>\n",
       "      <td>13</td>\n",
       "      <td>5</td>\n",
       "      <td>medium</td>\n",
       "    </tr>\n",
       "    <tr>\n",
       "      <th>4</th>\n",
       "      <td>15.5</td>\n",
       "      <td>2013-11-05 22:57:17+00:00</td>\n",
       "      <td>-73.962397</td>\n",
       "      <td>40.712705</td>\n",
       "      <td>-73.996834</td>\n",
       "      <td>40.680403</td>\n",
       "      <td>2</td>\n",
       "      <td>22</td>\n",
       "      <td>1</td>\n",
       "      <td>high</td>\n",
       "    </tr>\n",
       "  </tbody>\n",
       "</table>\n",
       "</div>"
      ],
      "text/plain": [
       "   travel_fee            departure_time  departure_long  departure_lat  \\\n",
       "0         7.0 2013-07-02 19:54:00+00:00      -74.005360      40.728867   \n",
       "1         5.5 2013-09-28 00:21:31+00:00      -74.014165      40.708941   \n",
       "2        21.5 2013-06-16 03:18:00+00:00      -73.991075      40.760352   \n",
       "3         9.5 2013-07-20 13:43:00+00:00      -74.002662      40.723630   \n",
       "4        15.5 2013-11-05 22:57:17+00:00      -73.962397      40.712705   \n",
       "\n",
       "   arrival_long  arrival_lat  occupancy  hour_of_day  day_of_week  \\\n",
       "0    -74.008913    40.710907          1           19            1   \n",
       "1    -74.016310    40.716734          1            0            5   \n",
       "2    -73.941382    40.713292          1            3            6   \n",
       "3    -73.991722    40.748905          5           13            5   \n",
       "4    -73.996834    40.680403          2           22            1   \n",
       "\n",
       "  demand_category  \n",
       "0            high  \n",
       "1             low  \n",
       "2             low  \n",
       "3          medium  \n",
       "4            high  "
      ]
     },
     "execution_count": 15,
     "metadata": {},
     "output_type": "execute_result"
    }
   ],
   "source": [
    "transport.head()"
   ]
  },
  {
   "cell_type": "code",
   "execution_count": 16,
   "metadata": {
    "colab": {
     "base_uri": "https://localhost:8080/"
    },
    "id": "rh0HxeBSFf69",
    "outputId": "fa37bbde-ded7-4247-f6fd-f6b28a63695e"
   },
   "outputs": [
    {
     "name": "stdout",
     "output_type": "stream",
     "text": [
      "Length of train_set: 400000\n",
      "Length of test_set: 100000\n"
     ]
    }
   ],
   "source": [
    "from sklearn.model_selection import train_test_split\n",
    "\n",
    "\n",
    "train_set, test_set = train_test_split(transport.head(500000), test_size=0.2, random_state=42)\n",
    "\n",
    "print(\"Length of train_set:\", len(train_set))\n",
    "print(\"Length of test_set:\", len(test_set))"
   ]
  },
  {
   "cell_type": "code",
   "execution_count": 37,
   "metadata": {
    "colab": {
     "base_uri": "https://localhost:8080/"
    },
    "id": "irs2MeH6FTh7",
    "outputId": "e49c3ee6-0c9a-45e9-ec00-2f2af5e30f04"
   },
   "outputs": [],
   "source": [
    "demand = train_set.drop(\"demand_category\", axis=1)\n",
    "demand = train_set.drop(\"travel_fee\", axis=1)\n",
    "demand = train_set.drop(\"departure_time\", axis=1)\n",
    "demand = train_set.drop(\"arrival_lat\", axis=1)\n",
    "demand = train_set.drop(\"arrival_long\", axis=1)\n",
    "demand = train_set.drop(\"occupancy\", axis=1)\n",
    "demand_labels = train_set[\"demand_category\"].copy()"
   ]
  },
  {
   "cell_type": "code",
   "execution_count": 38,
   "metadata": {
    "id": "Dty_H1qMFX9g"
   },
   "outputs": [],
   "source": [
    "from sklearn.compose import ColumnTransformer\n",
    "from sklearn.pipeline import make_pipeline\n",
    "\n",
    "num_attribs = [ 'departure_long', 'departure_lat', 'hour_of_day', 'day_of_week']\n",
    "\n",
    "num_pipeline = make_pipeline(\n",
    "    StandardScaler()  # Scale features\n",
    ")\n",
    "preprocessing = ColumnTransformer([\n",
    "    (\"num\", num_pipeline, num_attribs),\n",
    "    # Apply numeric pipeline to numeric attributes\n",
    "])"
   ]
  },
  {
   "cell_type": "code",
   "execution_count": 39,
   "metadata": {
    "colab": {
     "base_uri": "https://localhost:8080/"
    },
    "id": "ecfzfO-9FZkN",
    "outputId": "4a4c4704-4d4d-48d9-cc85-5a4d6b20ba65"
   },
   "outputs": [
    {
     "data": {
      "text/plain": [
       "array([[-0.28420307, -1.21082781,  0.37792462,  1.51306249],\n",
       "       [ 0.04477485,  0.21021648,  1.29241509,  1.0017459 ],\n",
       "       [-0.45958577, -0.58837285,  1.29241509,  1.0017459 ],\n",
       "       ...,\n",
       "       [-0.07390843,  0.27601313,  1.14000001, -0.02088728],\n",
       "       [-0.29254122,  0.09154919,  0.98758493, -1.55483706],\n",
       "       [-0.30677022, -0.74234167, -0.2317357 ,  1.51306249]])"
      ]
     },
     "execution_count": 39,
     "metadata": {},
     "output_type": "execute_result"
    }
   ],
   "source": [
    "transport_prepared = preprocessing.fit_transform(demand)\n",
    "transport_prepared"
   ]
  },
  {
   "cell_type": "code",
   "execution_count": 40,
   "metadata": {
    "colab": {
     "base_uri": "https://localhost:8080/"
    },
    "id": "FBKq_g92Fbu3",
    "outputId": "7035cb25-8ad9-4182-8a65-d0b4736560ca"
   },
   "outputs": [
    {
     "data": {
      "text/plain": [
       "array(['num__departure_long', 'num__departure_lat', 'num__hour_of_day',\n",
       "       'num__day_of_week'], dtype=object)"
      ]
     },
     "execution_count": 40,
     "metadata": {},
     "output_type": "execute_result"
    }
   ],
   "source": [
    "preprocessing.get_feature_names_out()"
   ]
  },
  {
   "cell_type": "code",
   "execution_count": 41,
   "metadata": {
    "id": "GyHyM6q_Fhwp"
   },
   "outputs": [
    {
     "name": "stdout",
     "output_type": "stream",
     "text": [
      "Accuracy: 1.0\n",
      "              precision    recall  f1-score   support\n",
      "\n",
      "        high       1.00      1.00      1.00     34671\n",
      "         low       1.00      1.00      1.00     13207\n",
      "      medium       1.00      1.00      1.00     52122\n",
      "\n",
      "    accuracy                           1.00    100000\n",
      "   macro avg       1.00      1.00      1.00    100000\n",
      "weighted avg       1.00      1.00      1.00    100000\n",
      "\n"
     ]
    }
   ],
   "source": [
    "from sklearn.svm import SVC\n",
    "from sklearn.metrics import accuracy_score, classification_report\n",
    "from sklearn.model_selection import train_test_split\n",
    "\n",
    "# Select features and target variable for classification\n",
    "features = ['departure_long', 'departure_lat', 'hour_of_day', 'day_of_week']\n",
    "X_train_class = demand[features]\n",
    "y_train_class = demand_labels\n",
    "\n",
    "# Initialize SVC model\n",
    "svc_model = SVC(kernel='linear', C=1.0)\n",
    "\n",
    "# Train the classification model\n",
    "svc_model.fit(X_train_class, y_train_class)\n",
    "\n",
    "# Make predictions on the test set\n",
    "X_test_class = test_set.drop([\"demand_category\", \"occupancy\", \"arrival_lat\", \"arrival_long\", \"travel_fee\",\"departure_time\"], axis=1)\n",
    "y_test_class = test_set[\"demand_category\"]\n",
    "y_pred_class = svc_model.predict(X_test_class)\n",
    "\n",
    "# Evaluate the classification model\n",
    "accuracy = accuracy_score(y_test_class, y_pred_class)\n",
    "print(\"Accuracy:\", accuracy)\n",
    "\n",
    "# Print classification report\n",
    "print(classification_report(y_test_class, y_pred_class))"
   ]
  },
  {
   "cell_type": "code",
   "execution_count": null,
   "metadata": {},
   "outputs": [],
   "source": []
  }
 ],
 "metadata": {
  "colab": {
   "include_colab_link": true,
   "provenance": []
  },
  "kernelspec": {
   "display_name": "Python 3 (ipykernel)",
   "language": "python",
   "name": "python3"
  },
  "language_info": {
   "codemirror_mode": {
    "name": "ipython",
    "version": 3
   },
   "file_extension": ".py",
   "mimetype": "text/x-python",
   "name": "python",
   "nbconvert_exporter": "python",
   "pygments_lexer": "ipython3",
   "version": "3.10.9"
  }
 },
 "nbformat": 4,
 "nbformat_minor": 4
}
