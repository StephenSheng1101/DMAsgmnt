{
  "nbformat": 4,
  "nbformat_minor": 0,
  "metadata": {
    "colab": {
      "provenance": [],
      "authorship_tag": "ABX9TyMG89Jp7WIPr10obsqnlG93",
      "include_colab_link": true
    },
    "kernelspec": {
      "name": "python3",
      "display_name": "Python 3"
    },
    "language_info": {
      "name": "python"
    }
  },
  "cells": [
    {
      "cell_type": "markdown",
      "metadata": {
        "id": "view-in-github",
        "colab_type": "text"
      },
      "source": [
        "<a href=\"https://colab.research.google.com/github/StephenSheng1101/DMAsgmnt/blob/main/Model_1.ipynb\" target=\"_parent\"><img src=\"https://colab.research.google.com/assets/colab-badge.svg\" alt=\"Open In Colab\"/></a>"
      ]
    },
    {
      "cell_type": "code",
      "execution_count": null,
      "metadata": {
        "id": "Gh56WiC1C4z1"
      },
      "outputs": [],
      "source": [
        "from pathlib import Path\n",
        "import pandas as pd\n",
        "import tarfile\n",
        "import urllib.request\n",
        "import numpy as np\n",
        "import matplotlib.pyplot as plt\n",
        "import sklearn"
      ]
    },
    {
      "cell_type": "code",
      "source": [
        "df = pd.read_csv(\"dataset.csv\")"
      ],
      "metadata": {
        "id": "r0oSAvJnzYfC"
      },
      "execution_count": null,
      "outputs": []
    },
    {
      "cell_type": "code",
      "source": [
        "def load_transport_data():\n",
        "    tarball_path = Path(\"/content/dataset.csv\")\n",
        "    if not tarball_path.is_file():\n",
        "        Path(\"datasets\").mkdir(parents=True, exist_ok=True)\n",
        "        with tarfile.open(tarball_path) as transport_tarball:\n",
        "            transport_tarball.extractall(path=\"datasets\")\n",
        "    return pd.read_csv(Path(\"/content/dataset.csv\"))\n",
        "\n",
        "transport = load_transport_data()\n",
        "transport.head()"
      ],
      "metadata": {
        "id": "vKSHze46zajV"
      },
      "execution_count": null,
      "outputs": []
    },
    {
      "cell_type": "code",
      "source": [
        "\n",
        "transport.describe()\n",
        "transport.info()\n"
      ],
      "metadata": {
        "id": "U6jT8FC7zc-l"
      },
      "execution_count": null,
      "outputs": []
    },
    {
      "cell_type": "code",
      "source": [
        "transport.isnull().sum()"
      ],
      "metadata": {
        "id": "wxDktP2nzkv4"
      },
      "execution_count": null,
      "outputs": []
    },
    {
      "cell_type": "code",
      "source": [
        "#handling missing value\n",
        "transport[\"departure_long\"].fillna(transport[\"departure_long\"].mean(), inplace=True)\n",
        "transport[\"departure_lat\"].fillna(transport[\"departure_lat\"].mean(), inplace=True)\n",
        "transport[\"occupancy\"].fillna(transport[\"occupancy\"].mode()[0], inplace=True)\n",
        "transport.drop(columns=['ID'], inplace=True)\n",
        "\n",
        "# Drop rows with missing \"departure_time\",\"arrival_long\" and \"arrival_lat\"\n",
        "transport.dropna(subset=[\"departure_time\", \"arrival_long\", \"arrival_lat\"],inplace = True)\n",
        "transport.isnull().sum()\n",
        "\n",
        "# Drop rows with a 0 value of occupancy\n",
        "transport = transport.drop(transport[transport['occupancy'] <= 0].index)"
      ],
      "metadata": {
        "id": "0PgaoQVDznyM"
      },
      "execution_count": null,
      "outputs": []
    },
    {
      "cell_type": "code",
      "source": [
        "transport.head()"
      ],
      "metadata": {
        "id": "SawLe1TtzqCD"
      },
      "execution_count": null,
      "outputs": []
    },
    {
      "cell_type": "code",
      "source": [
        "# Convert departure_time to datetime\n",
        "transport['departure_time'] = pd.to_datetime(transport['departure_time'])\n",
        "\n",
        "# Extract features from departure_time\n",
        "transport['hour_of_day'] = transport['departure_time'].dt.hour\n",
        "transport['day_of_week'] = transport['departure_time'].dt.dayofweek\n"
      ],
      "metadata": {
        "id": "vtNWmMeWzre1"
      },
      "execution_count": null,
      "outputs": []
    },
    {
      "cell_type": "code",
      "source": [
        "from sklearn.preprocessing import StandardScaler\n",
        "\n",
        "data_numeric = transport.drop(columns=['departure_time'])\n",
        "\n",
        "# Perform feature scaling using StandardScaler\n",
        "scaler = StandardScaler()\n",
        "scaled_data = scaler.fit_transform(data_numeric)\n",
        "scaled_data"
      ],
      "metadata": {
        "id": "z6Z4tTiNzuG3"
      },
      "execution_count": null,
      "outputs": []
    },
    {
      "cell_type": "code",
      "source": [
        "# Plot histogram of a scaled feature\n",
        "fig, axs = plt.subplots(1, 2, figsize=(8, 3), sharey=True)\n",
        "transport[\"travel_fee\"].hist(ax=axs[0], bins=50)\n",
        "transport[\"travel_fee\"].apply(np.log1p).hist(ax=axs[1], bins=50)\n",
        "axs[0].set_xlabel(\"Travel Fee (Scaled)\")\n",
        "axs[1].set_xlabel(\"Log of Scaled Travel Fee\")\n",
        "axs[0].set_ylabel(\"Number of Instances\")\n",
        "plt.show()"
      ],
      "metadata": {
        "id": "VngMIxK4zy9B"
      },
      "execution_count": null,
      "outputs": []
    },
    {
      "cell_type": "code",
      "source": [
        "from sklearn.compose import ColumnTransformer\n",
        "from sklearn.pipeline import make_pipeline\n",
        "\n",
        "num_attribs = ['travel_fee', 'departure_long', 'departure_lat', 'arrival_long', 'arrival_lat', 'hour_of_day', 'day_of_week','occupancy']\n",
        "\n",
        "num_pipeline = make_pipeline(\n",
        "    StandardScaler()  # Scale features\n",
        ")\n",
        "preprocessing = ColumnTransformer([\n",
        "    (\"num\", num_pipeline, num_attribs),\n",
        "    # Apply numeric pipeline to numeric attributes\n",
        "])\n",
        "\n"
      ],
      "metadata": {
        "id": "WADo8Ew-z0a_"
      },
      "execution_count": null,
      "outputs": []
    },
    {
      "cell_type": "code",
      "source": [
        "transport_prepared = preprocessing.fit_transform(transport)\n",
        "transport_prepared\n"
      ],
      "metadata": {
        "id": "E-of1_zoz2m5"
      },
      "execution_count": null,
      "outputs": []
    },
    {
      "cell_type": "code",
      "source": [
        "preprocessing.get_feature_names_out()"
      ],
      "metadata": {
        "id": "6mnkAYKvz36K"
      },
      "execution_count": null,
      "outputs": []
    },
    {
      "cell_type": "code",
      "source": [
        "transport.info()"
      ],
      "metadata": {
        "id": "p91_O64Bz6Oc"
      },
      "execution_count": null,
      "outputs": []
    }
  ]
}