{
  "nbformat": 4,
  "nbformat_minor": 0,
  "metadata": {
    "colab": {
      "provenance": [],
      "authorship_tag": "ABX9TyPDjnS84e6XikB0XPf6p0km",
      "include_colab_link": true
    },
    "kernelspec": {
      "name": "python3",
      "display_name": "Python 3"
    },
    "language_info": {
      "name": "python"
    }
  },
  "cells": [
    {
      "cell_type": "markdown",
      "metadata": {
        "id": "view-in-github",
        "colab_type": "text"
      },
      "source": [
        "<a href=\"https://colab.research.google.com/github/StephenSheng1101/DMAsgmnt/blob/main/Model_1.ipynb\" target=\"_parent\"><img src=\"https://colab.research.google.com/assets/colab-badge.svg\" alt=\"Open In Colab\"/></a>"
      ]
    },
    {
      "cell_type": "code",
      "execution_count": 1,
      "metadata": {
        "id": "Gh56WiC1C4z1"
      },
      "outputs": [],
      "source": [
        "from pathlib import Path\n",
        "import pandas as pd\n",
        "import tarfile\n",
        "import urllib.request\n",
        "import numpy as np\n",
        "import matplotlib.pyplot as plt\n",
        "import sklearn"
      ]
    },
    {
      "cell_type": "code",
      "source": [
        "df = pd.read_csv(\"dataset.csv\")"
      ],
      "metadata": {
        "id": "r0oSAvJnzYfC"
      },
      "execution_count": 2,
      "outputs": []
    },
    {
      "cell_type": "code",
      "source": [
        "def load_transport_data():\n",
        "    tarball_path = Path(\"/content/dataset.csv\")\n",
        "    if not tarball_path.is_file():\n",
        "        Path(\"datasets\").mkdir(parents=True, exist_ok=True)\n",
        "        with tarfile.open(tarball_path) as transport_tarball:\n",
        "            transport_tarball.extractall(path=\"datasets\")\n",
        "    return pd.read_csv(Path(\"/content/dataset.csv\"))\n",
        "\n",
        "transport = load_transport_data()\n",
        "transport.head()"
      ],
      "metadata": {
        "colab": {
          "base_uri": "https://localhost:8080/",
          "height": 206
        },
        "id": "vKSHze46zajV",
        "outputId": "c3189742-054f-4dee-87bd-44f2b88d00ea"
      },
      "execution_count": 3,
      "outputs": [
        {
          "output_type": "execute_result",
          "data": {
            "text/plain": [
              "                              ID  travel_fee             departure_time  \\\n",
              "0  2013-07-02 19:54:00.000000232         7.0  2013-07-02 19:54:00+00:00   \n",
              "1    2013-09-28 00:21:31.0000002         5.5  2013-09-28 00:21:31+00:00   \n",
              "2  2013-06-16 03:18:00.000000150        21.5  2013-06-16 03:18:00+00:00   \n",
              "3  2013-07-20 13:43:00.000000121         9.5  2013-07-20 13:43:00+00:00   \n",
              "4    2013-11-05 22:57:17.0000003        15.5  2013-11-05 22:57:17+00:00   \n",
              "\n",
              "   departure_long  departure_lat  arrival_long  arrival_lat  occupancy  \n",
              "0      -74.005360      40.728867    -74.008913    40.710907          1  \n",
              "1      -74.014165      40.708941    -74.016310    40.716734          1  \n",
              "2      -73.991075      40.760352    -73.941382    40.713292          1  \n",
              "3      -74.002662      40.723630    -73.991722    40.748905          5  \n",
              "4      -73.962397      40.712705    -73.996834    40.680403          2  "
            ],
            "text/html": [
              "\n",
              "  <div id=\"df-95820a96-35e1-4414-a700-24f285c6ec3c\" class=\"colab-df-container\">\n",
              "    <div>\n",
              "<style scoped>\n",
              "    .dataframe tbody tr th:only-of-type {\n",
              "        vertical-align: middle;\n",
              "    }\n",
              "\n",
              "    .dataframe tbody tr th {\n",
              "        vertical-align: top;\n",
              "    }\n",
              "\n",
              "    .dataframe thead th {\n",
              "        text-align: right;\n",
              "    }\n",
              "</style>\n",
              "<table border=\"1\" class=\"dataframe\">\n",
              "  <thead>\n",
              "    <tr style=\"text-align: right;\">\n",
              "      <th></th>\n",
              "      <th>ID</th>\n",
              "      <th>travel_fee</th>\n",
              "      <th>departure_time</th>\n",
              "      <th>departure_long</th>\n",
              "      <th>departure_lat</th>\n",
              "      <th>arrival_long</th>\n",
              "      <th>arrival_lat</th>\n",
              "      <th>occupancy</th>\n",
              "    </tr>\n",
              "  </thead>\n",
              "  <tbody>\n",
              "    <tr>\n",
              "      <th>0</th>\n",
              "      <td>2013-07-02 19:54:00.000000232</td>\n",
              "      <td>7.0</td>\n",
              "      <td>2013-07-02 19:54:00+00:00</td>\n",
              "      <td>-74.005360</td>\n",
              "      <td>40.728867</td>\n",
              "      <td>-74.008913</td>\n",
              "      <td>40.710907</td>\n",
              "      <td>1</td>\n",
              "    </tr>\n",
              "    <tr>\n",
              "      <th>1</th>\n",
              "      <td>2013-09-28 00:21:31.0000002</td>\n",
              "      <td>5.5</td>\n",
              "      <td>2013-09-28 00:21:31+00:00</td>\n",
              "      <td>-74.014165</td>\n",
              "      <td>40.708941</td>\n",
              "      <td>-74.016310</td>\n",
              "      <td>40.716734</td>\n",
              "      <td>1</td>\n",
              "    </tr>\n",
              "    <tr>\n",
              "      <th>2</th>\n",
              "      <td>2013-06-16 03:18:00.000000150</td>\n",
              "      <td>21.5</td>\n",
              "      <td>2013-06-16 03:18:00+00:00</td>\n",
              "      <td>-73.991075</td>\n",
              "      <td>40.760352</td>\n",
              "      <td>-73.941382</td>\n",
              "      <td>40.713292</td>\n",
              "      <td>1</td>\n",
              "    </tr>\n",
              "    <tr>\n",
              "      <th>3</th>\n",
              "      <td>2013-07-20 13:43:00.000000121</td>\n",
              "      <td>9.5</td>\n",
              "      <td>2013-07-20 13:43:00+00:00</td>\n",
              "      <td>-74.002662</td>\n",
              "      <td>40.723630</td>\n",
              "      <td>-73.991722</td>\n",
              "      <td>40.748905</td>\n",
              "      <td>5</td>\n",
              "    </tr>\n",
              "    <tr>\n",
              "      <th>4</th>\n",
              "      <td>2013-11-05 22:57:17.0000003</td>\n",
              "      <td>15.5</td>\n",
              "      <td>2013-11-05 22:57:17+00:00</td>\n",
              "      <td>-73.962397</td>\n",
              "      <td>40.712705</td>\n",
              "      <td>-73.996834</td>\n",
              "      <td>40.680403</td>\n",
              "      <td>2</td>\n",
              "    </tr>\n",
              "  </tbody>\n",
              "</table>\n",
              "</div>\n",
              "    <div class=\"colab-df-buttons\">\n",
              "\n",
              "  <div class=\"colab-df-container\">\n",
              "    <button class=\"colab-df-convert\" onclick=\"convertToInteractive('df-95820a96-35e1-4414-a700-24f285c6ec3c')\"\n",
              "            title=\"Convert this dataframe to an interactive table.\"\n",
              "            style=\"display:none;\">\n",
              "\n",
              "  <svg xmlns=\"http://www.w3.org/2000/svg\" height=\"24px\" viewBox=\"0 -960 960 960\">\n",
              "    <path d=\"M120-120v-720h720v720H120Zm60-500h600v-160H180v160Zm220 220h160v-160H400v160Zm0 220h160v-160H400v160ZM180-400h160v-160H180v160Zm440 0h160v-160H620v160ZM180-180h160v-160H180v160Zm440 0h160v-160H620v160Z\"/>\n",
              "  </svg>\n",
              "    </button>\n",
              "\n",
              "  <style>\n",
              "    .colab-df-container {\n",
              "      display:flex;\n",
              "      gap: 12px;\n",
              "    }\n",
              "\n",
              "    .colab-df-convert {\n",
              "      background-color: #E8F0FE;\n",
              "      border: none;\n",
              "      border-radius: 50%;\n",
              "      cursor: pointer;\n",
              "      display: none;\n",
              "      fill: #1967D2;\n",
              "      height: 32px;\n",
              "      padding: 0 0 0 0;\n",
              "      width: 32px;\n",
              "    }\n",
              "\n",
              "    .colab-df-convert:hover {\n",
              "      background-color: #E2EBFA;\n",
              "      box-shadow: 0px 1px 2px rgba(60, 64, 67, 0.3), 0px 1px 3px 1px rgba(60, 64, 67, 0.15);\n",
              "      fill: #174EA6;\n",
              "    }\n",
              "\n",
              "    .colab-df-buttons div {\n",
              "      margin-bottom: 4px;\n",
              "    }\n",
              "\n",
              "    [theme=dark] .colab-df-convert {\n",
              "      background-color: #3B4455;\n",
              "      fill: #D2E3FC;\n",
              "    }\n",
              "\n",
              "    [theme=dark] .colab-df-convert:hover {\n",
              "      background-color: #434B5C;\n",
              "      box-shadow: 0px 1px 3px 1px rgba(0, 0, 0, 0.15);\n",
              "      filter: drop-shadow(0px 1px 2px rgba(0, 0, 0, 0.3));\n",
              "      fill: #FFFFFF;\n",
              "    }\n",
              "  </style>\n",
              "\n",
              "    <script>\n",
              "      const buttonEl =\n",
              "        document.querySelector('#df-95820a96-35e1-4414-a700-24f285c6ec3c button.colab-df-convert');\n",
              "      buttonEl.style.display =\n",
              "        google.colab.kernel.accessAllowed ? 'block' : 'none';\n",
              "\n",
              "      async function convertToInteractive(key) {\n",
              "        const element = document.querySelector('#df-95820a96-35e1-4414-a700-24f285c6ec3c');\n",
              "        const dataTable =\n",
              "          await google.colab.kernel.invokeFunction('convertToInteractive',\n",
              "                                                    [key], {});\n",
              "        if (!dataTable) return;\n",
              "\n",
              "        const docLinkHtml = 'Like what you see? Visit the ' +\n",
              "          '<a target=\"_blank\" href=https://colab.research.google.com/notebooks/data_table.ipynb>data table notebook</a>'\n",
              "          + ' to learn more about interactive tables.';\n",
              "        element.innerHTML = '';\n",
              "        dataTable['output_type'] = 'display_data';\n",
              "        await google.colab.output.renderOutput(dataTable, element);\n",
              "        const docLink = document.createElement('div');\n",
              "        docLink.innerHTML = docLinkHtml;\n",
              "        element.appendChild(docLink);\n",
              "      }\n",
              "    </script>\n",
              "  </div>\n",
              "\n",
              "\n",
              "<div id=\"df-5f928f89-2184-4d3e-b912-46492027b67c\">\n",
              "  <button class=\"colab-df-quickchart\" onclick=\"quickchart('df-5f928f89-2184-4d3e-b912-46492027b67c')\"\n",
              "            title=\"Suggest charts.\"\n",
              "            style=\"display:none;\">\n",
              "\n",
              "<svg xmlns=\"http://www.w3.org/2000/svg\" height=\"24px\"viewBox=\"0 0 24 24\"\n",
              "     width=\"24px\">\n",
              "    <g>\n",
              "        <path d=\"M19 3H5c-1.1 0-2 .9-2 2v14c0 1.1.9 2 2 2h14c1.1 0 2-.9 2-2V5c0-1.1-.9-2-2-2zM9 17H7v-7h2v7zm4 0h-2V7h2v10zm4 0h-2v-4h2v4z\"/>\n",
              "    </g>\n",
              "</svg>\n",
              "  </button>\n",
              "\n",
              "<style>\n",
              "  .colab-df-quickchart {\n",
              "    background-color: #E8F0FE;\n",
              "    border: none;\n",
              "    border-radius: 50%;\n",
              "    cursor: pointer;\n",
              "    display: none;\n",
              "    fill: #1967D2;\n",
              "    height: 32px;\n",
              "    padding: 0 0 0 0;\n",
              "    width: 32px;\n",
              "  }\n",
              "\n",
              "  .colab-df-quickchart:hover {\n",
              "    background-color: #E2EBFA;\n",
              "    box-shadow: 0px 1px 2px rgba(60, 64, 67, 0.3), 0px 1px 3px 1px rgba(60, 64, 67, 0.15);\n",
              "    fill: #174EA6;\n",
              "  }\n",
              "\n",
              "  [theme=dark] .colab-df-quickchart {\n",
              "    background-color: #3B4455;\n",
              "    fill: #D2E3FC;\n",
              "  }\n",
              "\n",
              "  [theme=dark] .colab-df-quickchart:hover {\n",
              "    background-color: #434B5C;\n",
              "    box-shadow: 0px 1px 3px 1px rgba(0, 0, 0, 0.15);\n",
              "    filter: drop-shadow(0px 1px 2px rgba(0, 0, 0, 0.3));\n",
              "    fill: #FFFFFF;\n",
              "  }\n",
              "</style>\n",
              "\n",
              "  <script>\n",
              "    async function quickchart(key) {\n",
              "      const charts = await google.colab.kernel.invokeFunction(\n",
              "          'suggestCharts', [key], {});\n",
              "    }\n",
              "    (() => {\n",
              "      let quickchartButtonEl =\n",
              "        document.querySelector('#df-5f928f89-2184-4d3e-b912-46492027b67c button');\n",
              "      quickchartButtonEl.style.display =\n",
              "        google.colab.kernel.accessAllowed ? 'block' : 'none';\n",
              "    })();\n",
              "  </script>\n",
              "</div>\n",
              "    </div>\n",
              "  </div>\n"
            ]
          },
          "metadata": {},
          "execution_count": 3
        }
      ]
    },
    {
      "cell_type": "code",
      "source": [
        "\n",
        "transport.describe()\n",
        "transport.info()\n"
      ],
      "metadata": {
        "colab": {
          "base_uri": "https://localhost:8080/"
        },
        "id": "U6jT8FC7zc-l",
        "outputId": "31cd2bf2-6119-4430-8389-421ae08e5aaa"
      },
      "execution_count": 4,
      "outputs": [
        {
          "output_type": "stream",
          "name": "stdout",
          "text": [
            "<class 'pandas.core.frame.DataFrame'>\n",
            "RangeIndex: 2596558 entries, 0 to 2596557\n",
            "Data columns (total 8 columns):\n",
            " #   Column          Dtype  \n",
            "---  ------          -----  \n",
            " 0   ID              object \n",
            " 1   travel_fee      float64\n",
            " 2   departure_time  object \n",
            " 3   departure_long  float64\n",
            " 4   departure_lat   float64\n",
            " 5   arrival_long    float64\n",
            " 6   arrival_lat     float64\n",
            " 7   occupancy       int64  \n",
            "dtypes: float64(5), int64(1), object(2)\n",
            "memory usage: 158.5+ MB\n"
          ]
        }
      ]
    },
    {
      "cell_type": "code",
      "source": [
        "transport.isnull().sum()"
      ],
      "metadata": {
        "colab": {
          "base_uri": "https://localhost:8080/"
        },
        "id": "wxDktP2nzkv4",
        "outputId": "ce973fc2-aa0d-4d78-88bc-fd5d381c3722"
      },
      "execution_count": 5,
      "outputs": [
        {
          "output_type": "execute_result",
          "data": {
            "text/plain": [
              "ID                 0\n",
              "travel_fee         0\n",
              "departure_time     0\n",
              "departure_long     0\n",
              "departure_lat      0\n",
              "arrival_long      44\n",
              "arrival_lat       44\n",
              "occupancy          0\n",
              "dtype: int64"
            ]
          },
          "metadata": {},
          "execution_count": 5
        }
      ]
    },
    {
      "cell_type": "code",
      "source": [
        "#handling missing value\n",
        "transport[\"departure_long\"].fillna(transport[\"departure_long\"].mean(), inplace=True)\n",
        "transport[\"departure_lat\"].fillna(transport[\"departure_lat\"].mean(), inplace=True)\n",
        "transport[\"occupancy\"].fillna(transport[\"occupancy\"].mode()[0], inplace=True)\n",
        "transport.drop(columns=['ID'], inplace=True)\n",
        "\n",
        "# Drop rows with missing \"departure_time\",\"arrival_long\" and \"arrival_lat\"\n",
        "transport.dropna(subset=[\"departure_time\", \"arrival_long\", \"arrival_lat\"],inplace = True)\n",
        "transport.isnull().sum()\n",
        "\n",
        "# Drop rows with a 0 value of occupancy\n",
        "transport = transport.drop(transport[transport['occupancy'] <= 0].index)"
      ],
      "metadata": {
        "id": "0PgaoQVDznyM"
      },
      "execution_count": 6,
      "outputs": []
    },
    {
      "cell_type": "code",
      "source": [
        "transport.head()"
      ],
      "metadata": {
        "colab": {
          "base_uri": "https://localhost:8080/",
          "height": 206
        },
        "id": "SawLe1TtzqCD",
        "outputId": "1eca35e1-18d6-4454-aca9-5179e4c8df36"
      },
      "execution_count": 7,
      "outputs": [
        {
          "output_type": "execute_result",
          "data": {
            "text/plain": [
              "   travel_fee             departure_time  departure_long  departure_lat  \\\n",
              "0         7.0  2013-07-02 19:54:00+00:00      -74.005360      40.728867   \n",
              "1         5.5  2013-09-28 00:21:31+00:00      -74.014165      40.708941   \n",
              "2        21.5  2013-06-16 03:18:00+00:00      -73.991075      40.760352   \n",
              "3         9.5  2013-07-20 13:43:00+00:00      -74.002662      40.723630   \n",
              "4        15.5  2013-11-05 22:57:17+00:00      -73.962397      40.712705   \n",
              "\n",
              "   arrival_long  arrival_lat  occupancy  \n",
              "0    -74.008913    40.710907          1  \n",
              "1    -74.016310    40.716734          1  \n",
              "2    -73.941382    40.713292          1  \n",
              "3    -73.991722    40.748905          5  \n",
              "4    -73.996834    40.680403          2  "
            ],
            "text/html": [
              "\n",
              "  <div id=\"df-d1811ad0-8144-417e-95c1-a6fd4166bbcc\" class=\"colab-df-container\">\n",
              "    <div>\n",
              "<style scoped>\n",
              "    .dataframe tbody tr th:only-of-type {\n",
              "        vertical-align: middle;\n",
              "    }\n",
              "\n",
              "    .dataframe tbody tr th {\n",
              "        vertical-align: top;\n",
              "    }\n",
              "\n",
              "    .dataframe thead th {\n",
              "        text-align: right;\n",
              "    }\n",
              "</style>\n",
              "<table border=\"1\" class=\"dataframe\">\n",
              "  <thead>\n",
              "    <tr style=\"text-align: right;\">\n",
              "      <th></th>\n",
              "      <th>travel_fee</th>\n",
              "      <th>departure_time</th>\n",
              "      <th>departure_long</th>\n",
              "      <th>departure_lat</th>\n",
              "      <th>arrival_long</th>\n",
              "      <th>arrival_lat</th>\n",
              "      <th>occupancy</th>\n",
              "    </tr>\n",
              "  </thead>\n",
              "  <tbody>\n",
              "    <tr>\n",
              "      <th>0</th>\n",
              "      <td>7.0</td>\n",
              "      <td>2013-07-02 19:54:00+00:00</td>\n",
              "      <td>-74.005360</td>\n",
              "      <td>40.728867</td>\n",
              "      <td>-74.008913</td>\n",
              "      <td>40.710907</td>\n",
              "      <td>1</td>\n",
              "    </tr>\n",
              "    <tr>\n",
              "      <th>1</th>\n",
              "      <td>5.5</td>\n",
              "      <td>2013-09-28 00:21:31+00:00</td>\n",
              "      <td>-74.014165</td>\n",
              "      <td>40.708941</td>\n",
              "      <td>-74.016310</td>\n",
              "      <td>40.716734</td>\n",
              "      <td>1</td>\n",
              "    </tr>\n",
              "    <tr>\n",
              "      <th>2</th>\n",
              "      <td>21.5</td>\n",
              "      <td>2013-06-16 03:18:00+00:00</td>\n",
              "      <td>-73.991075</td>\n",
              "      <td>40.760352</td>\n",
              "      <td>-73.941382</td>\n",
              "      <td>40.713292</td>\n",
              "      <td>1</td>\n",
              "    </tr>\n",
              "    <tr>\n",
              "      <th>3</th>\n",
              "      <td>9.5</td>\n",
              "      <td>2013-07-20 13:43:00+00:00</td>\n",
              "      <td>-74.002662</td>\n",
              "      <td>40.723630</td>\n",
              "      <td>-73.991722</td>\n",
              "      <td>40.748905</td>\n",
              "      <td>5</td>\n",
              "    </tr>\n",
              "    <tr>\n",
              "      <th>4</th>\n",
              "      <td>15.5</td>\n",
              "      <td>2013-11-05 22:57:17+00:00</td>\n",
              "      <td>-73.962397</td>\n",
              "      <td>40.712705</td>\n",
              "      <td>-73.996834</td>\n",
              "      <td>40.680403</td>\n",
              "      <td>2</td>\n",
              "    </tr>\n",
              "  </tbody>\n",
              "</table>\n",
              "</div>\n",
              "    <div class=\"colab-df-buttons\">\n",
              "\n",
              "  <div class=\"colab-df-container\">\n",
              "    <button class=\"colab-df-convert\" onclick=\"convertToInteractive('df-d1811ad0-8144-417e-95c1-a6fd4166bbcc')\"\n",
              "            title=\"Convert this dataframe to an interactive table.\"\n",
              "            style=\"display:none;\">\n",
              "\n",
              "  <svg xmlns=\"http://www.w3.org/2000/svg\" height=\"24px\" viewBox=\"0 -960 960 960\">\n",
              "    <path d=\"M120-120v-720h720v720H120Zm60-500h600v-160H180v160Zm220 220h160v-160H400v160Zm0 220h160v-160H400v160ZM180-400h160v-160H180v160Zm440 0h160v-160H620v160ZM180-180h160v-160H180v160Zm440 0h160v-160H620v160Z\"/>\n",
              "  </svg>\n",
              "    </button>\n",
              "\n",
              "  <style>\n",
              "    .colab-df-container {\n",
              "      display:flex;\n",
              "      gap: 12px;\n",
              "    }\n",
              "\n",
              "    .colab-df-convert {\n",
              "      background-color: #E8F0FE;\n",
              "      border: none;\n",
              "      border-radius: 50%;\n",
              "      cursor: pointer;\n",
              "      display: none;\n",
              "      fill: #1967D2;\n",
              "      height: 32px;\n",
              "      padding: 0 0 0 0;\n",
              "      width: 32px;\n",
              "    }\n",
              "\n",
              "    .colab-df-convert:hover {\n",
              "      background-color: #E2EBFA;\n",
              "      box-shadow: 0px 1px 2px rgba(60, 64, 67, 0.3), 0px 1px 3px 1px rgba(60, 64, 67, 0.15);\n",
              "      fill: #174EA6;\n",
              "    }\n",
              "\n",
              "    .colab-df-buttons div {\n",
              "      margin-bottom: 4px;\n",
              "    }\n",
              "\n",
              "    [theme=dark] .colab-df-convert {\n",
              "      background-color: #3B4455;\n",
              "      fill: #D2E3FC;\n",
              "    }\n",
              "\n",
              "    [theme=dark] .colab-df-convert:hover {\n",
              "      background-color: #434B5C;\n",
              "      box-shadow: 0px 1px 3px 1px rgba(0, 0, 0, 0.15);\n",
              "      filter: drop-shadow(0px 1px 2px rgba(0, 0, 0, 0.3));\n",
              "      fill: #FFFFFF;\n",
              "    }\n",
              "  </style>\n",
              "\n",
              "    <script>\n",
              "      const buttonEl =\n",
              "        document.querySelector('#df-d1811ad0-8144-417e-95c1-a6fd4166bbcc button.colab-df-convert');\n",
              "      buttonEl.style.display =\n",
              "        google.colab.kernel.accessAllowed ? 'block' : 'none';\n",
              "\n",
              "      async function convertToInteractive(key) {\n",
              "        const element = document.querySelector('#df-d1811ad0-8144-417e-95c1-a6fd4166bbcc');\n",
              "        const dataTable =\n",
              "          await google.colab.kernel.invokeFunction('convertToInteractive',\n",
              "                                                    [key], {});\n",
              "        if (!dataTable) return;\n",
              "\n",
              "        const docLinkHtml = 'Like what you see? Visit the ' +\n",
              "          '<a target=\"_blank\" href=https://colab.research.google.com/notebooks/data_table.ipynb>data table notebook</a>'\n",
              "          + ' to learn more about interactive tables.';\n",
              "        element.innerHTML = '';\n",
              "        dataTable['output_type'] = 'display_data';\n",
              "        await google.colab.output.renderOutput(dataTable, element);\n",
              "        const docLink = document.createElement('div');\n",
              "        docLink.innerHTML = docLinkHtml;\n",
              "        element.appendChild(docLink);\n",
              "      }\n",
              "    </script>\n",
              "  </div>\n",
              "\n",
              "\n",
              "<div id=\"df-2b3e9ab4-0b95-4e72-8718-de8f7c33ea91\">\n",
              "  <button class=\"colab-df-quickchart\" onclick=\"quickchart('df-2b3e9ab4-0b95-4e72-8718-de8f7c33ea91')\"\n",
              "            title=\"Suggest charts.\"\n",
              "            style=\"display:none;\">\n",
              "\n",
              "<svg xmlns=\"http://www.w3.org/2000/svg\" height=\"24px\"viewBox=\"0 0 24 24\"\n",
              "     width=\"24px\">\n",
              "    <g>\n",
              "        <path d=\"M19 3H5c-1.1 0-2 .9-2 2v14c0 1.1.9 2 2 2h14c1.1 0 2-.9 2-2V5c0-1.1-.9-2-2-2zM9 17H7v-7h2v7zm4 0h-2V7h2v10zm4 0h-2v-4h2v4z\"/>\n",
              "    </g>\n",
              "</svg>\n",
              "  </button>\n",
              "\n",
              "<style>\n",
              "  .colab-df-quickchart {\n",
              "    background-color: #E8F0FE;\n",
              "    border: none;\n",
              "    border-radius: 50%;\n",
              "    cursor: pointer;\n",
              "    display: none;\n",
              "    fill: #1967D2;\n",
              "    height: 32px;\n",
              "    padding: 0 0 0 0;\n",
              "    width: 32px;\n",
              "  }\n",
              "\n",
              "  .colab-df-quickchart:hover {\n",
              "    background-color: #E2EBFA;\n",
              "    box-shadow: 0px 1px 2px rgba(60, 64, 67, 0.3), 0px 1px 3px 1px rgba(60, 64, 67, 0.15);\n",
              "    fill: #174EA6;\n",
              "  }\n",
              "\n",
              "  [theme=dark] .colab-df-quickchart {\n",
              "    background-color: #3B4455;\n",
              "    fill: #D2E3FC;\n",
              "  }\n",
              "\n",
              "  [theme=dark] .colab-df-quickchart:hover {\n",
              "    background-color: #434B5C;\n",
              "    box-shadow: 0px 1px 3px 1px rgba(0, 0, 0, 0.15);\n",
              "    filter: drop-shadow(0px 1px 2px rgba(0, 0, 0, 0.3));\n",
              "    fill: #FFFFFF;\n",
              "  }\n",
              "</style>\n",
              "\n",
              "  <script>\n",
              "    async function quickchart(key) {\n",
              "      const charts = await google.colab.kernel.invokeFunction(\n",
              "          'suggestCharts', [key], {});\n",
              "    }\n",
              "    (() => {\n",
              "      let quickchartButtonEl =\n",
              "        document.querySelector('#df-2b3e9ab4-0b95-4e72-8718-de8f7c33ea91 button');\n",
              "      quickchartButtonEl.style.display =\n",
              "        google.colab.kernel.accessAllowed ? 'block' : 'none';\n",
              "    })();\n",
              "  </script>\n",
              "</div>\n",
              "    </div>\n",
              "  </div>\n"
            ]
          },
          "metadata": {},
          "execution_count": 7
        }
      ]
    },
    {
      "cell_type": "code",
      "source": [
        "# Convert departure_time to datetime\n",
        "transport['departure_time'] = pd.to_datetime(transport['departure_time'])\n",
        "\n",
        "# Extract features from departure_time\n",
        "transport['hour_of_day'] = transport['departure_time'].dt.hour\n",
        "transport['day_of_week'] = transport['departure_time'].dt.dayofweek\n"
      ],
      "metadata": {
        "id": "vtNWmMeWzre1"
      },
      "execution_count": 8,
      "outputs": []
    },
    {
      "cell_type": "code",
      "source": [
        "from sklearn.preprocessing import StandardScaler\n",
        "\n",
        "data_numeric = transport.drop(columns=['departure_time'])\n",
        "\n",
        "# Perform feature scaling using StandardScaler\n",
        "scaler = StandardScaler()\n",
        "scaled_data = scaler.fit_transform(data_numeric)\n",
        "scaled_data"
      ],
      "metadata": {
        "colab": {
          "base_uri": "https://localhost:8080/"
        },
        "id": "z6Z4tTiNzuG3",
        "outputId": "c61385be-aa62-452d-a278-5b0d2e67a76d"
      },
      "execution_count": 9,
      "outputs": [
        {
          "output_type": "execute_result",
          "data": {
            "text/plain": [
              "array([[-0.51734933, -0.13933522,  0.10789769, ..., -0.51574494,\n",
              "         0.83932454, -1.04160923],\n",
              "       [-0.65604557, -0.14011792,  0.10571586, ..., -0.51574494,\n",
              "        -2.06546508,  1.00306776],\n",
              "       [ 0.823381  , -0.13806539,  0.11134518, ..., -0.51574494,\n",
              "        -1.60681409,  1.51423701],\n",
              "       ...,\n",
              "       [ 2.65694529, -0.12666484,  0.11228498, ...,  0.21130803,\n",
              "         0.07490622,  1.00306776],\n",
              "       [-0.47111725, -0.13623989,  0.11150011, ..., -0.51574494,\n",
              "         0.99220821,  1.51423701],\n",
              "       [-0.47111725, -0.13712509,  0.11297623, ..., -0.51574494,\n",
              "         0.68644088, -0.53043998]])"
            ]
          },
          "metadata": {},
          "execution_count": 9
        }
      ]
    },
    {
      "cell_type": "code",
      "source": [
        "# Plot histogram of a scaled feature\n",
        "fig, axs = plt.subplots(1, 2, figsize=(8, 3), sharey=True)\n",
        "transport[\"travel_fee\"].hist(ax=axs[0], bins=50)\n",
        "transport[\"travel_fee\"].apply(np.log1p).hist(ax=axs[1], bins=50)\n",
        "axs[0].set_xlabel(\"Travel Fee (Scaled)\")\n",
        "axs[1].set_xlabel(\"Log of Scaled Travel Fee\")\n",
        "axs[0].set_ylabel(\"Number of Instances\")\n",
        "plt.show()"
      ],
      "metadata": {
        "colab": {
          "base_uri": "https://localhost:8080/",
          "height": 326
        },
        "id": "VngMIxK4zy9B",
        "outputId": "53d2b183-1360-4d36-ca64-c4c53baae43c"
      },
      "execution_count": 10,
      "outputs": [
        {
          "output_type": "display_data",
          "data": {
            "text/plain": [
              "<Figure size 800x300 with 2 Axes>"
            ],
            "image/png": "[encoded data removed]"
          },
          "metadata": {}
        }
      ]
    },
    {
      "cell_type": "code",
      "source": [
        "from sklearn.compose import ColumnTransformer\n",
        "from sklearn.pipeline import make_pipeline\n",
        "\n",
        "num_attribs = ['travel_fee', 'departure_long', 'departure_lat', 'arrival_long', 'arrival_lat', 'hour_of_day', 'day_of_week','occupancy']\n",
        "\n",
        "num_pipeline = make_pipeline(\n",
        "    StandardScaler()  # Scale features\n",
        ")\n",
        "preprocessing = ColumnTransformer([\n",
        "    (\"num\", num_pipeline, num_attribs),\n",
        "    # Apply numeric pipeline to numeric attributes\n",
        "])\n",
        "\n"
      ],
      "metadata": {
        "id": "WADo8Ew-z0a_"
      },
      "execution_count": 11,
      "outputs": []
    },
    {
      "cell_type": "code",
      "source": [
        "transport_prepared = preprocessing.fit_transform(transport)\n",
        "transport_prepared\n"
      ],
      "metadata": {
        "colab": {
          "base_uri": "https://localhost:8080/"
        },
        "id": "E-of1_zoz2m5",
        "outputId": "ebfcca20-e982-4a80-daab-9fce584c1e82"
      },
      "execution_count": 12,
      "outputs": [
        {
          "output_type": "execute_result",
          "data": {
            "text/plain": [
              "array([[-0.51734933, -0.13933522,  0.10789769, ...,  0.83932454,\n",
              "        -1.04160923, -0.51574494],\n",
              "       [-0.65604557, -0.14011792,  0.10571586, ..., -2.06546508,\n",
              "         1.00306776, -0.51574494],\n",
              "       [ 0.823381  , -0.13806539,  0.11134518, ..., -1.60681409,\n",
              "         1.51423701, -0.51574494],\n",
              "       ...,\n",
              "       [ 2.65694529, -0.12666484,  0.11228498, ...,  0.07490622,\n",
              "         1.00306776,  0.21130803],\n",
              "       [-0.47111725, -0.13623989,  0.11150011, ...,  0.99220821,\n",
              "         1.51423701, -0.51574494],\n",
              "       [-0.47111725, -0.13712509,  0.11297623, ...,  0.68644088,\n",
              "        -0.53043998, -0.51574494]])"
            ]
          },
          "metadata": {},
          "execution_count": 12
        }
      ]
    },
    {
      "cell_type": "code",
      "source": [
        "preprocessing.get_feature_names_out()"
      ],
      "metadata": {
        "colab": {
          "base_uri": "https://localhost:8080/"
        },
        "id": "6mnkAYKvz36K",
        "outputId": "b383cdd5-b387-44ab-9bec-160c27de4d94"
      },
      "execution_count": 13,
      "outputs": [
        {
          "output_type": "execute_result",
          "data": {
            "text/plain": [
              "array(['num__travel_fee', 'num__departure_long', 'num__departure_lat',\n",
              "       'num__arrival_long', 'num__arrival_lat', 'num__hour_of_day',\n",
              "       'num__day_of_week', 'num__occupancy'], dtype=object)"
            ]
          },
          "metadata": {},
          "execution_count": 13
        }
      ]
    },
    {
      "cell_type": "code",
      "source": [
        "transport.info()"
      ],
      "metadata": {
        "colab": {
          "base_uri": "https://localhost:8080/"
        },
        "id": "p91_O64Bz6Oc",
        "outputId": "28860f92-8720-4011-82ed-e889d6567f00"
      },
      "execution_count": 14,
      "outputs": [
        {
          "output_type": "stream",
          "name": "stdout",
          "text": [
            "<class 'pandas.core.frame.DataFrame'>\n",
            "Int64Index: 2596492 entries, 0 to 2596557\n",
            "Data columns (total 9 columns):\n",
            " #   Column          Dtype              \n",
            "---  ------          -----              \n",
            " 0   travel_fee      float64            \n",
            " 1   departure_time  datetime64[ns, UTC]\n",
            " 2   departure_long  float64            \n",
            " 3   departure_lat   float64            \n",
            " 4   arrival_long    float64            \n",
            " 5   arrival_lat     float64            \n",
            " 6   occupancy       int64              \n",
            " 7   hour_of_day     int64              \n",
            " 8   day_of_week     int64              \n",
            "dtypes: datetime64[ns, UTC](1), float64(5), int64(3)\n",
            "memory usage: 198.1 MB\n"
          ]
        }
      ]
    },
    {
      "cell_type": "code",
      "source": [
        "from sklearn.model_selection import train_test_split\n",
        "\n",
        "\n",
        "train_set, test_set = train_test_split(transport.head(500000), test_size=0.2, random_state=42)\n",
        "\n",
        "print(\"Length of train_set:\", len(train_set))\n",
        "print(\"Length of test_set:\", len(test_set))"
      ],
      "metadata": {
        "id": "3wdcEl4jB0Ca",
        "outputId": "4907c02f-8a6b-40a5-db7d-f745d19d46e5",
        "colab": {
          "base_uri": "https://localhost:8080/"
        }
      },
      "execution_count": 16,
      "outputs": [
        {
          "output_type": "stream",
          "name": "stdout",
          "text": [
            "Length of train_set: 400000\n",
            "Length of test_set: 100000\n"
          ]
        }
      ]
    }
  ]
}