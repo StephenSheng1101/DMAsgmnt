{
  "nbformat": 4,
  "nbformat_minor": 0,
  "metadata": {
    "colab": {
      "provenance": [],
      "authorship_tag": "ABX9TyOjLtpE3X6WGfSTEoG5fNR9",
      "include_colab_link": true
    },
    "kernelspec": {
      "name": "python3",
      "display_name": "Python 3"
    },
    "language_info": {
      "name": "python"
    }
  },
  "cells": [
    {
      "cell_type": "markdown",
      "metadata": {
        "id": "view-in-github",
        "colab_type": "text"
      },
      "source": [
        "<a href=\"https://colab.research.google.com/github/StephenSheng1101/DMAsgmnt/blob/main/Model_1.ipynb\" target=\"_parent\"><img src=\"https://colab.research.google.com/assets/colab-badge.svg\" alt=\"Open In Colab\"/></a>"
      ]
    },
    {
      "cell_type": "code",
      "execution_count": 25,
      "metadata": {
        "id": "Gh56WiC1C4z1"
      },
      "outputs": [],
      "source": [
        "from pathlib import Path\n",
        "import pandas as pd\n",
        "import tarfile\n",
        "import urllib.request\n",
        "import numpy as np\n",
        "import matplotlib.pyplot as plt\n",
        "import sklearn"
      ]
    },
    {
      "cell_type": "code",
      "source": [
        "df = pd.read_csv(\"dataset.csv\")"
      ],
      "metadata": {
        "id": "r0oSAvJnzYfC"
      },
      "execution_count": 26,
      "outputs": []
    },
    {
      "cell_type": "code",
      "source": [
        "def load_transport_data():\n",
        "    tarball_path = Path(\"/content/dataset.csv\")\n",
        "    if not tarball_path.is_file():\n",
        "        Path(\"datasets\").mkdir(parents=True, exist_ok=True)\n",
        "        with tarfile.open(tarball_path) as transport_tarball:\n",
        "            transport_tarball.extractall(path=\"datasets\")\n",
        "    return pd.read_csv(Path(\"/content/dataset.csv\"))\n",
        "\n",
        "transport = load_transport_data()\n",
        "transport.head()"
      ],
      "metadata": {
        "colab": {
          "base_uri": "https://localhost:8080/",
          "height": 206
        },
        "id": "vKSHze46zajV",
        "outputId": "3dea032b-40dc-49d7-fc55-59010e342117"
      },
      "execution_count": 27,
      "outputs": [
        {
          "output_type": "execute_result",
          "data": {
            "text/plain": [
              "                              ID  travel_fee             departure_time  \\\n",
              "0  2013-07-02 19:54:00.000000232         7.0  2013-07-02 19:54:00+00:00   \n",
              "1    2013-09-28 00:21:31.0000002         5.5  2013-09-28 00:21:31+00:00   \n",
              "2  2013-06-16 03:18:00.000000150        21.5  2013-06-16 03:18:00+00:00   \n",
              "3  2013-07-20 13:43:00.000000121         9.5  2013-07-20 13:43:00+00:00   \n",
              "4    2013-11-05 22:57:17.0000003        15.5  2013-11-05 22:57:17+00:00   \n",
              "\n",
              "   departure_long  departure_lat  arrival_long  arrival_lat  occupancy  \n",
              "0      -74.005360      40.728867    -74.008913    40.710907        1.0  \n",
              "1      -74.014165      40.708941    -74.016310    40.716734        1.0  \n",
              "2      -73.991075      40.760352    -73.941382    40.713292        1.0  \n",
              "3      -74.002662      40.723630    -73.991722    40.748905        5.0  \n",
              "4      -73.962397      40.712705    -73.996834    40.680403        2.0  "
            ],
            "text/html": [
              "\n",
              "  <div id=\"df-2a987ae2-7f51-49c9-96ad-b35aaddd5913\" class=\"colab-df-container\">\n",
              "    <div>\n",
              "<style scoped>\n",
              "    .dataframe tbody tr th:only-of-type {\n",
              "        vertical-align: middle;\n",
              "    }\n",
              "\n",
              "    .dataframe tbody tr th {\n",
              "        vertical-align: top;\n",
              "    }\n",
              "\n",
              "    .dataframe thead th {\n",
              "        text-align: right;\n",
              "    }\n",
              "</style>\n",
              "<table border=\"1\" class=\"dataframe\">\n",
              "  <thead>\n",
              "    <tr style=\"text-align: right;\">\n",
              "      <th></th>\n",
              "      <th>ID</th>\n",
              "      <th>travel_fee</th>\n",
              "      <th>departure_time</th>\n",
              "      <th>departure_long</th>\n",
              "      <th>departure_lat</th>\n",
              "      <th>arrival_long</th>\n",
              "      <th>arrival_lat</th>\n",
              "      <th>occupancy</th>\n",
              "    </tr>\n",
              "  </thead>\n",
              "  <tbody>\n",
              "    <tr>\n",
              "      <th>0</th>\n",
              "      <td>2013-07-02 19:54:00.000000232</td>\n",
              "      <td>7.0</td>\n",
              "      <td>2013-07-02 19:54:00+00:00</td>\n",
              "      <td>-74.005360</td>\n",
              "      <td>40.728867</td>\n",
              "      <td>-74.008913</td>\n",
              "      <td>40.710907</td>\n",
              "      <td>1.0</td>\n",
              "    </tr>\n",
              "    <tr>\n",
              "      <th>1</th>\n",
              "      <td>2013-09-28 00:21:31.0000002</td>\n",
              "      <td>5.5</td>\n",
              "      <td>2013-09-28 00:21:31+00:00</td>\n",
              "      <td>-74.014165</td>\n",
              "      <td>40.708941</td>\n",
              "      <td>-74.016310</td>\n",
              "      <td>40.716734</td>\n",
              "      <td>1.0</td>\n",
              "    </tr>\n",
              "    <tr>\n",
              "      <th>2</th>\n",
              "      <td>2013-06-16 03:18:00.000000150</td>\n",
              "      <td>21.5</td>\n",
              "      <td>2013-06-16 03:18:00+00:00</td>\n",
              "      <td>-73.991075</td>\n",
              "      <td>40.760352</td>\n",
              "      <td>-73.941382</td>\n",
              "      <td>40.713292</td>\n",
              "      <td>1.0</td>\n",
              "    </tr>\n",
              "    <tr>\n",
              "      <th>3</th>\n",
              "      <td>2013-07-20 13:43:00.000000121</td>\n",
              "      <td>9.5</td>\n",
              "      <td>2013-07-20 13:43:00+00:00</td>\n",
              "      <td>-74.002662</td>\n",
              "      <td>40.723630</td>\n",
              "      <td>-73.991722</td>\n",
              "      <td>40.748905</td>\n",
              "      <td>5.0</td>\n",
              "    </tr>\n",
              "    <tr>\n",
              "      <th>4</th>\n",
              "      <td>2013-11-05 22:57:17.0000003</td>\n",
              "      <td>15.5</td>\n",
              "      <td>2013-11-05 22:57:17+00:00</td>\n",
              "      <td>-73.962397</td>\n",
              "      <td>40.712705</td>\n",
              "      <td>-73.996834</td>\n",
              "      <td>40.680403</td>\n",
              "      <td>2.0</td>\n",
              "    </tr>\n",
              "  </tbody>\n",
              "</table>\n",
              "</div>\n",
              "    <div class=\"colab-df-buttons\">\n",
              "\n",
              "  <div class=\"colab-df-container\">\n",
              "    <button class=\"colab-df-convert\" onclick=\"convertToInteractive('df-2a987ae2-7f51-49c9-96ad-b35aaddd5913')\"\n",
              "            title=\"Convert this dataframe to an interactive table.\"\n",
              "            style=\"display:none;\">\n",
              "\n",
              "  <svg xmlns=\"http://www.w3.org/2000/svg\" height=\"24px\" viewBox=\"0 -960 960 960\">\n",
              "    <path d=\"M120-120v-720h720v720H120Zm60-500h600v-160H180v160Zm220 220h160v-160H400v160Zm0 220h160v-160H400v160ZM180-400h160v-160H180v160Zm440 0h160v-160H620v160ZM180-180h160v-160H180v160Zm440 0h160v-160H620v160Z\"/>\n",
              "  </svg>\n",
              "    </button>\n",
              "\n",
              "  <style>\n",
              "    .colab-df-container {\n",
              "      display:flex;\n",
              "      gap: 12px;\n",
              "    }\n",
              "\n",
              "    .colab-df-convert {\n",
              "      background-color: #E8F0FE;\n",
              "      border: none;\n",
              "      border-radius: 50%;\n",
              "      cursor: pointer;\n",
              "      display: none;\n",
              "      fill: #1967D2;\n",
              "      height: 32px;\n",
              "      padding: 0 0 0 0;\n",
              "      width: 32px;\n",
              "    }\n",
              "\n",
              "    .colab-df-convert:hover {\n",
              "      background-color: #E2EBFA;\n",
              "      box-shadow: 0px 1px 2px rgba(60, 64, 67, 0.3), 0px 1px 3px 1px rgba(60, 64, 67, 0.15);\n",
              "      fill: #174EA6;\n",
              "    }\n",
              "\n",
              "    .colab-df-buttons div {\n",
              "      margin-bottom: 4px;\n",
              "    }\n",
              "\n",
              "    [theme=dark] .colab-df-convert {\n",
              "      background-color: #3B4455;\n",
              "      fill: #D2E3FC;\n",
              "    }\n",
              "\n",
              "    [theme=dark] .colab-df-convert:hover {\n",
              "      background-color: #434B5C;\n",
              "      box-shadow: 0px 1px 3px 1px rgba(0, 0, 0, 0.15);\n",
              "      filter: drop-shadow(0px 1px 2px rgba(0, 0, 0, 0.3));\n",
              "      fill: #FFFFFF;\n",
              "    }\n",
              "  </style>\n",
              "\n",
              "    <script>\n",
              "      const buttonEl =\n",
              "        document.querySelector('#df-2a987ae2-7f51-49c9-96ad-b35aaddd5913 button.colab-df-convert');\n",
              "      buttonEl.style.display =\n",
              "        google.colab.kernel.accessAllowed ? 'block' : 'none';\n",
              "\n",
              "      async function convertToInteractive(key) {\n",
              "        const element = document.querySelector('#df-2a987ae2-7f51-49c9-96ad-b35aaddd5913');\n",
              "        const dataTable =\n",
              "          await google.colab.kernel.invokeFunction('convertToInteractive',\n",
              "                                                    [key], {});\n",
              "        if (!dataTable) return;\n",
              "\n",
              "        const docLinkHtml = 'Like what you see? Visit the ' +\n",
              "          '<a target=\"_blank\" href=https://colab.research.google.com/notebooks/data_table.ipynb>data table notebook</a>'\n",
              "          + ' to learn more about interactive tables.';\n",
              "        element.innerHTML = '';\n",
              "        dataTable['output_type'] = 'display_data';\n",
              "        await google.colab.output.renderOutput(dataTable, element);\n",
              "        const docLink = document.createElement('div');\n",
              "        docLink.innerHTML = docLinkHtml;\n",
              "        element.appendChild(docLink);\n",
              "      }\n",
              "    </script>\n",
              "  </div>\n",
              "\n",
              "\n",
              "<div id=\"df-edf35e72-df04-4ba4-a3af-bf6029130c85\">\n",
              "  <button class=\"colab-df-quickchart\" onclick=\"quickchart('df-edf35e72-df04-4ba4-a3af-bf6029130c85')\"\n",
              "            title=\"Suggest charts.\"\n",
              "            style=\"display:none;\">\n",
              "\n",
              "<svg xmlns=\"http://www.w3.org/2000/svg\" height=\"24px\"viewBox=\"0 0 24 24\"\n",
              "     width=\"24px\">\n",
              "    <g>\n",
              "        <path d=\"M19 3H5c-1.1 0-2 .9-2 2v14c0 1.1.9 2 2 2h14c1.1 0 2-.9 2-2V5c0-1.1-.9-2-2-2zM9 17H7v-7h2v7zm4 0h-2V7h2v10zm4 0h-2v-4h2v4z\"/>\n",
              "    </g>\n",
              "</svg>\n",
              "  </button>\n",
              "\n",
              "<style>\n",
              "  .colab-df-quickchart {\n",
              "    background-color: #E8F0FE;\n",
              "    border: none;\n",
              "    border-radius: 50%;\n",
              "    cursor: pointer;\n",
              "    display: none;\n",
              "    fill: #1967D2;\n",
              "    height: 32px;\n",
              "    padding: 0 0 0 0;\n",
              "    width: 32px;\n",
              "  }\n",
              "\n",
              "  .colab-df-quickchart:hover {\n",
              "    background-color: #E2EBFA;\n",
              "    box-shadow: 0px 1px 2px rgba(60, 64, 67, 0.3), 0px 1px 3px 1px rgba(60, 64, 67, 0.15);\n",
              "    fill: #174EA6;\n",
              "  }\n",
              "\n",
              "  [theme=dark] .colab-df-quickchart {\n",
              "    background-color: #3B4455;\n",
              "    fill: #D2E3FC;\n",
              "  }\n",
              "\n",
              "  [theme=dark] .colab-df-quickchart:hover {\n",
              "    background-color: #434B5C;\n",
              "    box-shadow: 0px 1px 3px 1px rgba(0, 0, 0, 0.15);\n",
              "    filter: drop-shadow(0px 1px 2px rgba(0, 0, 0, 0.3));\n",
              "    fill: #FFFFFF;\n",
              "  }\n",
              "</style>\n",
              "\n",
              "  <script>\n",
              "    async function quickchart(key) {\n",
              "      const charts = await google.colab.kernel.invokeFunction(\n",
              "          'suggestCharts', [key], {});\n",
              "    }\n",
              "    (() => {\n",
              "      let quickchartButtonEl =\n",
              "        document.querySelector('#df-edf35e72-df04-4ba4-a3af-bf6029130c85 button');\n",
              "      quickchartButtonEl.style.display =\n",
              "        google.colab.kernel.accessAllowed ? 'block' : 'none';\n",
              "    })();\n",
              "  </script>\n",
              "</div>\n",
              "    </div>\n",
              "  </div>\n"
            ]
          },
          "metadata": {},
          "execution_count": 27
        }
      ]
    },
    {
      "cell_type": "code",
      "source": [
        "\n",
        "transport.describe()\n",
        "transport.info()\n"
      ],
      "metadata": {
        "colab": {
          "base_uri": "https://localhost:8080/"
        },
        "id": "U6jT8FC7zc-l",
        "outputId": "1cb82ee8-7f97-4b62-a249-2a2e745c723a"
      },
      "execution_count": 28,
      "outputs": [
        {
          "output_type": "stream",
          "name": "stdout",
          "text": [
            "<class 'pandas.core.frame.DataFrame'>\n",
            "RangeIndex: 2042884 entries, 0 to 2042883\n",
            "Data columns (total 8 columns):\n",
            " #   Column          Dtype  \n",
            "---  ------          -----  \n",
            " 0   ID              object \n",
            " 1   travel_fee      float64\n",
            " 2   departure_time  object \n",
            " 3   departure_long  float64\n",
            " 4   departure_lat   float64\n",
            " 5   arrival_long    float64\n",
            " 6   arrival_lat     float64\n",
            " 7   occupancy       float64\n",
            "dtypes: float64(6), object(2)\n",
            "memory usage: 124.7+ MB\n"
          ]
        }
      ]
    },
    {
      "cell_type": "code",
      "source": [
        "transport.isnull().sum()"
      ],
      "metadata": {
        "colab": {
          "base_uri": "https://localhost:8080/"
        },
        "id": "wxDktP2nzkv4",
        "outputId": "74fa7397-03f7-425d-cb3b-a3a6a2b31d79"
      },
      "execution_count": 29,
      "outputs": [
        {
          "output_type": "execute_result",
          "data": {
            "text/plain": [
              "ID                 0\n",
              "travel_fee         0\n",
              "departure_time     0\n",
              "departure_long     1\n",
              "departure_lat      1\n",
              "arrival_long      34\n",
              "arrival_lat       34\n",
              "occupancy          1\n",
              "dtype: int64"
            ]
          },
          "metadata": {},
          "execution_count": 29
        }
      ]
    },
    {
      "cell_type": "code",
      "source": [
        "#handling missing value\n",
        "transport[\"departure_long\"].fillna(transport[\"departure_long\"].mean(), inplace=True)\n",
        "transport[\"departure_lat\"].fillna(transport[\"departure_lat\"].mean(), inplace=True)\n",
        "transport[\"occupancy\"].fillna(transport[\"occupancy\"].mode()[0], inplace=True)\n",
        "transport.drop(columns=['ID'], inplace=True)\n",
        "\n",
        "\n",
        "# Drop rows with missing \"departure_time\",\"arrival_long\" and \"arrival_lat\"\n",
        "transport.dropna(subset=[\"departure_time\", \"arrival_long\", \"arrival_lat\"],inplace = True)\n",
        "transport.isnull().sum()\n",
        "\n",
        "# Drop rows with a 0 value of occupancy\n",
        "transport = transport.drop(transport[transport['occupancy'] <= 0].index)"
      ],
      "metadata": {
        "id": "0PgaoQVDznyM"
      },
      "execution_count": 30,
      "outputs": []
    },
    {
      "cell_type": "code",
      "source": [
        "transport.head()"
      ],
      "metadata": {
        "colab": {
          "base_uri": "https://localhost:8080/",
          "height": 206
        },
        "id": "SawLe1TtzqCD",
        "outputId": "f452bcd8-7d1e-44ca-f302-4cdc95447e6d"
      },
      "execution_count": 31,
      "outputs": [
        {
          "output_type": "execute_result",
          "data": {
            "text/plain": [
              "   travel_fee             departure_time  departure_long  departure_lat  \\\n",
              "0         7.0  2013-07-02 19:54:00+00:00      -74.005360      40.728867   \n",
              "1         5.5  2013-09-28 00:21:31+00:00      -74.014165      40.708941   \n",
              "2        21.5  2013-06-16 03:18:00+00:00      -73.991075      40.760352   \n",
              "3         9.5  2013-07-20 13:43:00+00:00      -74.002662      40.723630   \n",
              "4        15.5  2013-11-05 22:57:17+00:00      -73.962397      40.712705   \n",
              "\n",
              "   arrival_long  arrival_lat  occupancy  \n",
              "0    -74.008913    40.710907        1.0  \n",
              "1    -74.016310    40.716734        1.0  \n",
              "2    -73.941382    40.713292        1.0  \n",
              "3    -73.991722    40.748905        5.0  \n",
              "4    -73.996834    40.680403        2.0  "
            ],
            "text/html": [
              "\n",
              "  <div id=\"df-e5c53099-9d2e-4bbc-adec-bb8861917087\" class=\"colab-df-container\">\n",
              "    <div>\n",
              "<style scoped>\n",
              "    .dataframe tbody tr th:only-of-type {\n",
              "        vertical-align: middle;\n",
              "    }\n",
              "\n",
              "    .dataframe tbody tr th {\n",
              "        vertical-align: top;\n",
              "    }\n",
              "\n",
              "    .dataframe thead th {\n",
              "        text-align: right;\n",
              "    }\n",
              "</style>\n",
              "<table border=\"1\" class=\"dataframe\">\n",
              "  <thead>\n",
              "    <tr style=\"text-align: right;\">\n",
              "      <th></th>\n",
              "      <th>travel_fee</th>\n",
              "      <th>departure_time</th>\n",
              "      <th>departure_long</th>\n",
              "      <th>departure_lat</th>\n",
              "      <th>arrival_long</th>\n",
              "      <th>arrival_lat</th>\n",
              "      <th>occupancy</th>\n",
              "    </tr>\n",
              "  </thead>\n",
              "  <tbody>\n",
              "    <tr>\n",
              "      <th>0</th>\n",
              "      <td>7.0</td>\n",
              "      <td>2013-07-02 19:54:00+00:00</td>\n",
              "      <td>-74.005360</td>\n",
              "      <td>40.728867</td>\n",
              "      <td>-74.008913</td>\n",
              "      <td>40.710907</td>\n",
              "      <td>1.0</td>\n",
              "    </tr>\n",
              "    <tr>\n",
              "      <th>1</th>\n",
              "      <td>5.5</td>\n",
              "      <td>2013-09-28 00:21:31+00:00</td>\n",
              "      <td>-74.014165</td>\n",
              "      <td>40.708941</td>\n",
              "      <td>-74.016310</td>\n",
              "      <td>40.716734</td>\n",
              "      <td>1.0</td>\n",
              "    </tr>\n",
              "    <tr>\n",
              "      <th>2</th>\n",
              "      <td>21.5</td>\n",
              "      <td>2013-06-16 03:18:00+00:00</td>\n",
              "      <td>-73.991075</td>\n",
              "      <td>40.760352</td>\n",
              "      <td>-73.941382</td>\n",
              "      <td>40.713292</td>\n",
              "      <td>1.0</td>\n",
              "    </tr>\n",
              "    <tr>\n",
              "      <th>3</th>\n",
              "      <td>9.5</td>\n",
              "      <td>2013-07-20 13:43:00+00:00</td>\n",
              "      <td>-74.002662</td>\n",
              "      <td>40.723630</td>\n",
              "      <td>-73.991722</td>\n",
              "      <td>40.748905</td>\n",
              "      <td>5.0</td>\n",
              "    </tr>\n",
              "    <tr>\n",
              "      <th>4</th>\n",
              "      <td>15.5</td>\n",
              "      <td>2013-11-05 22:57:17+00:00</td>\n",
              "      <td>-73.962397</td>\n",
              "      <td>40.712705</td>\n",
              "      <td>-73.996834</td>\n",
              "      <td>40.680403</td>\n",
              "      <td>2.0</td>\n",
              "    </tr>\n",
              "  </tbody>\n",
              "</table>\n",
              "</div>\n",
              "    <div class=\"colab-df-buttons\">\n",
              "\n",
              "  <div class=\"colab-df-container\">\n",
              "    <button class=\"colab-df-convert\" onclick=\"convertToInteractive('df-e5c53099-9d2e-4bbc-adec-bb8861917087')\"\n",
              "            title=\"Convert this dataframe to an interactive table.\"\n",
              "            style=\"display:none;\">\n",
              "\n",
              "  <svg xmlns=\"http://www.w3.org/2000/svg\" height=\"24px\" viewBox=\"0 -960 960 960\">\n",
              "    <path d=\"M120-120v-720h720v720H120Zm60-500h600v-160H180v160Zm220 220h160v-160H400v160Zm0 220h160v-160H400v160ZM180-400h160v-160H180v160Zm440 0h160v-160H620v160ZM180-180h160v-160H180v160Zm440 0h160v-160H620v160Z\"/>\n",
              "  </svg>\n",
              "    </button>\n",
              "\n",
              "  <style>\n",
              "    .colab-df-container {\n",
              "      display:flex;\n",
              "      gap: 12px;\n",
              "    }\n",
              "\n",
              "    .colab-df-convert {\n",
              "      background-color: #E8F0FE;\n",
              "      border: none;\n",
              "      border-radius: 50%;\n",
              "      cursor: pointer;\n",
              "      display: none;\n",
              "      fill: #1967D2;\n",
              "      height: 32px;\n",
              "      padding: 0 0 0 0;\n",
              "      width: 32px;\n",
              "    }\n",
              "\n",
              "    .colab-df-convert:hover {\n",
              "      background-color: #E2EBFA;\n",
              "      box-shadow: 0px 1px 2px rgba(60, 64, 67, 0.3), 0px 1px 3px 1px rgba(60, 64, 67, 0.15);\n",
              "      fill: #174EA6;\n",
              "    }\n",
              "\n",
              "    .colab-df-buttons div {\n",
              "      margin-bottom: 4px;\n",
              "    }\n",
              "\n",
              "    [theme=dark] .colab-df-convert {\n",
              "      background-color: #3B4455;\n",
              "      fill: #D2E3FC;\n",
              "    }\n",
              "\n",
              "    [theme=dark] .colab-df-convert:hover {\n",
              "      background-color: #434B5C;\n",
              "      box-shadow: 0px 1px 3px 1px rgba(0, 0, 0, 0.15);\n",
              "      filter: drop-shadow(0px 1px 2px rgba(0, 0, 0, 0.3));\n",
              "      fill: #FFFFFF;\n",
              "    }\n",
              "  </style>\n",
              "\n",
              "    <script>\n",
              "      const buttonEl =\n",
              "        document.querySelector('#df-e5c53099-9d2e-4bbc-adec-bb8861917087 button.colab-df-convert');\n",
              "      buttonEl.style.display =\n",
              "        google.colab.kernel.accessAllowed ? 'block' : 'none';\n",
              "\n",
              "      async function convertToInteractive(key) {\n",
              "        const element = document.querySelector('#df-e5c53099-9d2e-4bbc-adec-bb8861917087');\n",
              "        const dataTable =\n",
              "          await google.colab.kernel.invokeFunction('convertToInteractive',\n",
              "                                                    [key], {});\n",
              "        if (!dataTable) return;\n",
              "\n",
              "        const docLinkHtml = 'Like what you see? Visit the ' +\n",
              "          '<a target=\"_blank\" href=https://colab.research.google.com/notebooks/data_table.ipynb>data table notebook</a>'\n",
              "          + ' to learn more about interactive tables.';\n",
              "        element.innerHTML = '';\n",
              "        dataTable['output_type'] = 'display_data';\n",
              "        await google.colab.output.renderOutput(dataTable, element);\n",
              "        const docLink = document.createElement('div');\n",
              "        docLink.innerHTML = docLinkHtml;\n",
              "        element.appendChild(docLink);\n",
              "      }\n",
              "    </script>\n",
              "  </div>\n",
              "\n",
              "\n",
              "<div id=\"df-a996c0f4-bdad-41db-b4fd-83b1544667a5\">\n",
              "  <button class=\"colab-df-quickchart\" onclick=\"quickchart('df-a996c0f4-bdad-41db-b4fd-83b1544667a5')\"\n",
              "            title=\"Suggest charts.\"\n",
              "            style=\"display:none;\">\n",
              "\n",
              "<svg xmlns=\"http://www.w3.org/2000/svg\" height=\"24px\"viewBox=\"0 0 24 24\"\n",
              "     width=\"24px\">\n",
              "    <g>\n",
              "        <path d=\"M19 3H5c-1.1 0-2 .9-2 2v14c0 1.1.9 2 2 2h14c1.1 0 2-.9 2-2V5c0-1.1-.9-2-2-2zM9 17H7v-7h2v7zm4 0h-2V7h2v10zm4 0h-2v-4h2v4z\"/>\n",
              "    </g>\n",
              "</svg>\n",
              "  </button>\n",
              "\n",
              "<style>\n",
              "  .colab-df-quickchart {\n",
              "    background-color: #E8F0FE;\n",
              "    border: none;\n",
              "    border-radius: 50%;\n",
              "    cursor: pointer;\n",
              "    display: none;\n",
              "    fill: #1967D2;\n",
              "    height: 32px;\n",
              "    padding: 0 0 0 0;\n",
              "    width: 32px;\n",
              "  }\n",
              "\n",
              "  .colab-df-quickchart:hover {\n",
              "    background-color: #E2EBFA;\n",
              "    box-shadow: 0px 1px 2px rgba(60, 64, 67, 0.3), 0px 1px 3px 1px rgba(60, 64, 67, 0.15);\n",
              "    fill: #174EA6;\n",
              "  }\n",
              "\n",
              "  [theme=dark] .colab-df-quickchart {\n",
              "    background-color: #3B4455;\n",
              "    fill: #D2E3FC;\n",
              "  }\n",
              "\n",
              "  [theme=dark] .colab-df-quickchart:hover {\n",
              "    background-color: #434B5C;\n",
              "    box-shadow: 0px 1px 3px 1px rgba(0, 0, 0, 0.15);\n",
              "    filter: drop-shadow(0px 1px 2px rgba(0, 0, 0, 0.3));\n",
              "    fill: #FFFFFF;\n",
              "  }\n",
              "</style>\n",
              "\n",
              "  <script>\n",
              "    async function quickchart(key) {\n",
              "      const charts = await google.colab.kernel.invokeFunction(\n",
              "          'suggestCharts', [key], {});\n",
              "    }\n",
              "    (() => {\n",
              "      let quickchartButtonEl =\n",
              "        document.querySelector('#df-a996c0f4-bdad-41db-b4fd-83b1544667a5 button');\n",
              "      quickchartButtonEl.style.display =\n",
              "        google.colab.kernel.accessAllowed ? 'block' : 'none';\n",
              "    })();\n",
              "  </script>\n",
              "</div>\n",
              "    </div>\n",
              "  </div>\n"
            ]
          },
          "metadata": {},
          "execution_count": 31
        }
      ]
    },
    {
      "cell_type": "code",
      "source": [
        "# Convert departure_time to datetime\n",
        "transport['departure_time'] = pd.to_datetime(transport['departure_time'])\n",
        "\n",
        "# Extract features from departure_time\n",
        "transport['hour_of_day'] = transport['departure_time'].dt.hour\n",
        "transport['day_of_week'] = transport['departure_time'].dt.dayofweek\n"
      ],
      "metadata": {
        "id": "vtNWmMeWzre1"
      },
      "execution_count": 32,
      "outputs": []
    },
    {
      "cell_type": "code",
      "source": [
        "from sklearn.preprocessing import StandardScaler\n",
        "\n",
        "data_numeric = transport.drop(columns=['departure_time'])\n",
        "\n",
        "# Perform feature scaling using StandardScaler\n",
        "scaler = StandardScaler()\n",
        "scaled_data = scaler.fit_transform(data_numeric)\n",
        "scaled_data"
      ],
      "metadata": {
        "colab": {
          "base_uri": "https://localhost:8080/"
        },
        "id": "z6Z4tTiNzuG3",
        "outputId": "82c4c19b-7a1a-4946-a970-8ee65f60e810"
      },
      "execution_count": 33,
      "outputs": [
        {
          "output_type": "execute_result",
          "data": {
            "text/plain": [
              "array([[-0.51730764, -0.13924665,  0.11098084, ..., -0.51569692,\n",
              "         0.83924531, -1.04234228],\n",
              "       [-0.6558882 , -0.14002891,  0.10874015, ..., -0.51569692,\n",
              "        -2.06464704,  1.00223752],\n",
              "       [ 0.82230446, -0.13797754,  0.11452136, ..., -0.51569692,\n",
              "        -1.60613772,  1.51338247],\n",
              "       ...,\n",
              "       [-0.28634004, -0.13564792,  0.11622274, ..., -0.51569692,\n",
              "        -0.99479196, -1.04234228],\n",
              "       [ 0.6837239 , -0.13687394,  0.11048078, ..., -0.51569692,\n",
              "         0.380736  , -0.53119733],\n",
              "       [-0.4249206 , -0.1321861 ,  0.11270955, ..., -0.51569692,\n",
              "         0.83924531,  1.51338247]])"
            ]
          },
          "metadata": {},
          "execution_count": 33
        }
      ]
    },
    {
      "cell_type": "code",
      "source": [
        "# Plot histogram of a scaled feature\n",
        "fig, axs = plt.subplots(1, 2, figsize=(8, 3), sharey=True)\n",
        "transport[\"travel_fee\"].hist(ax=axs[0], bins=50)\n",
        "transport[\"travel_fee\"].apply(np.log1p).hist(ax=axs[1], bins=50)\n",
        "axs[0].set_xlabel(\"Travel Fee (Scaled)\")\n",
        "axs[1].set_xlabel(\"Log of Scaled Travel Fee\")\n",
        "axs[0].set_ylabel(\"Number of Instances\")\n",
        "plt.show()"
      ],
      "metadata": {
        "colab": {
          "base_uri": "https://localhost:8080/",
          "height": 311
        },
        "id": "VngMIxK4zy9B",
        "outputId": "e1d340e1-d474-4737-dad5-b9c5401408ab"
      },
      "execution_count": 34,
      "outputs": [
        {
          "output_type": "display_data",
          "data": {
            "text/plain": [
              "<Figure size 800x300 with 2 Axes>"
            ],
            "image/png": "[encoded data removed]"
          },
          "metadata": {}
        }
      ]
    },
    {
      "cell_type": "code",
      "source": [
        "from sklearn.compose import ColumnTransformer\n",
        "from sklearn.pipeline import make_pipeline\n",
        "\n",
        "num_attribs = ['travel_fee', 'departure_long', 'departure_lat', 'arrival_long', 'arrival_lat', 'hour_of_day', 'day_of_week','occupancy']\n",
        "\n",
        "num_pipeline = make_pipeline(\n",
        "    StandardScaler()  # Scale features\n",
        ")\n",
        "preprocessing = ColumnTransformer([\n",
        "    (\"num\", num_pipeline, num_attribs),\n",
        "    # Apply numeric pipeline to numeric attributes\n",
        "])\n",
        "\n"
      ],
      "metadata": {
        "id": "WADo8Ew-z0a_"
      },
      "execution_count": 35,
      "outputs": []
    },
    {
      "cell_type": "code",
      "source": [
        "transport_prepared = preprocessing.fit_transform(transport)\n",
        "transport_prepared\n"
      ],
      "metadata": {
        "colab": {
          "base_uri": "https://localhost:8080/"
        },
        "id": "E-of1_zoz2m5",
        "outputId": "52046ae6-69df-4137-8838-d2605355bca5"
      },
      "execution_count": 36,
      "outputs": [
        {
          "output_type": "execute_result",
          "data": {
            "text/plain": [
              "array([[-0.51730764, -0.13924665,  0.11098084, ...,  0.83924531,\n",
              "        -1.04234228, -0.51569692],\n",
              "       [-0.6558882 , -0.14002891,  0.10874015, ..., -2.06464704,\n",
              "         1.00223752, -0.51569692],\n",
              "       [ 0.82230446, -0.13797754,  0.11452136, ..., -1.60613772,\n",
              "         1.51338247, -0.51569692],\n",
              "       ...,\n",
              "       [-0.28634004, -0.13564792,  0.11622274, ..., -0.99479196,\n",
              "        -1.04234228, -0.51569692],\n",
              "       [ 0.6837239 , -0.13687394,  0.11048078, ...,  0.380736  ,\n",
              "        -0.53119733, -0.51569692],\n",
              "       [-0.4249206 , -0.1321861 ,  0.11270955, ...,  0.83924531,\n",
              "         1.51338247, -0.51569692]])"
            ]
          },
          "metadata": {},
          "execution_count": 36
        }
      ]
    },
    {
      "cell_type": "code",
      "source": [
        "preprocessing.get_feature_names_out()"
      ],
      "metadata": {
        "colab": {
          "base_uri": "https://localhost:8080/"
        },
        "id": "6mnkAYKvz36K",
        "outputId": "6e6dbb2b-5f25-456a-bd9d-1f1344e47b1e"
      },
      "execution_count": 37,
      "outputs": [
        {
          "output_type": "execute_result",
          "data": {
            "text/plain": [
              "array(['num__travel_fee', 'num__departure_long', 'num__departure_lat',\n",
              "       'num__arrival_long', 'num__arrival_lat', 'num__hour_of_day',\n",
              "       'num__day_of_week', 'num__occupancy'], dtype=object)"
            ]
          },
          "metadata": {},
          "execution_count": 37
        }
      ]
    },
    {
      "cell_type": "code",
      "source": [
        "transport.info()"
      ],
      "metadata": {
        "colab": {
          "base_uri": "https://localhost:8080/"
        },
        "id": "p91_O64Bz6Oc",
        "outputId": "7c893b29-b811-48d9-d16d-977cf3c92a5e"
      },
      "execution_count": 38,
      "outputs": [
        {
          "output_type": "stream",
          "name": "stdout",
          "text": [
            "<class 'pandas.core.frame.DataFrame'>\n",
            "Int64Index: 2042833 entries, 0 to 2042882\n",
            "Data columns (total 9 columns):\n",
            " #   Column          Dtype              \n",
            "---  ------          -----              \n",
            " 0   travel_fee      float64            \n",
            " 1   departure_time  datetime64[ns, UTC]\n",
            " 2   departure_long  float64            \n",
            " 3   departure_lat   float64            \n",
            " 4   arrival_long    float64            \n",
            " 5   arrival_lat     float64            \n",
            " 6   occupancy       float64            \n",
            " 7   hour_of_day     int64              \n",
            " 8   day_of_week     int64              \n",
            "dtypes: datetime64[ns, UTC](1), float64(6), int64(2)\n",
            "memory usage: 155.9 MB\n"
          ]
        }
      ]
    },
    {
      "cell_type": "code",
      "source": [
        "from sklearn.model_selection import train_test_split\n",
        "\n",
        "\n",
        "train_set, test_set = train_test_split(transport.head(500000), test_size=0.2, random_state=42)\n",
        "\n",
        "print(\"Length of train_set:\", len(train_set))\n",
        "print(\"Length of test_set:\", len(test_set))"
      ],
      "metadata": {
        "id": "3wdcEl4jB0Ca",
        "outputId": "56bcbc5d-0009-46f9-df9f-706f93e43e63",
        "colab": {
          "base_uri": "https://localhost:8080/"
        }
      },
      "execution_count": 39,
      "outputs": [
        {
          "output_type": "stream",
          "name": "stdout",
          "text": [
            "Length of train_set: 400000\n",
            "Length of test_set: 100000\n"
          ]
        }
      ]
    },
    {
      "cell_type": "code",
      "source": [
        "from sklearn.ensemble import RandomForestRegressor\n",
        "from sklearn.metrics import mean_squared_error\n",
        "\n",
        "# Define features and target variables\n",
        "features = [\"departure_long\", \"departure_lat\", \"arrival_long\", \"arrival_lat\", \"occupancy\", \"hour_of_day\", \"day_of_week\"]\n",
        "X_train = train_set[features]\n",
        "y_train = train_set[\"travel_fee\"]\n",
        "X_test = test_set[features]\n",
        "y_test = test_set[\"travel_fee\"]\n",
        "\n",
        "# Initialize the Random Forest Regressor\n",
        "random_forest_regressor = RandomForestRegressor(n_estimators=100, random_state=42)\n",
        "\n",
        "# Train the model\n",
        "random_forest_regressor.fit(X_train, y_train)\n",
        "\n",
        "# Predict on the test set\n",
        "y_pred = random_forest_regressor.predict(X_test)\n",
        "\n",
        "# Evaluate the model\n",
        "mse = mean_squared_error(y_test, y_pred)\n",
        "print(\"Mean Squared Error:\", mse)"
      ],
      "metadata": {
        "colab": {
          "base_uri": "https://localhost:8080/"
        },
        "id": "6af1nPBWRQtV",
        "outputId": "042bbc00-0956-433b-9925-c43e7dba1f18"
      },
      "execution_count": 41,
      "outputs": [
        {
          "output_type": "stream",
          "name": "stdout",
          "text": [
            "Mean Squared Error: 19.505147697168322\n"
          ]
        }
      ]
    }
  ]
}