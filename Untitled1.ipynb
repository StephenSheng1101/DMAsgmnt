{
  "nbformat": 4,
  "nbformat_minor": 0,
  "metadata": {
    "colab": {
      "provenance": [],
      "authorship_tag": "ABX9TyNjgFS75SLQyhOWIjUOAy3V",
      "include_colab_link": true
    },
    "kernelspec": {
      "name": "python3",
      "display_name": "Python 3"
    },
    "language_info": {
      "name": "python"
    }
  },
  "cells": [
    {
      "cell_type": "markdown",
      "metadata": {
        "id": "view-in-github",
        "colab_type": "text"
      },
      "source": [
        "<a href=\"https://colab.research.google.com/github/StephenSheng1101/DMAsgmnt/blob/main/Untitled1.ipynb\" target=\"_parent\"><img src=\"https://colab.research.google.com/assets/colab-badge.svg\" alt=\"Open In Colab\"/></a>"
      ]
    },
    {
      "cell_type": "code",
      "execution_count": 4,
      "metadata": {
        "id": "WC__wO889gCa",
        "outputId": "2d936008-e810-43d8-c649-ed252bbfd8e9",
        "colab": {
          "base_uri": "https://localhost:8080/"
        }
      },
      "outputs": [
        {
          "output_type": "stream",
          "name": "stdout",
          "text": [
            "                              ID  travel_fee             departure_time  \\\n",
            "0  2013-07-02 19:54:00.000000232         7.0  2013-07-02 19:54:00+00:00   \n",
            "1    2013-09-28 00:21:31.0000002         5.5  2013-09-28 00:21:31+00:00   \n",
            "2  2013-06-16 03:18:00.000000150        21.5  2013-06-16 03:18:00+00:00   \n",
            "3  2013-07-20 13:43:00.000000121         9.5  2013-07-20 13:43:00+00:00   \n",
            "4    2013-11-05 22:57:17.0000003        15.5  2013-11-05 22:57:17+00:00   \n",
            "\n",
            "   departure_long  departure_lat  arrival_long  arrival_lat  occupancy  \n",
            "0      -74.005360      40.728867    -74.008913    40.710907          1  \n",
            "1      -74.014165      40.708941    -74.016310    40.716734          1  \n",
            "2      -73.991075      40.760352    -73.941382    40.713292          1  \n",
            "3      -74.002662      40.723630    -73.991722    40.748905          5  \n",
            "4      -73.962397      40.712705    -73.996834    40.680403          2  \n",
            "<class 'pandas.core.frame.DataFrame'>\n",
            "RangeIndex: 2596558 entries, 0 to 2596557\n",
            "Data columns (total 8 columns):\n",
            " #   Column          Dtype  \n",
            "---  ------          -----  \n",
            " 0   ID              object \n",
            " 1   travel_fee      float64\n",
            " 2   departure_time  object \n",
            " 3   departure_long  float64\n",
            " 4   departure_lat   float64\n",
            " 5   arrival_long    float64\n",
            " 6   arrival_lat     float64\n",
            " 7   occupancy       int64  \n",
            "dtypes: float64(5), int64(1), object(2)\n",
            "memory usage: 158.5+ MB\n",
            "None\n",
            "2596558\n",
            "         travel_fee  departure_long  departure_lat  arrival_long  \\\n",
            "count  2.596558e+06    2.596558e+06   2.596558e+06  2.596514e+06   \n",
            "mean   1.259551e+01   -7.243741e+01   3.974318e+01 -7.239685e+01   \n",
            "std    1.081654e+01    1.125115e+01   9.133454e+00  1.143503e+01   \n",
            "min   -5.200000e+01   -7.400217e+02  -3.124490e+03 -1.216417e+03   \n",
            "25%    6.500000e+00   -7.399220e+01   4.073442e+01 -7.399147e+01   \n",
            "50%    9.500000e+00   -7.398186e+01   4.075236e+01 -7.398023e+01   \n",
            "75%    1.400000e+01   -7.396680e+01   4.076704e+01 -7.396362e+01   \n",
            "max    5.000000e+02    8.343336e+01   2.342817e+03  1.428740e+03   \n",
            "\n",
            "        arrival_lat     occupancy  \n",
            "count  2.596514e+06  2.596558e+06  \n",
            "mean   3.972336e+01  1.709320e+00  \n",
            "std    8.438912e+00  1.375425e+00  \n",
            "min   -3.111707e+03  0.000000e+00  \n",
            "25%    4.073352e+01  1.000000e+00  \n",
            "50%    4.075279e+01  1.000000e+00  \n",
            "75%    4.076779e+01  2.000000e+00  \n",
            "max    4.739714e+02  9.000000e+00  \n"
          ]
        }
      ],
      "source": [
        "import pandas as pd\n",
        "import matplotlib.pyplot as plt\n",
        "# Creating a DataFrame from a CSV file\n",
        "df = pd.read_csv('sample_data/dataset.csv')  # Replace 'data.csv' with your CSV file path\n",
        "\n",
        "#2.    Take a quick look at the data such as using head, describe, info\n",
        "print(df.head())\n",
        "print(df.info())\n",
        "print(len(df))\n",
        "print(df.describe())"
      ]
    },
    {
      "cell_type": "code",
      "source": [
        "from sklearn.model_selection import train_test_split\n",
        "import matplotlib.pyplot as plt\n",
        "\n",
        "train_set, test_set = train_test_split(df, test_size=0.2, random_state=42)\n",
        "\n",
        "print(\"Length of train_set:\", len(train_set))\n",
        "print(\"Length of test_set:\", len(test_set))"
      ],
      "metadata": {
        "id": "ucaEmado0hWC",
        "outputId": "2fc24341-c698-4714-c842-ce85031c370f",
        "colab": {
          "base_uri": "https://localhost:8080/"
        }
      },
      "execution_count": 5,
      "outputs": [
        {
          "output_type": "stream",
          "name": "stdout",
          "text": [
            "Length of train_set: 2077246\n",
            "Length of test_set: 519312\n"
          ]
        }
      ]
    }
  ]
}