{
  "nbformat": 4,
  "nbformat_minor": 0,
  "metadata": {
    "colab": {
      "provenance": [],
      "authorship_tag": "ABX9TyP8pxLAqLhRPl/V24UpB+1+",
      "include_colab_link": true
    },
    "kernelspec": {
      "name": "python3",
      "display_name": "Python 3"
    },
    "language_info": {
      "name": "python"
    }
  },
  "cells": [
    {
      "cell_type": "markdown",
      "metadata": {
        "id": "view-in-github",
        "colab_type": "text"
      },
      "source": [
        "<a href=\"https://colab.research.google.com/github/StephenSheng1101/DMAsgmnt/blob/main/Untitled1.ipynb\" target=\"_parent\"><img src=\"https://colab.research.google.com/assets/colab-badge.svg\" alt=\"Open In Colab\"/></a>"
      ]
    },
    {
      "cell_type": "code",
      "execution_count": 2,
      "metadata": {
        "id": "WC__wO889gCa",
        "outputId": "59aa97cc-4826-4e47-9c72-c2c45f66696e",
        "colab": {
          "base_uri": "https://localhost:8080/"
        }
      },
      "outputs": [
        {
          "output_type": "stream",
          "name": "stdout",
          "text": [
            "<class 'pandas.core.frame.DataFrame'>\n",
            "RangeIndex: 2596558 entries, 0 to 2596557\n",
            "Data columns (total 8 columns):\n",
            " #   Column          Dtype  \n",
            "---  ------          -----  \n",
            " 0   ID              object \n",
            " 1   travel_fee      float64\n",
            " 2   departure_time  object \n",
            " 3   departure_long  float64\n",
            " 4   departure_lat   float64\n",
            " 5   arrival_long    float64\n",
            " 6   arrival_lat     float64\n",
            " 7   occupancy       int64  \n",
            "dtypes: float64(5), int64(1), object(2)\n",
            "memory usage: 158.5+ MB\n",
            "None\n",
            "                               ID  travel_fee             departure_time  \\\n",
            "0   2013-07-02 19:54:00.000000232         7.0  2013-07-02 19:54:00+00:00   \n",
            "1     2013-09-28 00:21:31.0000002         5.5  2013-09-28 00:21:31+00:00   \n",
            "2   2013-06-16 03:18:00.000000150        21.5  2013-06-16 03:18:00+00:00   \n",
            "3   2013-07-20 13:43:00.000000121         9.5  2013-07-20 13:43:00+00:00   \n",
            "4     2013-11-05 22:57:17.0000003        15.5  2013-11-05 22:57:17+00:00   \n",
            "5   2013-09-11 11:03:00.000000165         6.0  2013-09-11 11:03:00+00:00   \n",
            "6    2013-04-21 14:39:00.00000098         9.5  2013-04-21 14:39:00+00:00   \n",
            "7     2013-12-07 18:37:43.0000005        12.0  2013-12-07 18:37:43+00:00   \n",
            "8     2013-06-10 06:51:10.0000003         8.0  2013-06-10 06:51:10+00:00   \n",
            "9   2013-09-01 17:21:00.000000133        16.5  2013-09-01 17:21:00+00:00   \n",
            "10  2013-01-19 16:15:00.000000125        17.0  2013-01-19 16:15:00+00:00   \n",
            "11   2013-11-30 15:58:00.00000074        10.5  2013-11-30 15:58:00+00:00   \n",
            "12    2013-12-11 11:25:38.0000002        11.5  2013-12-11 11:25:38+00:00   \n",
            "13  2013-01-07 09:25:00.000000168        10.5  2013-01-07 09:25:00+00:00   \n",
            "14    2013-07-23 15:52:14.0000004         7.5  2013-07-23 15:52:14+00:00   \n",
            "\n",
            "    departure_long  departure_lat  arrival_long  arrival_lat  occupancy  \n",
            "0       -74.005360      40.728867    -74.008913    40.710907          1  \n",
            "1       -74.014165      40.708941    -74.016310    40.716734          1  \n",
            "2       -73.991075      40.760352    -73.941382    40.713292          1  \n",
            "3       -74.002662      40.723630    -73.991722    40.748905          5  \n",
            "4       -73.962397      40.712705    -73.996834    40.680403          2  \n",
            "5       -73.990240      40.756407    -73.996077    40.764062          1  \n",
            "6       -73.956150      40.787467    -73.981548    40.780837          1  \n",
            "7       -73.976578      40.750400    -73.952335    40.780785          1  \n",
            "8       -73.986934      40.733549    -73.974015    40.754178          1  \n",
            "9       -73.804917      40.680112    -73.789827    40.643207          6  \n",
            "10      -74.000057      40.734980    -73.963182    40.714517          1  \n",
            "11      -73.955390      40.784537    -73.953777    40.767007          2  \n",
            "12      -74.003170      40.727787    -73.987384    40.749962          1  \n",
            "13      -73.993397      40.733445    -73.991157    40.755697          6  \n",
            "14      -73.982978      40.743639    -73.994121    40.746127          1  \n"
          ]
        }
      ],
      "source": [
        "import pandas as pd\n",
        "import matplotlib.pyplot as plt\n",
        "# Creating a DataFrame from a CSV file\n",
        "df = pd.read_csv('dataset.csv')  # Replace 'data.csv' with your CSV file path\n",
        "\n",
        "print(df.info())\n",
        "print(df.head(15))"
      ]
    }
  ]
}